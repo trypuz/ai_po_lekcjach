{
 "cells": [
  {
   "cell_type": "markdown",
   "id": "750184bc",
   "metadata": {},
   "source": [
    "# Wykrywanie chorób za pomocą rozpoznawania obrazów"
   ]
  },
  {
   "cell_type": "markdown",
   "id": "f8ce48dd",
   "metadata": {},
   "source": [
    "## Przykłady za stosowań rozpoznawania obrazów w medycynie"
   ]
  },
  {
   "cell_type": "markdown",
   "id": "fdcaad37",
   "metadata": {},
   "source": [
    "### Dermatologia\n",
    "\n",
    "- <span t=\"l1\">Czy znamię melanocytowe to czerniak (nowotwór złośliwy skóry)?</span>\n",
    "American Academy of Dermatology: ABCDE\n",
    "\n",
    "\n",
    "Znamię barwnikowe, melanocytowe (tzw. pieprzyki) to znamię z grupy barwnikowej, które swą nazwę zawdzięcza melaninie. \n",
    "\n",
    "Ta zmiana skórna to zbiór komórek, w których występuje nadmiar właśnie melaniny. Znamiona melanocytowe przyjmują różną wielkość oraz różne kształty, ich kolory są różnorodne, żółte, brązowe, niebieskie, a czasami są to po prostu odbarwione powierzchnie skóry. Zazwyczaj są to płaskie lub wypukłe zmiany. Niektóre mogą urosnąć nawet do dwudziestu centymetrów. Występują na twarzy, tułowiu oraz kończynach.\n",
    "\n",
    "Czerniak to nowotwór złośliwy komórek barwnikowych (melanocytów). \n",
    "\n",
    "ABCDE czerniaka, czyli jak rozpoznać czerniaka\n",
    "\n",
    "American Academy of Dermatology stworzyło ABCDE czerniaka, czyli kryteria oceny znamion, które mają pomóc w samodzielnej kontroli zdrowia i odróżnieniu pieprzyka od czerniaka.\n",
    "\n",
    "A jak asymetria – czerniak ma nieregularny i nierówny kształt: nie będzie zatem owalny czy okrągły, a bardziej będzie przypominać rozlaną plamkę z atramentu.\n",
    "B, czyli brzegi (ang. border) – krawędzie pieprzyka objętego zmianami nowotworowymi będą nieregularne, poszarpane.\n",
    "C od ang. color – czerniak jest wielobarwny. Dominuje w nim kolor brązowy, czarny lub opalony z białymi, czerwonymi lub niebieskimi przebarwieniami.\n",
    "D jak ang. diameter, czyli średnica, która wynosi więcej niż 6 mm – to grubość przeciętnego ołówka lub długopisu.\n",
    "E jak ewolucja – nowotwór skóry zmienia swoją wielkość, kształt i kolor. Dlatego tak ważne jest regularne oglądanie pieprzyków na swoim ciele, aby móc zauważyć wszelkie anomalie.\n",
    "\n",
    "\n",
    "\n",
    "\n",
    "\n",
    "\n",
    "AI lepsza od dermatologa\n"
   ]
  },
  {
   "cell_type": "code",
   "execution_count": null,
   "id": "25612c92",
   "metadata": {},
   "outputs": [],
   "source": []
  }
 ],
 "metadata": {
  "kernelspec": {
   "display_name": "Python 3 (ipykernel)",
   "language": "python",
   "name": "python3"
  },
  "language_info": {
   "codemirror_mode": {
    "name": "ipython",
    "version": 3
   },
   "file_extension": ".py",
   "mimetype": "text/x-python",
   "name": "python",
   "nbconvert_exporter": "python",
   "pygments_lexer": "ipython3",
   "version": "3.8.16"
  }
 },
 "nbformat": 4,
 "nbformat_minor": 5
}
