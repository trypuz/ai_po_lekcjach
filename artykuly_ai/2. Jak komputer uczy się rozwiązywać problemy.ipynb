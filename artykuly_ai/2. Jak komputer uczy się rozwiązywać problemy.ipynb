{
 "cells": [
  {
   "cell_type": "markdown",
   "id": "a07f3846",
   "metadata": {},
   "source": [
    "# Jak komputer uczy się rozwiązywać problemy?"
   ]
  },
  {
   "cell_type": "markdown",
   "id": "aed036e7",
   "metadata": {},
   "source": [
    "## INTRO"
   ]
  },
  {
   "cell_type": "markdown",
   "id": "2a7d0c9c",
   "metadata": {},
   "source": [
    "### Wprowadzenie\n",
    "\n",
    "<span t=\"l1\">Wiemy już, że sztuczne inteligencje są programami komputerowymi i że automatyzują procesy myślowe, które zwykle są domeną ludzi.</span>\n",
    "\n",
    "<span t=\"l1\">Wspomnieliśmy już, że programowanie sztucznej inteligencji, często określanym jako trenowanie.</span> <span t=\"l2\">Proces ten polega na kreowaniu w komputerze specjalnego środowiska, zazwyczaj opartego na sztucznych sieciach neuronowych.</span> <span t=\"l2\">W takim środowisku komputer samodzielnie opracowuje rozwiązania problemów, korzystając z licznych przykładów zawartych w zbiorze treningowym.</span>\n",
    "\n",
    "<span t=\"l1\">Ale, jak dokładnie to się odbywa?</span>"
   ]
  },
  {
   "cell_type": "markdown",
   "id": "6795c944",
   "metadata": {},
   "source": [
    "## I. Proces uczenia się homo sapiens, czyli jak się uczymy"
   ]
  },
  {
   "attachments": {},
   "cell_type": "markdown",
   "id": "a2700fdc",
   "metadata": {},
   "source": [
    "### Jak się uczymy?\n",
    "\n",
    "<span t=\"l1\">Proces uczenia się komputera, czyli uczenia maszynowego, czerpie inspirację z pewnych aspektów ludzkiego zdobywania wiedzy.</span>\n",
    "\n",
    "<span t=\"l1\">Uczymy się poprzez tworzenie wewnętrznych modeli świata. </span>\n",
    "<span t=\"l1\">Termin \"model\" należy rozumieć, jako pewien uproszczony sposób reprezentacji czegoś innego: </span>\n",
    "<span t=\"l2\">na przykład, mapa Lublina jest modelem Lublina. </span>\n",
    "<span t=\"l1\">Jest oczywiste, że nie wyczytamy z mapy Lublina wszystkiego o Lublinie; to jedynie uproszczona reprezentacja przestrzennych zależności między budynkami i innymi obiektami.</span>\n",
    "\n"
   ]
  },
  {
   "cell_type": "markdown",
   "id": "9bd9dc6b",
   "metadata": {},
   "source": [
    "<span t=\"l1\">Nasz mózg przechowuje mnóstwo modeli, czy mentalnych map. </span>\n",
    "<span t=\"l1\">Mamy w nim częściowe mapy miast i centrów handlowych, które odwiedziliśmy, mapę naszego mieszkania, i wiele innych.</span>\n",
    "\n",
    "\n",
    "<img src=\"../img/mental_maps.png\" width=\"300\">"
   ]
  },
  {
   "cell_type": "markdown",
   "id": "b212d856",
   "metadata": {},
   "source": [
    "<span t=\"l1\">Modele jakie posiada mózg mogą być też bardziej dynamiczne; mogą one przypominać “filmy instruktażowe”, np.</span> <span t=\"l2\">jak używać gorącego kleju</span>, <span t=\"l2\">jak prowadzić auto</span>, <span t=\"l2\">jak zagrać temat utworu Mr. P.C. Johna Coltrane na gitarze</span>, <span t=\"l2\">itd.</span> <span t=\"l1\">Uczenie się polega na tworzeniu takich wewnętrznych modeli/mentalnych map.</span>\n",
    "\n",
    "<span t=\"l1\">Nie uświadamiamy sobie istnienia tych modeli.</span> <span t=\"l2\">Na przykład każdy z nas, posługujący się językiem polskim, ma model tego języka zapisany w swoim mózgu.</span> <span t=\"l2\">Mamy modele osób, które znamy, ich wyglądu, tonu głosu, ich wrażliwości emocjonalnej - dzięki tym modelom możemy odgrywać w głowie sceny spotkania z nimi, a nawet tworzyć całe dialogi.</span>\n",
    "\n"
   ]
  },
  {
   "cell_type": "markdown",
   "id": "71b73ce8",
   "metadata": {},
   "source": [
    "<span t=\"l1\">Uczymy się, czyli tworzymy wewnętrzne modele, od pierwszych miesięcy, obserwując świat wokół siebie, eksperymentując, czyli próbując różnych nowych rzeczy, czy wchodząc w interakcje z innymi. </span>\n",
    "<span t=\"l1\">Nasze pierwsze modele nie muszą być od razu poprawne. </span>\n",
    "<span t=\"l1\">Dzięki popełnianym w naszym życiu błędom i **neuroplastyczności**, czyli zdolności mózgu do zmiany w odpowiedzi na doświadczenia, mamy szansę na ciągłą aktualizację naszych wewnętrznych modeli świata. </span>\n",
    "<span t=\"l1\">To co jest fundamentem procesu uczenia się to:</span> \n",
    "    <span t=\"l2\">ciągła interakcja z otoczeniem</span>, \n",
    "    <span t=\"l2\">popełnianie błędów</span> i \n",
    "    <span t=\"l2\">aktualizacja modeli.</span>\n",
    "\n"
   ]
  },
  {
   "cell_type": "markdown",
   "id": "dc5bf6d7",
   "metadata": {},
   "source": [
    "<span t=\"l1\">Dzięki neuronauce wiemy, że nie rodzimy się jako czysta karta.</span> <span t=\"l2\">To jaki będzie nasz mózg jest zapisane w naszym genomie jeszcze zanim pojawią się pierwsze jego neurony</span>. <span t=\"l2\">A gdy już mózg powstanie, różne jego obszary od samego początku są gotowe do rozpoznawania twarzy ludzi, czy przyswajania języka.</span>\n",
    "\n",
    "<span t=\"l1\">Ucząc się sprawiamy, że same neurony jak i połączenia pomiędzy nimi ulegają zmianom (utrwalają się), aby lepiej odzwierciedlać powtarzające się wzorce informacji, które mózg otrzymuje.</span> <span t=\"l1\">Ludzki mózg jest efektywny w rozpoznawaniu wzorców i łączeniu różnorodnych informacji, co umożliwia nam szybkie i efektywne przetwarzanie danych sensorycznych, takich jak obrazy i dźwięki.</span>"
   ]
  },
  {
   "cell_type": "markdown",
   "id": "80cf6b58",
   "metadata": {},
   "source": [
    "### Uczenie się maszyny, czyli uczenie maszynowe\n",
    "\n",
    "<span t=\"l1\">Uczenie się maszyny, czyli uczenie maszynowe, do pewnego stopnia, naśladuje zdolność ludzkiego mózgu do identyfikacji i nauki wzorców.</span> <span t=\"l1\">I tak jak nasze uczenie się opiera się na określonej strukturze naszego mózgu, tak i uczenie maszynowe będzie opierało się na określonej strukturze sztucznych sieci neuronowych.</span>"
   ]
  },
  {
   "cell_type": "markdown",
   "id": "bad6c261",
   "metadata": {},
   "source": [
    "## II. Jakie inteligentne zadania może dziś wykonywać komputer?"
   ]
  },
  {
   "cell_type": "markdown",
   "id": "4efe3726",
   "metadata": {},
   "source": [
    "### Co już dziś może AI?\n",
    "\n",
    "Zanim powiemy na czym polega uczenie maszynowe, zróbmy listę inteligentnych zadań, jakie są obecnie w zasięgu komputerów. Zrozumienie co już dziś może AI będzie dla nas dodatkową motywacją do zrozumienia jak to jest możliwe...\n",
    "\n",
    "<span t=\"l1\">**Rozpoznawanie obiektów na zdjęciach**</span>\n",
    "\n",
    "<span t=\"l2\">Komputery są obecnie zdolne do identyfikacji i klasyfikacji obiektów na zdjęciach z dokładnością zbliżoną do zdolności ludzkich. Umożliwia to, między innymi, automatyczne tagowanie fotografii w mediach społecznościowych oraz rozpoznawanie obiektów przez samochody autonomiczne.</span>\n",
    "\n",
    "<span t=\"l1\">**Rozpoznawanie i generowanie mowy**</span>\n",
    "\n",
    "<span t=\"l2\">Dzisiejsze technologie umożliwiają komputerom nie tylko rozpoznawanie mowy na poziomie zbliżonym do ludzkiego, ale także generowanie naturalnie brzmiących wypowiedzi. Przykładami tego typu technologii są asystenci głosowi, tacy jak Alexa czy Siri.</span>\n",
    "\n",
    "\n"
   ]
  },
  {
   "cell_type": "markdown",
   "id": "115f52c1",
   "metadata": {},
   "source": [
    "<span t=\"l1\">**Tłumaczenie tekstów**</span>\n",
    "\n",
    "<span t=\"l2\">Komputery są w stanie tłumaczyć teksty pomiędzy różnymi językami z imponującą dokładnością i płynnością.</span>\n",
    "\n",
    "<span t=\"l1\">**Tworzenie opowiadań i obrazów**</span>\n",
    "\n",
    "<span t=\"l2\">Komputery potrafią również generować kreatywne treści, takie jak opowieści czy obrazy. Dzięki zaawansowanym algorytmom są one w stanie tworzyć realistyczne i spójne narracje, a także generować obrazy na podstawie opisów tekstowych.</span>\n"
   ]
  },
  {
   "cell_type": "markdown",
   "id": "4c08781d",
   "metadata": {},
   "source": [
    "<span t=\"l1\">**Analiza sentymentu tekstu**</span>\n",
    "\n",
    "<span t=\"l2\">Komputery mogą analizować tekst pod kątem emocji i tonu wyrażonego przez autora. Przykładowo, mogą określić, czy dana recenzja produktu jest pozytywna czy negatywna.</span>\n",
    "\n",
    "<span t=\"l1\">**Gry i symulacje**</span>\n",
    "\n",
    "<span t=\"l2\">Komputery są zdolne do podejmowania strategicznych decyzji w grach i symulacjach, często przewyższając umiejętności ludzkie. Przykładem jest AlphaGo, program komputerowy, który pokonał mistrza gry w Go.</span>\n",
    "\n"
   ]
  },
  {
   "cell_type": "markdown",
   "id": "1f3f54a5",
   "metadata": {},
   "source": [
    "<span t=\"l1\">**Diagnostyka medyczna**</span>\n",
    "\n",
    "<span t=\"l2\">Dzięki uczeniu maszynowemu, komputery mogą wspierać diagnozowanie chorób, analizując wyniki badań obrazowych i laboratoryjnych z precyzją porównywalną lub nawet przewyższającą umiejętności lekarzy.</span>\n",
    "\n",
    "<span t=\"l1\">**Automatyzacja procesów biznesowych**</span>\n",
    "\n",
    "<span t=\"l2\">Komputery potrafią automatyzować wiele rutynowych zadań, takich jak obsługa klienta (chatboty) czy podejmowanie decyzji o przyznaniu kredytu.</span>\n",
    "\n",
    "\n",
    "\n",
    "Znając już możliwości AI, przejdźmy do zrozumienia, jak to jest możliwe..."
   ]
  },
  {
   "cell_type": "markdown",
   "id": "9e22c82b",
   "metadata": {},
   "source": [
    "## III. Czego potrzebujemy, aby komputer mógł się czegoś nauczyć?\n"
   ]
  },
  {
   "cell_type": "markdown",
   "id": "ee101538",
   "metadata": {},
   "source": [
    "### Czego potrzebuje AI, aby się uczyć?\n",
    "\n",
    "<span t=\"l1\">Aby umożliwić komputerowi naukę wykonania konkretnego zadania konieczne jest spełnienie trzech warunków.</span> <span t=\"l1\">Dla łatwiejszego zrozumienie, wyjaśnijmy rzecz na przykładzie znanego problemu/zadania rozpoznawania ręcznie pisanych cyfr od 0 do 9.</span>\n"
   ]
  },
  {
   "cell_type": "markdown",
   "id": "7b4829b9",
   "metadata": {},
   "source": [
    "<span t=\"l1\">**1) Dane treningowe**</span>. <span t=\"l1\">W przypadku rozpoznawania ręcznie pisanych cyfr, dane treningowe stanowią zbiór obrazów przedstawiających cyfry od 0 do 9. Zazwyczaj potrzebujemy setek obrazków każdej cyfry, aby komputer mógł nauczyć się różnorodności form i stylów pisania. Każdy obrazek powinien być opisany, co w tym kontekście oznacza przypisanie mu odpowiedniej cyfry, której dotyczy. Te opisy, zwane etykietami (ang. label), umożliwiają komputerowi zrozumienie, co jest przedstawione na każdym obrazku.</span>\n"
   ]
  },
  {
   "cell_type": "markdown",
   "id": "2c57a7ca",
   "metadata": {},
   "source": [
    "<span t=\"l1\">**2) Sztuczna sieć neuronowa**</span>. <span t=\"l1\">Aby komputer mógł przetwarzać i uczyć się z danych treningowych, potrzebujemy środowiska, w którym będzie się to odbywać, czyli sztucznej sieci neuronowej. Sztuczne sieci neuronowe są zdolne do nauki i rozpoznawania wzorców w danych, co jest kluczowe w procesie uczenia maszynowego.</span>"
   ]
  },
  {
   "cell_type": "markdown",
   "id": "bf38810d",
   "metadata": {},
   "source": [
    "<span t=\"l1\">**3) Metoda oceny**</span>. <span t=\"l1\">Konieczne jest posiadanie metody, która pozwala ocenić, czy sztuczna sieć neuronowa uczy się poprawnie i czy osiągnęła pożądany poziom dokładności.\n",
    "Metoda zmiany. Konieczne jest posiadanie metody zmiany ustawień/parametrów sieci w przypadku błędnego jej działania.</span>"
   ]
  },
  {
   "cell_type": "markdown",
   "id": "2dcac661",
   "metadata": {},
   "source": [
    "### Przykład\n",
    "\n",
    "<span t=\"l1\">Załóżmy więc, że pierwszy punkt jest spełniony i posiadamy odpowiednie dane treningowe. Na przykład możemy skorzystać z dostępnej publicznie bazy danych obrazków MNIST zawierającej ręcznie pisane cyfry, składającej się z 70 000 przykładów!</span>\n",
    "\n",
    "<img src=\"../img/mnist_plot.png\" width=\"400\">\n",
    "\n",
    "\n",
    "<span t=\"l1\">Jak jednak zbudować sztuczną sieć neuronową i co to w ogóle jest?</span>"
   ]
  },
  {
   "cell_type": "markdown",
   "id": "ce8bda93",
   "metadata": {},
   "source": [
    "## IV. Od neuronu biologicznego do sztucznej sieci neuronowej\n"
   ]
  },
  {
   "cell_type": "markdown",
   "id": "de5cbb04",
   "metadata": {},
   "source": [
    "### Neuron biologiczny\n",
    "\n",
    "<span t=\"l1\">Sposób działania sztucznego neuronu czerpie swoją inspirację z neuronu biologicznego.</span>\n",
    "\n",
    "<span t=\"l1\">Biologiczny neuron to komórka, która odbiera, generuje i przekazuje impulsy.</span> \n",
    "\n",
    "<img src=\"../img/neuron_mt2.png\" width=\"400\">\n",
    "Pluszowy neuron uszyty przez Marysię Trypuz, lat 12"
   ]
  },
  {
   "cell_type": "markdown",
   "id": "934e2750",
   "metadata": {},
   "source": [
    "Działa to tak... <span t=\"l1\">Dendryty, czyli wypustki neuronu, odbierają impulsy od innych neuronów lub od receptorów zmysłów.</span> <span t=\"l1\">Gdy suma impulsów osiągnie pewien próg, neuron generuje impuls elektryczny, który przemieszcza się aksonem do innych komórek przez synapsy</span> (sposób działania synaps nie jest nam tu niezbędny, ale... warto dodać, że <span t=\"l2\">gdy impuls elektryczny dociera do końca neuronu na granicę synapsy i \"chce\" przejść do innego neuronu napotyka wyzwanie: przerwa między neuronami, zwana szczeliną synaptyczną, nie przewodzi impulsu elektrycznego</span>; <span t=\"l2\">w tym momencie w grę wchodzą substancje chemiczne zwane neurotransmiterami, które neuron wysyła do tej szczeliny; przemieszczają się one przez szczelinę synaptyczną i łączą się z receptorami na neuronie odbierającym i wówczas generowany jest nowy impuls elektryczny</span>)."
   ]
  },
  {
   "cell_type": "markdown",
   "id": "3bef50c7",
   "metadata": {},
   "source": [
    "### Sztuczny neuron\n",
    "\n",
    "<span t=\"l1\">Sztuczny neuron: ma coś na kształt dendrytów - są to liczby wejściowe.  Są one następnie, podobnie jak impulsy neuronu biologicznego, sumowane i przekazywane do specjalnej funkcji aktywacji, która decyduje jak silna będzie reakcja neuronu.</span>\n",
    "\n",
    "<img src=\"../img/neuron.png\" width=\"500\">"
   ]
  },
  {
   "cell_type": "markdown",
   "id": "4e598c3b",
   "metadata": {},
   "source": [
    "<span t=\"l1\">Sztuczny neuron przyjmuje impulsy `s1, ..., s4`, waży je, czyli przemnaża je przez wartości wag: `w1, ..., w4`, a następnie sumuje ważone impulsy: `w1 x s1 + w2 x s2 + w3 x s3 + w4 x s4` i przekazuje je do funkcji aktywacji wyliczającej wynik `1` lub `0`.</span> \n",
    "\n",
    "\n",
    "<span t=\"l1\">Na przykład, taka funkcja aktywacji może określić próg, wartości `0.5`, i jeśli suma impulsów przekroczy go, to zwracana jest wartość `1`, co odpowiada powstaniu impulsu elektrycznego w neuronie biologicznym, albo `0`, co oznaczałoby brak impulsu.</span> \n",
    "\n",
    "\n",
    "<span t=\"l1\">Aktywacja sztucznego neuronu nie musi być binarna `0` albo `1`. Może być też zdefiniowana np. jako wartość z przedziału `[0,1]` - czym mocniejszy sygnał wejściowy, tym większa wartość aktywacji.</span> "
   ]
  },
  {
   "cell_type": "markdown",
   "id": "fc0946d4",
   "metadata": {},
   "source": [
    "<span t=\"l1\">Podobnie jak neuron biologiczny nie traktuje wszystkich dendrytów tak samo \"poważnie\", tzn. impulsy od jednych dendrytów traktuje jako ważniejsze niż od innych, sztuczny neuron również waży swoje dane wejściowe. </span>\n",
    "<span t=\"l1\">To ważenie w praktyce polega na przemnożeniu impulsu przez ułamek, co skutkuje zmniejszeniem wartości takiego sygnału. Na przykład przemnażając sygnał o wartości `1` przez `0.5` otrzymamy `0.5`, czyli wartość sygnału zmniejszyła się o połowę.</span>\n"
   ]
  },
  {
   "cell_type": "markdown",
   "id": "e693f52f",
   "metadata": {},
   "source": [
    "### Sieć neuronowa \n",
    "<span t=\"l1\">Oczywiście jeden neuron nie jest w stanie wiele zdziałać. Aby rozwiązywać inteligentne zadania, neurony muszą być połączone w sieć.</span>\n",
    "\n",
    "\n",
    "<span t=\"l1\">Sztuczna sieć neuronowa złożona z 15 neuronów:</span>\n",
    "<img src=\"../img/nn.png\" width=\"500\">\n",
    "\n",
    "\n",
    "<span t=\"l1\">Gdy opisujemy sztuczne sieci neuronowe zwykle wyróżniamy warstwy neuronów. Mamy więc warstwę wejściową, która przyjmuje wartości liczbowe wyrażające impulsy, mamy warstwę wyjściową oraz dowolnie wiele warstw pomiędzy warstwą wejściową i wyjściową, które nazywamy warstwami ukrytymi. </span>\n"
   ]
  },
  {
   "cell_type": "markdown",
   "id": "76637eb9",
   "metadata": {},
   "source": [
    "### Sieć jest modelem matematycznym\n",
    "<span t=\"l1\">Ważne jest, aby zrozumieć, że neurony w sztucznych sieciach neuronowych, które się dziś używa, nie są niczym fizycznym; są to po prostu jednostki obliczeniowe, a sama sieć jest modelem matematycznym.</span>\n"
   ]
  },
  {
   "cell_type": "markdown",
   "id": "108017b5",
   "metadata": {},
   "source": [
    "### Neuron jako ekspert\n",
    "\n",
    "<span t=\"l1\">Możemy metaforycznie myśleć o każdym neuronie w sieci jako o ekspercie.</span>\n",
    "<img src=\"../img/neuron_ekspert.png\" width=\"300\">"
   ]
  },
  {
   "cell_type": "markdown",
   "id": "1c33a880",
   "metadata": {},
   "source": [
    "<span t=\"l1\">I tak... </span>\n",
    "<span t=\"l2\">W warstwie wejściowej będą neurony/eksperci, które przyjmują bezpośrednio dane wejściowe. </span>\n",
    "<span t=\"l2\">Następnie przekazują je do neuronów/ekspertów w pierwszej warstwie ukrytej. </span>\n",
    "<span t=\"l2\">Ci analizują te dane i w pewnej przetworzonej formie przekazują je dalej do ekspertów w drugiej warstwie ukrytej. </span>\n",
    "<span t=\"l2\">Ci czynią podobnie: analizują i przetwarzają. </span>\n",
    "<span t=\"l2\">Rezultat swoich “przemyśleń” ostatnia warstwa ukryta przekazuje do ekspertów z warstwy wyjściowej, którzy muszą podjąć decyzję, która zależy od typu problemu.</span>"
   ]
  },
  {
   "cell_type": "markdown",
   "id": "62f3a0ed",
   "metadata": {},
   "source": [
    "## V. Przykład sieci (już nauczonej)\n"
   ]
  },
  {
   "cell_type": "markdown",
   "id": "1cf45f6a",
   "metadata": {},
   "source": [
    "Wróćmy do problemu rozpoznawania ręcznie pisanych cyfr od 0 do 9.\n",
    "\n",
    "\n",
    "Sztuczna sieć neuronowa rozpoznająca ręcznie napisanych cyfr od 0 do 9\n",
    "\n",
    "\n",
    "W takim przypadku, działanie (wcześniej nauczonej) sztucznej sieci neuronowej będzie wyglądało następująco.\n",
    "\n",
    "Warstwa wejściowa neuronów/ekspertów przyjmie dane wejściowe w postaci obrazka (na którym jest cyfra \"6\" - jak na obrazku powyżej).\n",
    "\n",
    "Ponieważ obrazki składają się z pikseli, czyli pojedynczych kwadracików, to nasza sieć musi mieć w warstwie wejściowej tyle neuronów ile jest pikseli. Jeśli mamy obrazki o wielkości 28 na 28 pikseli (czyli mamy szachownicę 28x28), to wszystkich pikseli jest 28 razy 28, czyli 784. Jeśli mamy obrazki czarno-białe, to każdy piksel może być reprezentowany za pomocą liczby od 0 - 255, gdzie 0 oznacza czarny, a 255 biały, a wszystko pomiędzy będzie skalą szarości.\n",
    "\n",
    "Czyli w warstwie wejściowej mamy 784 neuronów/ekspertów i każdy przyjmuje \"impuls\" w postaci wartość koloru (0-255) od dokładnie jednego piksela. Następnie każdy neuron/ekspert z warstwy wejściowej przekazuje te dane do każdego neuronu/eksperta z pierwszej warstwy ukrytej. Każdy ekspert z pierwszej warstwy ukrytej waży po swojemu informacje, które do niego dochodzą, przetwarza je i przekazuje do każdego eksperta w kolejnej warstwie ukrytej. Proces ten kontynuowany jest aż do momentu, gdy neurony/eksperci z ostatniej warstwy ukrytej przekażą swoje przetworzone wartości do warstwy wyjściowej.\n",
    "\n",
    "W warstwie wyjściowej dla tego problemu mamy 10 neuronów/ekspertów, każdy jest ekspertem od jednej z cyfr 0-9. Pierwszy od “0”, drugi od “1”, i ostatni od “9”. Każdy z nich wyrazi swoją opinię, która przez sieć zostanie przedstawiona ostatecznie w postaci prawdopodobieństwa, czyli stopnia pewności. Można więc powiedzieć, że pierwszy ekspert oceni prawdopodobieństwo, że na obrazku jest cyfra \"0\", drugi oceni prawdopodobieństwo obecności cyfry \"1\", a ostatni - cyfry \"9\". Jeśli sieć jest dobrze wytrenowana, to neuron - ekspert odpowiedzialny za cyfrę \"6\" - powinien wyrazić się z najwyższą pewnością."
   ]
  },
  {
   "cell_type": "markdown",
   "id": "adc2c174",
   "metadata": {},
   "source": []
  },
  {
   "cell_type": "markdown",
   "id": "e3e17a25",
   "metadata": {},
   "source": []
  },
  {
   "cell_type": "markdown",
   "id": "8a4d94a2",
   "metadata": {},
   "source": [
    "## VI. Jak uczy się sztuczna sieć neuronowa?\n"
   ]
  },
  {
   "cell_type": "markdown",
   "id": "3567518e",
   "metadata": {},
   "source": [
    "Celem procesu uczenia sztucznej sieci neuronowej jest nauczenie jej prawidłowego odwzorowywania danych na ich etykiety, na przykład, odwzorowania obrazków na odpowiadające im cyfry od 0 do 9.\n",
    "\n",
    "Aby to osiągnąć, każdy neuron/ekspert, zostaje wyposażony w zestaw wag, przy czym każda waga odpowiada jednemu sygnałowi wejściowemu, w naszym przykładzie, jednemu pikselowi obrazka.\n",
    "\n",
    "Na początku procesu uczenia każdy neuron inicjuje wartości wag losowo. Zazwyczaj są to bardzo małe wartości, co można interpretować jako początkowy sceptycyzm neuronu co do jakości sygnałów wejściowych.\n",
    "\n",
    "Uczenie ma dwa kierunki, nazwijmy je: czerwony i zielony.\n",
    "\n",
    "\n",
    "Kierunki uczenia: strzałka czerwona to propagacja \"do przodu\" i strzałka zielona to propagacja wsteczna.\n",
    "\n",
    "\n",
    "Kierunek czerwony (propagacja \"do przodu\") to prosty proces przyjmowania przez neurony kolejnych warstw wartości od wszystkich neuronów z warstwy poprzedniej, ważenie tych sygnałów (czyli przemnożenie tych sygnałów przez wagi), określenie poziomu aktywacji w oparciu o tę ważoną sumę sygnałów i przekazanie impulsu dalej.\n",
    "\n",
    "W tym konkretnym przykładzie, warstwa wyjściowa, składa się z 10 neuronów/ekspertów i ma ciekawą funkcję aktywacji, która nazywa się softmax. Każdy neuron/ekspert warstwy wyjściowej przyjmie impuls od każdego neuronu ostatniej warstwy wyjściowej, wygeneruje ważoną sumę i przekaże tę sumę do funkcji sofmax. Softmax na tej podstawie, przypisze każdemu neuronowi prawdopodobieństwo/stopień pewności. Największa suma będzie miała najwyższe prawdopodobieństwo.\n",
    "\n",
    "Na przykład, wartości sumy dla kolejnych neuronów, odpowiadających za rozpoznawanie cyfr 0, 1, ...9, mogą być następujące:\n",
    "\n",
    "2, 1, 0, 5, 1, 0, 0, 2, 1, 4\n",
    "\n",
    "a softmax przekształci je na prawdopodobieństwa (sposób wyliczenia pomijam):\n",
    "\n",
    "3.2%, 1.1%, 0.4%, 64.8%, 1.1%, 0.4%, 0.4%, 3.2%, 1.1%, 23.8%.\n",
    "\n",
    "Oznacza to, że sieć jest prawie w 65% pewna, że na obrazku jest cyfra 3, w około 24% że to 9, itd.\n",
    "\n",
    "Jeśli założymy, że obrazek na wejściu przedstawia \"6\" (jak to jest w przykładzie powyżej), to sieć dokonała błędnej predykcji: \"3\". Kiedy sieć dokona predykcji, od razu dowiaduje się, czy była ona poprawna czy nie, dzięki specjalnej funkcji straty, która porównuje prognozę sieci (3) z oczekiwaną odpowiedzią (6). Funkcję straty można wyobrazić sobie jako miernik rozbieżności między prognozami modelu a rzeczywistymi etykietami. Jeśli prognozy modelu są bliskie prawdziwym etykietom, strata jest niska. Jeśli są one bardzo rozbieżne, strata jest wysoka. Funkcja straty jest metodą oceny jak sieć radzi sobie podczas uczenia.\n",
    "\n",
    "Mając wartość błędu/straty przechodzimy do strzałki zielonej. Tutaj wartość błędu odbiera tzw. optymalizator, którego zadaniem jest wprowadzenie zmian w wartości wag, które posiadają neurony/eksperci. Innymi słowy, optymalizator znajduje neurony odpowiedzialne za powstanie błędu i odpowiednio zmienia wartości wag, którymi posługiwały się te neurony podczas błędnej predykcji. Optymalizator dzięki specjalnemu algorytmowi “propagacji wstecznej” dokładnie wie, które neurony są odpowiedzialne za błędną predykcję i w jaki sposób zmienić ich wagi. Algorytm “propagacji wstecznej” to jedno z największych osiągnięć w rozwoju AI. Dzięki niemu proces uczenia się sztucznych sieci neuronowych może być w pełni zautomatyzowany.\n",
    "\n",
    "\n",
    "\n",
    "Proces uczenia się sztucznych sieci neuronowych jest iteracyjny: sieć przyjmuje kolejny obrazek, dokonuje predykcji (kierunek czerwony), następnie koryguje wagi (kierunek zielony) i tak dalej. Dzięki temu procesowi iteracyjnemu, sieć poprawia swoje predykcje w każdej iteracji, zbliżając się do celu prawidłowego rozpoznawania cyfr na obrazkach.\n",
    "\n",
    "Dodajmy, że wagi, którymi dysponują neurony, nazywa się również parametrami sieci. Suma wszystkich wag/parametrów wszystkich neuronów sieci jest często miarą jej złożoności.\n",
    "\n",
    "\n",
    "\n",
    "Korygowanie, czy dostrajanie parametrów sieci neuronowej można porównać do działania gitarzysty lub gitarzystki, którzy dążą do osiągnięcia idealnego brzmienia swojego instrumentu... oczywiście zakładając, że wiedzą, jakiego brzmienia szukają.\n",
    "\n",
    "\n",
    "Dostrajanie parametrów sztucznej sieci neuronowej można porównać do gitarzysty lub gitarzystki, którzy dążą do osiągnięcia idealnego brzmienia swojego instrumentu. (DALLE 2023)\n",
    "Na przykład, w efekcie Overdrive, który nadaje gitarze charakterystyczny, przesterowany ton, gitarzyst(k)a ustawia potencjometr Gain na 70%, co pozwala na silny, ale nie dominujący przester, a potencjometr Tone na około 60%, co daje bogatsze harmoniczne brzmienie bez bycia zbyt ostrym w wysokich tonach. W efekcie Delay, który zapewnia efekt echa, dodając głębi i przestrzenności dźwiękowi, ustawia potencjometr Time na 300 ms, co daje naturalne echo bez zbyt dużego przesunięcia w czasie, i potencjometr Feedback na 30%, co pozwala na kilka powtórzeń echa bez nadmiernego zagęszczenia.... Każdy, nawet nieznaczny obrót, każdego potencjometru jest ważnym krokiem w kreowaniu unikalnego brzemienia. Gitarzyst(k)a może spędzić całe dnie kręcąc różnymi potencjometrami, aż znajdzie brzmienie, którego szukał(a).\n",
    "\n",
    "Powyższa analogia z gitarzystą i efektami gitarowymi nasunęła mi się kiedyś, gdy czytałem o pierwszej samouczące się sztucznej sieci neuronowej, SNARC, która była złożona z 40 fizycznych neuronów takiej oto postaci:\n",
    "\n",
    "\n",
    "Sztuczny neuron sieci SNARC\n",
    "Ten wystający po prawej stronie bolec, to potencjometr pokręcając którym zmniejszało się, albo zwiększało wagę neuronu. Do historii AI i sieci SNARC wrócimy jeszcze w kolejnych odcinkach. Niecierpliwi mogą posłuchać opowieści samego twórcy SNARC, Marvina Lee Minsky'ego:"
   ]
  },
  {
   "cell_type": "markdown",
   "id": "64664b15",
   "metadata": {},
   "source": [
    "## OUTRO"
   ]
  },
  {
   "cell_type": "markdown",
   "id": "2a29e363",
   "metadata": {},
   "source": []
  },
  {
   "cell_type": "markdown",
   "id": "fcb7b0de",
   "metadata": {},
   "source": [
    "Powiedzieliśmy, że\n",
    "\n",
    "Proces uczenia maszynowego, do pewnego stopnia, naśladuje zdolność ludzkiego mózgu do identyfikacji i nauki wzorców. I tak jak nasze uczenie się opiera się na określonej strukturze naszego mózgu, tak i uczenie maszynowe będzie opierało się na określonej strukturze sztucznych sieci neuronowych.\n",
    "\n",
    "Komputery obecnie potrafią wykonywać wiele inteligentnych zadań, takich jak: rozpoznawanie obiektów na zdjęciach, generowanie mowy, tłumaczenie tekstów, tworzenie kreatywnych treści, analiza sentymentu, podejmowanie decyzji w grach, diagnostyka medyczna oraz automatyzacja procesów biznesowych.\n",
    "\n",
    "Aby nauczyć komputer wykonywania zadania, potrzebne są odpowiednie dane treningowe, sztuczna sieć neuronowa oraz metody oceny skuteczności uczenia oraz korekty parametrów sieci.\n",
    "\n",
    "Sztuczne sieci neuronowe, inspirowane działaniem neuronów biologicznych, składają się z warstw neuronów, które przetwarzają i ważą dane wejściowe, a następnie przekazują je przez funkcje aktywacji do kolejnych warstw, aby finalnie podjąć decyzję w warstwie wyjściowej.\n",
    "\n",
    "Uczenie sztucznej sieci neuronowej polega na iteracyjnym procesie, w którym sieć dokonuje predykcji poprzez ważenie sygnałów wejściowych przy użyciu wstępnie losowo inicjowanych wag, a następnie koryguje te wagi za pomocą optymalizatora i algorytmu propagacji wstecznej, aby zminimalizować błąd pomiędzy prognozami a rzeczywistymi etykietami."
   ]
  }
 ],
 "metadata": {
  "kernelspec": {
   "display_name": "Python 3 (ipykernel)",
   "language": "python",
   "name": "python3"
  },
  "language_info": {
   "codemirror_mode": {
    "name": "ipython",
    "version": 3
   },
   "file_extension": ".py",
   "mimetype": "text/x-python",
   "name": "python",
   "nbconvert_exporter": "python",
   "pygments_lexer": "ipython3",
   "version": "3.11.3"
  }
 },
 "nbformat": 4,
 "nbformat_minor": 5
}
