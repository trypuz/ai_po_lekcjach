{
 "cells": [
  {
   "cell_type": "markdown",
   "id": "b129e15e",
   "metadata": {},
   "source": [
    "# AI jako program komputerowy"
   ]
  },
  {
   "cell_type": "markdown",
   "id": "c2490e31",
   "metadata": {},
   "source": [
    "## INTRO"
   ]
  },
  {
   "cell_type": "markdown",
   "id": "d2d68bce",
   "metadata": {},
   "source": [
    "### Wprowadzenie\n",
    "\n",
    "<span t=\"l1\">Myśląc i dyskutując o sztucznej inteligencji, często zapominamy, że jest ona w istocie programem komputerowym.</span>\n",
    "\n",
    "<span t=\"l1\">Czym są programy komputerowe i które z nich możemy nazwać sztuczną inteligencją (AI)?</span>\n",
    "\n",
    "<img src=\"../img/o_komputerze.png\" width=\"400\" alt=\"DALLE 2023\">"
   ]
  },
  {
   "cell_type": "markdown",
   "id": "0907a861",
   "metadata": {},
   "source": [
    "## I. O komputerze"
   ]
  },
  {
   "cell_type": "markdown",
   "id": "e6ac7105",
   "metadata": {},
   "source": [
    "### Maszyna Turinga\n",
    "\n",
    "<span t=\"l1\">W 1936 roku **Alan Turing** stworzył teoretyczny model komputera (nazwany później Maszyną Turinga).</span>\n",
    "\n",
    "<img src=\"../img/Alan_Turing_1912-1954_in_1936_at_Princeton_University.jpg\" width=\"400\" alt=\"Alan Turing (źródło: WIKI)\">\n",
    "\n",
    "\n",
    "<span t=\"l1\">Pozwala on nam ocenić:</span>\n",
    "\n",
    "<span t=\"l2\">jakie problemy komputer może rozwiązać</span>\n",
    "<span t=\"l2\">jak złożony jest dany problem z perspektywy komputera, tzn. jak wiele pamięci i ile operacji komputer będzie potrzebował na jego rozwiązanie.</span>\n",
    "\n",
    "Krótko mówiąc, jako ludzkość wiemy, czego możemy od komputera oczekiwać, a czego nie.\n",
    "\n"
   ]
  },
  {
   "cell_type": "markdown",
   "id": "e9254168",
   "metadata": {},
   "source": [
    "### Uniwersalność komputera\n",
    "\n",
    "<span t=\"l1\">Jedną z podstawowych zalet komputera jest jego **uniwersalność**. </span>\n",
    "Podczas gdy <span t=\"l2\">inne urządzenia domowe jak na przykład odkurzacz mają ściśle określone przeznaczenie i wąski zakres czynności jaki możemy za ich pomocą wykonać</span>, <span t=\"l2\">komputer wykazuje zdolność do realizacji znacząco szerszej gamy zadań.</span>\n",
    "\n",
    "<span t=\"l1\">Ta uniwersalność ma jednak swoją cenę: musimy komputerowi odpowiednio zakomunikować co i jak ma robić w języku, który jest on w stanie \"zrozumieć\".</span>"
   ]
  },
  {
   "cell_type": "markdown",
   "id": "98b9d725",
   "metadata": {},
   "source": [
    "## II. Komunikacja i programowanie"
   ]
  },
  {
   "cell_type": "markdown",
   "id": "63a342ac",
   "metadata": {},
   "source": [
    "### Programowanie to sposób komunikacji człowieka z komputerem\n",
    "<span t=\"l1\">**Programowanie** to sposób komunikacji człowieka z komputerem, którego celem jest rozwiązanie jakiegoś problemu.</span>\n",
    "\n",
    "<span t=\"l1\">Problemy stawiane przed komputerem mogą być</span> <span t=\"l2\">proste, np. obliczenie wyniku mnożenie dwóch liczb</span>, lub <span t=\"l2\">bardziej złożone, jak napisanie streszczenia kilkustronicowego artykułu.</span>\n",
    "\n",
    "<span t=\"l1\">Skoro programowanie to sposób komunikacji człowieka z komputerem, to takiego człowieka, który potrafi skutecznie taką komunikację prowadzić nazwiemy **programist(k)ą**.</span>\n",
    "\n",
    "<span t=\"l1\">Co ciekawe, programist(k)a komunikuje się z komputerem w podobny sposób jak ludzie komunikują się między sobą - używa języka.</span>"
   ]
  },
  {
   "cell_type": "markdown",
   "id": "a400d8f9",
   "metadata": {},
   "source": [
    "<img src=\"../img/komunikacja4.png\" width=\"400\" alt=\"DALLE 2023\">"
   ]
  },
  {
   "cell_type": "markdown",
   "id": "be9b1af3",
   "metadata": {},
   "source": [
    "### Komunikacja \n",
    "\n",
    "Poświęćmy chwilę samej komunikacji.\n",
    "\n",
    "<span t=\"l1\">Komunikujemy się wymieniając komunikaty. </span>\n",
    "<span t=\"l2\">Każdy komunikat składa się z słów ułożonych w pewnym porządku, który to porządek definiuje gramatyka języka, którym się posługujemy.</span>\n",
    "\n",
    "<span t=\"l2\">Komunikat jako całość ma też swoją treść (czyli sens), który komunikujący chce odbiorcy tego komunikatu przekazać.</span>\n",
    "\n",
    "<span t=\"l1\">Gdy komunikat jest niepoprawny gramatycznie, często nie możemy go zrozumieć.</span>\n",
    "\n",
    "<span t=\"l1\">Tak samo jest, gdy komunikat, choć gramatycznie poprawny, zawiera wyrażenia, których znaczenia (czyli sensu) nie znamy.</span>\n",
    "\n",
    "<span t=\"l2\">W obu przypadkach mówimy: „To jest bez sensu!”.</span>\n",
    "\n",
    "<span t=\"l1\">Tak więc sprawne używanie języka w komunikacji, zarówno tej międzyludzkiej, jak i między człowiekiem a komputerem, wymaga formułowania komunikatów w języku zrozumiałym dla odbiorcy i to w sposób gramatycznie poprawny, dobierając odpowiednie wyrażenia tak, aby całość komunikatu była sensowna.</span>"
   ]
  },
  {
   "cell_type": "markdown",
   "id": "6ef8dda9",
   "metadata": {},
   "source": [
    "## III. Języki programowania i program komputerowy"
   ]
  },
  {
   "cell_type": "markdown",
   "id": "e51f13d7",
   "metadata": {},
   "source": [
    "### Języki programowania\n",
    "\n",
    "<span t=\"l1\">Tak jak jest wiele języków, którymi ludzie komunikują się między sobą, tak też jest wiele języków służących do komunikacji z komputerem, np. Python czy Java, żeby wymienić tylko dwa najpopularniejsze.</span> \n",
    "<span t=\"l1\">Nazywamy je **językami programowania**.</span>\n",
    "\n",
    "<img src=\"../img/program_komputerowy3.png\" width=\"400\" alt=\"DALLE 2023\">\n"
   ]
  },
  {
   "cell_type": "markdown",
   "id": "bf981cde",
   "metadata": {},
   "source": [
    "<span t=\"l1\">Język programowania, jak każdy język</span>, \n",
    "<span t=\"l2\">ma swój system znaków</span>, \n",
    "<span t=\"l2\">swoją gramatykę</span> oraz \n",
    "<span t=\"l2\">reguły definiujące znaczenie/sens wyrażeń (czyli jaki efekt osiągniesz używając tego czy innego wyrażenia).</span> \n",
    "<span t=\"l1\">Jeśli zostaniesz programist(k)ą, komunikując się z komputerem (np. za pomocą Pythona czy Javy), będziesz wysyłał(a) komputerowi komunikaty instruujące go jakie kroki kolejno powinien on wykonać.</span> \n",
    "<span t=\"l2\">To jest tak, jakbyś pisząc program komputerowy wydawał(a) komputerowi rozkazy: zrób to, a potem tamto, a następnie to, itd.</span>"
   ]
  },
  {
   "cell_type": "markdown",
   "id": "7c11b179",
   "metadata": {},
   "source": [
    "### Programowanie i program komputerowy\n",
    "<span t=\"l1\">Zatem **programowanie** to wprowadzanie instrukcji, które mówią komputerowi, co ma robić krok po kroku, zgodnie z intencją programisty lub programistki. </span>\n",
    "<span t=\"l1\">Zbiór takich instrukcji nazywa się **programem komputerowym**.</span>\n",
    "\n",
    "<span t=\"l1\">I choć instrukcje zawarte w programie komputerowym potrafią być bardzo złożone, a profesjonalne oprogramowanie może składać się nawet z milionów linii kodu, to zawsze kod ten można rozłożyć na prostsze instrukcje postaci:</span>\n",
    "\n",
    "- <span t=\"l2\">Zrób to!</span>\n",
    "- <span t=\"l2\">Jeżeli jest taka a tak, zrób to, w przeciwnym przypadku zrób co innego!</span>\n",
    "- <span t=\"l2\">Wykonaj to 10 razy!</span>\n",
    "\n",
    "\n",
    "\n",
    "<span t=\"l1\">Jeśli zdecydujesz się na naukę programowania, to zapewne zaczniesz od nauczenia się tych prostych instrukcji i sukcesywnie będziesz uczyć się składania ich w większe programy komputerowe.</span>\n",
    "\n",
    "<span t=\"l1\">**Pamiętaj!** Nie ma zasadniczej różnicy w uczeniu się języka obcego jak angielski czy włoski, a uczeniem się języka programowania Python, czy Java.</span>"
   ]
  },
  {
   "cell_type": "markdown",
   "id": "fb920a11",
   "metadata": {},
   "source": [
    "## IV. Inteligentne programy komputerowe"
   ]
  },
  {
   "cell_type": "markdown",
   "id": "67d24580",
   "metadata": {},
   "source": [
    "### Inteligencja\n",
    "\n",
    "<span t=\"l1\">Czy każdy program komputerowy jest sztuczną inteligencją?</span> \n",
    "<span t=\"l1\">Kiedy nazwiemy program komputerowy “inteligentnym”?</span>\n",
    "\n",
    "<img src=\"../img/inteligentne_programy.png\" width=\"400\" alt=\"DALLE 2023\">"
   ]
  },
  {
   "cell_type": "markdown",
   "id": "32de17ed",
   "metadata": {},
   "source": [
    "<span t=\"l1\">Zanim odpowiemy na te pytania poświęćmy chwilę samej “inteligencji”.</span>\n",
    "\n",
    "<span t=\"l1\">Nie ma konsensusu wśród uczonych czym dokładnie jest inteligencja.</span> <span t=\"l1\">Sympatyzuję z teorią inteligencji wielorakiej Howarda Gardnera zgodnie z którą **inteligencja** rozumiana jest jako zestaw różnych procesów myślowych, które umożliwiają przetwarzanie informacji, rozwiązywanie problemów, podejmowanie decyzji, rozumienie emocji, tworzenie sztuki i wykonywanie przeróżnych skomplikowanych działań.</span> <span t=\"l1\">**Nie ma więc jednej inteligencji, jest ich wiele.**</span>"
   ]
  },
  {
   "cell_type": "markdown",
   "id": "7729b107",
   "metadata": {},
   "source": [
    "<span t=\"l1\">Tak też przejawami procesów myślowych świadczących o tym, że posiadamy w różnym stopniu wiele inteligencji będą:</span> \n",
    "<span t=\"l2\">kierowanie autem</span>, \n",
    "<span t=\"l2\">rozmowa z przyjacielem</span>, \n",
    "<span t=\"l2\">właściwe odczytanie emocji z wyrazu twarzy partnerki czy partnera</span>, \n",
    "<span t=\"l2\">stworzenie szkicu Archikatedry Lubelskiej</span>, \n",
    "<span t=\"l2\">napisanie streszczenia artykułu</span>, \n",
    "<span t=\"l2\">podjęcie decyzji odnośnie kierunku studiów poprzedzone wielogodzinnymi rozważaniami “za i przeciw”</span>,\n",
    "<span t=\"l2\">zrobienie ollie na deskorolce</span>, \n",
    "<span t=\"l2\">czy w końcu odnalezienie ulubionego sklepu z butami w dużej galerii handlowej.</span>"
   ]
  },
  {
   "cell_type": "markdown",
   "id": "7d8060a8",
   "metadata": {},
   "source": [
    "### Inteligentne programy komputerowe\n",
    "\n",
    "<span t=\"l1\">**Programy komputerowe nazwiemy inteligentnymi**, gdy będą automatyzować procesy myślowe standardowo wykonywane przez ludzi. </span>\n",
    "<span t=\"l1\">To znaczy, gdy uda nam się napisać program komputerowy, który samodzielnie pokieruje autem lub napisze streszczenie artykułu lub przeprowadzi poprawne rozumowanie lub rozpozna, czy recenzja filmu jest pozytywna, czy negatywna lub rozpozna stan emocjonalny osoby na podstawie wyrazu jej twarzy, itd, to każdy taki program komputerowy nazwiemy sztuczną inteligencją.</span>\n",
    "\n",
    "<span t=\"l1\">Dodajmy, że sztuczną inteligencją mogą być też **roboty**, w których inteligentne programy sterują tzw. urządzeniami peryferyjnymi, takimi jak kamera, koła, ramię, itp. Analogicznie do tego jak procesy myślowe zachodzące w naszych mózgach wykorzystują nasze ciała do różnych działań.</span>"
   ]
  },
  {
   "cell_type": "markdown",
   "id": "5f829afa",
   "metadata": {},
   "source": [
    "## V. Klasyczne podejście do programowania vs. trenowanie AI"
   ]
  },
  {
   "cell_type": "markdown",
   "id": "e6cea066",
   "metadata": {},
   "source": [
    "\n",
    "<span t=\"l1\">Powstaje jednak pytanie, skoro, jak powiedzieliśmy wcześniej, programowanie polega na wydawaniu komputerowi przez programistę lub programistę instrukcji, zrób to, a potem tamto, itp., to czy w ogóle można tu mówić o jakiejś inteligencji w komputerze? Czy komputer w ogóle może \"wymyślić\" cokolwiek, czy też zawsze będzie związany  wykonywaniem dokładnie krok po kroku operacji, które my, ludzie, mu zadamy?</span>\n",
    "\n",
    "<img src=\"../img/programowanie ai vs klasyczne2.png\" width=\"400\" alt=\"DALLE 2023\">"
   ]
  },
  {
   "cell_type": "markdown",
   "id": "aa67f25f",
   "metadata": {},
   "source": [
    "### Przykład\n",
    "<span t=\"l1\">Aby odpowiedzieć na te pytanie musimy zagłębić się nieco bardziej w sam proces programowania i zrozumieć czym różni się klasyczne programowanie od programowania sztucznej inteligencji. Najlepiej zrobić to na przykładzie.</span>\n",
    "\n",
    "<span t=\"l1\">Przyjmijmy, że naszym zadaniem jest napisanie programu komputerowego, który dla zadanego tekstu, np. artykułu prasowego (2-3 strony), będzie tworzył jego streszczenie (powiedzmy, max 10 zdań).</span>\n",
    "\n",
    "\n"
   ]
  },
  {
   "cell_type": "markdown",
   "id": "25ecfe5a",
   "metadata": {},
   "source": [
    "### Programowanie sztucznej inteligencji vs. programowanie klasyczne\n",
    "<span t=\"l1\">**Klasyczne podejście do tego problemu** polega na tym, że programist(k)a najpierw sam(a) musi wymyślić jak taki problem rozwiązać (np. wytnij 3 pierwsze zdania ze wstępu artykułu i 2 ostatnie z zakończenia). Następnie programist(k)a zapisuje krok po kroku swój pomysł rozwiązania problemu w języku programowania i komputer go wykonuje.</span>\n",
    "\n",
    "<span t=\"l1\">**Programowanie sztucznej inteligencji** odwraca ten proces. Programist(k)a nie komunikuje komputerowi przepisu/algorytmu jak krok po kroku problem rozwiązać (przypomnijmy, w naszym przykładzie: jak na podstawie artykułu napisać jego streszczenie), ale **tworzy w samym komputerze środowisko/przestrzeń**, w której komputer na podstawie wielu przykładów artykułów prasowych i ich streszczeń sam taki przepis wymyśli.</span>\n"
   ]
  },
  {
   "cell_type": "markdown",
   "id": "3dcb7b6f",
   "metadata": {},
   "source": [
    "### Sztuczne sieci neuronowe\n",
    "\n",
    "<span t=\"l1\">Przestrzenią/środowiskiem, gdzie komputer samodzielnie szuka rozwiązania problemu są najczęściej **sztuczne sieci neuronowe**. Programist(k)a najpierw programuje jak taka sieć ma wyglądać, tzn., ile ma mieć neuronów, jaką ma mieć architekturę, czyli jak bardzo ma być złożona. Następnie określa długość procesu uczenia - w praktyce określa ile razy komputer ma “studiować” zgromadzone wcześniej przykłady artykułów i ich streszczeń. Choć może brzmieć to dość tajemniczo, to nie jest to bardzo skomplikowane.</span>\n",
    "\n",
    "<span t=\"l1\">Z racji na to inne podejście do programowania sztucznej inteligencji, raczej mówi się o **trenowaniu sztucznej inteligencji** niż o jej programowaniu. Nie zmienia to jednak faktu, że nadal jest to program komputerowy.</span>\n",
    "\n"
   ]
  },
  {
   "cell_type": "markdown",
   "id": "a9a98214",
   "metadata": {},
   "source": [
    "<span t=\"l1\">Podsumowując powiedzmy</span>, że \n",
    "<span t=\"l2\">główną trudnością przy klasycznym programowaniu byłoby wymyślenie przez programist(k)ę jak utworzyć streszczenia z artykułów prasowych</span>, podczas gdy <span t=\"l2\">przy trenowaniu sztucznej inteligencji głównym problemem jest, po pierwsze, stworzenie pokaźnego materiału do uczenia komputera, nazywanego **zbiorem treningowym**, złożonego z artykułów prasowych i ich gotowych streszczeń i, po drugie, dobranie odpowiedniej **architektury sieci neuronowej** oraz **zdefiniowanie długości procesu uczenia**.</span>"
   ]
  },
  {
   "cell_type": "markdown",
   "id": "02100ce8",
   "metadata": {},
   "source": [
    "## OUTRO"
   ]
  },
  {
   "cell_type": "markdown",
   "id": "0354cab2",
   "metadata": {},
   "source": [
    "### Powiedzieliśmy, że...\n",
    "\n",
    "<span t=\"l1\">**Programowanie** to sposób komunikacji człowieka z komputerem, którego celem jest rozwiązanie jakiegoś problemu.</span>\n",
    "\n",
    "<span t=\"l1\">**Programist(k)a** to człowiek, który potrafi komunikację z komputerem skutecznie prowadzić.</span>\n",
    "\n",
    "<span t=\"l1\">**Program komputerowy** to zbiór instrukcji które mówią komputerowi, co ma robić krok po kroku, zgodnie z intencją programisty lub programistki.</span>\n",
    "\n",
    "<span t=\"l1\">**Inteligencja** to złożony zestaw różnych procesów myślowych, które umożliwiają przetwarzanie informacji, rozwiązywanie problemów, rozumienie emocji, podejmowanie decyzji i wykonywanie różnych działań. Nie ma jednej inteligencji, jest ich wiele!</span>"
   ]
  },
  {
   "cell_type": "markdown",
   "id": "fcf8925c",
   "metadata": {},
   "source": [
    "<span t=\"l1\">**Programy komputerowe nazwiemy inteligentnymi**, gdy automatyzują jakieś procesy myślowe standardowo wykonywane przez ludzi.</span>\n",
    "\n",
    "<span t=\"l1\">**Programowanie (trenowanie) sztucznej inteligencji** polega na tworzeniu w komputerze środowiska (najczęściej sztucznych sieci neuronowych), w  którym komputer na podstawie wielu przykładów, nazywanych zbiorem treningowym, sam wypracowuje rozwiązanie zadanego problemu.</span>"
   ]
  },
  {
   "cell_type": "code",
   "execution_count": null,
   "id": "2729300d",
   "metadata": {},
   "outputs": [],
   "source": []
  }
 ],
 "metadata": {
  "kernelspec": {
   "display_name": "Python 3 (ipykernel)",
   "language": "python",
   "name": "python3"
  },
  "language_info": {
   "codemirror_mode": {
    "name": "ipython",
    "version": 3
   },
   "file_extension": ".py",
   "mimetype": "text/x-python",
   "name": "python",
   "nbconvert_exporter": "python",
   "pygments_lexer": "ipython3",
   "version": "3.11.3"
  }
 },
 "nbformat": 4,
 "nbformat_minor": 5
}
