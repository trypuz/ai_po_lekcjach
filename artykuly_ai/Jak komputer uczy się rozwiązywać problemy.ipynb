{
 "cells": [
  {
   "cell_type": "markdown",
   "id": "a07f3846",
   "metadata": {},
   "source": [
    "# Jak komputer uczy się rozwiązywać problemy?"
   ]
  },
  {
   "cell_type": "markdown",
   "id": "aed036e7",
   "metadata": {},
   "source": [
    "## INTRO"
   ]
  },
  {
   "cell_type": "markdown",
   "id": "2a7d0c9c",
   "metadata": {},
   "source": [
    "### Wprowadzenie\n",
    "\n",
    "W poprzednim odcinku wskazaliśmy, że sztuczne inteligencje, które są programami komputerowymi, automatyzują procesy myślowe, które zwykle są domeną ludzi.\n",
    "\n",
    "Wspomnieliśmy także o programowaniu sztucznej inteligencji, często określanym jako trenowanie. Proces ten polega na kreowaniu w komputerze specjalnego środowiska, zazwyczaj opartego na sztucznych sieciach neuronowych. W takim środowisku komputer samodzielnie opracowuje rozwiązania problemów, korzystając z licznych przykładów zawartych w zbiorze treningowym.\n",
    "\n",
    "Ale, jak dokładnie to się odbywa?"
   ]
  },
  {
   "cell_type": "markdown",
   "id": "6795c944",
   "metadata": {},
   "source": [
    "## I. Proces uczenia się homo sapiens, czyli jak się uczymy"
   ]
  },
  {
   "cell_type": "markdown",
   "id": "a2700fdc",
   "metadata": {},
   "source": [
    "### Jak się uczymy?\n",
    "\n",
    "Proces uczenia się komputera, czyli uczenia maszynowego, czerpie inspirację z pewnych aspektów ludzkiego zdobywania wiedzy.\n",
    "\n",
    "Uczymy się poprzez tworzenie wewnętrznych modeli świata. Termin \"model\" należy rozumieć, jako pewien uproszczony sposób reprezentacji czegoś innego: na przykład, mapa Lublina jest modelem Lublina. Jest oczywiste, że nie wyczytamy z mapy Lublina wszystkiego o Lublinie; to jedynie uproszczona reprezentacja przestrzennych zależności między budynkami i innymi obiektami.\n",
    "\n",
    "Nasz mózg przechowuje mnóstwo modeli, czy mentalnych map. Mamy w nim częściowe mapy miast i centrów handlowych, które odwiedziliśmy, mapę naszego mieszkania, i wiele innych.\n",
    "\n",
    "\n",
    "Modele/mentalne mapy w naszym mózgu (DALLE 2023)\n"
   ]
  },
  {
   "cell_type": "markdown",
   "id": "b212d856",
   "metadata": {},
   "source": [
    "Modele jakie posiada mózg mogą być też bardziej dynamiczne; mogą one przypominać “filmy instruktażowe”, np. jak używać gorącego kleju, jak prowadzić auto, jak zagrać temat utworu Mr. P.C. Johna Coltrane na gitarze, itd. Uczenie się polega na tworzeniu takich wewnętrznych modeli/mentalnych map.\n",
    "\n",
    "W dużej mierze nie uświadamiamy sobie istnienia tych modeli. Na przykład każdy z nas, posługujący się językiem polskim, ma model tego języka zapisany w swoim mózgu. Mamy modele osób, które znamy, ich wyglądu, tonu głosu, ich wrażliwości emocjonalnej - dzięki tym modelom możemy odgrywać w głowie sceny spotkania z nimi, a nawet tworzyć całe dialogi.\n",
    "\n"
   ]
  },
  {
   "cell_type": "markdown",
   "id": "71b73ce8",
   "metadata": {},
   "source": [
    "Uczymy się, czyli tworzymy wewnętrzne modele, od pierwszych miesięcy, obserwując świat wokół siebie, eksperymentując, czyli próbując różnych nowych rzeczy, czy wchodząc w interakcje z innymi. Nasze pierwsze modele nie muszą być od razu poprawne. Dzięki popełnianym w naszym życiu błędom i neuroplastyczności, czyli zdolności mózgu do zmiany w odpowiedzi na doświadczenia, mamy szansę na ciągłą aktualizację naszych wewnętrznych modeli świata. To co jest fundamentem procesu uczenia się to: ciągła interakcja z otoczeniem, popełnianie błędów i aktualizacja modeli.\n",
    "\n"
   ]
  },
  {
   "cell_type": "markdown",
   "id": "dc5bf6d7",
   "metadata": {},
   "source": [
    "Dzięki neuronauce dziś już wiemy, że nie rodzimy się jako czysta karta. To jaki będzie nasz mózg jest zapisane w naszym genomie jeszcze zanim pojawią się pierwsze jego neurony. A gdy już mózg powstanie, różne jego obszary od samego początku są gotowe do rozpoznawania twarzy ludzi, czy przyswajania języka.\n",
    "\n",
    "Ucząc się sprawiamy, że same neurony jak i połączenia pomiędzy nimi ulegają zmianom (utrwalają się), aby lepiej odzwierciedlać powtarzające się wzorce informacji, które mózg otrzymuje. Ludzki mózg jest efektywny w rozpoznawaniu wzorców i łączeniu różnorodnych informacji, co umożliwia nam szybkie i efektywne przetwarzanie danych sensorycznych, takich jak obrazy i dźwięki.\n",
    "\n",
    "\n",
    "\n"
   ]
  },
  {
   "cell_type": "markdown",
   "id": "80cf6b58",
   "metadata": {},
   "source": [
    "Uczenie się maszyny, czyli uczenie maszynowe, do pewnego stopnia, naśladuje zdolność ludzkiego mózgu do identyfikacji i nauki wzorców. I tak jak nasze uczenie się opiera się na określonej strukturze naszego mózgu, tak i uczenie maszynowe będzie opierało się na określonej strukturze sztucznych sieci neuronowych."
   ]
  },
  {
   "cell_type": "markdown",
   "id": "bad6c261",
   "metadata": {},
   "source": [
    "## II. Jakie inteligentne zadania może dziś wykonywać komputer?"
   ]
  },
  {
   "cell_type": "markdown",
   "id": "4efe3726",
   "metadata": {},
   "source": [
    "Zanim powiemy na czym polega uczenie maszynowe, zróbmy listę inteligentnych zadań, jakie są obecnie w zasięgu komputerów. Zrozumienie co już dziś może AI będzie dla nas dodatkową motywacją do zrozumienia jak to jest możliwe...\n",
    "\n",
    "Rozpoznawanie obiektów na zdjęciach\n",
    "\n",
    "Komputery są obecnie zdolne do identyfikacji i klasyfikacji obiektów na zdjęciach z dokładnością zbliżoną do zdolności ludzkich. Umożliwia to, między innymi, automatyczne tagowanie fotografii w mediach społecznościowych oraz rozpoznawanie obiektów przez samochody autonomiczne.\n",
    "\n",
    "Rozpoznawanie i generowanie mowy\n",
    "\n",
    "Dzisiejsze technologie umożliwiają komputerom nie tylko rozpoznawanie mowy na poziomie zbliżonym do ludzkiego, ale także generowanie naturalnie brzmiących wypowiedzi. Przykładami tego typu technologii są asystenci głosowi, tacy jak Alexa czy Siri.\n",
    "\n",
    "Tłumaczenie tekstów\n",
    "\n",
    "Komputery są w stanie tłumaczyć teksty pomiędzy różnymi językami z imponującą dokładnością i płynnością.\n",
    "\n",
    "Tworzenie opowiadań i obrazów\n",
    "\n",
    "Komputery potrafią również generować kreatywne treści, takie jak opowieści czy obrazy. Dzięki zaawansowanym algorytmom są one w stanie tworzyć realistyczne i spójne narracje, a także generować obrazy na podstawie opisów tekstowych.\n",
    "\n",
    "Analiza sentymentu tekstu\n",
    "\n",
    "Komputery mogą analizować tekst pod kątem emocji i tonu wyrażonego przez autora. Przykładowo, mogą określić, czy dana recenzja produktu jest pozytywna czy negatywna.\n",
    "\n",
    "Gry i symulacje\n",
    "\n",
    "Komputery są zdolne do podejmowania strategicznych decyzji w grach i symulacjach, często przewyższając umiejętności ludzkie. Przykładem jest AlphaGo, program komputerowy, który pokonał mistrza gry w Go.\n",
    "\n",
    "Diagnostyka medyczna\n",
    "\n",
    "Dzięki uczeniu maszynowemu, komputery mogą wspierać diagnozowanie chorób, analizując wyniki badań obrazowych i laboratoryjnych z precyzją porównywalną lub nawet przewyższającą umiejętności lekarzy.\n",
    "\n",
    "Automatyzacja procesów biznesowych\n",
    "\n",
    "Komputery potrafią automatyzować wiele rutynowych zadań, takich jak obsługa klienta (chatboty) czy podejmowanie decyzji o przyznaniu kredytu.\n",
    "\n",
    "\n",
    "\n",
    "Znając już możliwości AI, przejdźmy do zrozumienia, jak to jest możliwe..."
   ]
  },
  {
   "cell_type": "markdown",
   "id": "4c08781d",
   "metadata": {},
   "source": []
  },
  {
   "cell_type": "markdown",
   "id": "115f52c1",
   "metadata": {},
   "source": []
  },
  {
   "cell_type": "markdown",
   "id": "1f3f54a5",
   "metadata": {},
   "source": []
  },
  {
   "cell_type": "markdown",
   "id": "9e22c82b",
   "metadata": {},
   "source": [
    "## III. Czego potrzebujemy, aby komputer mógł się czegoś nauczyć?\n"
   ]
  },
  {
   "cell_type": "markdown",
   "id": "ee101538",
   "metadata": {},
   "source": [
    "Aby umożliwić komputerowi naukę wykonania konkretnego zadania konieczne jest spełnienie poniższych warunków. Dla łatwiejszego zrozumienie, wyjaśnijmy rzecz na przykładzie znanego problemu/zadania rozpoznawania ręcznie pisanych cyfr od 0 do 9.\n",
    "\n",
    "Dane treningowe. W przypadku rozpoznawania ręcznie pisanych cyfr, dane treningowe stanowią zbiór obrazów przedstawiających cyfry od 0 do 9. Zazwyczaj potrzebujemy setek obrazków każdej cyfry, aby komputer mógł nauczyć się różnorodności form i stylów pisania. Każdy obrazek powinien być opisany, co w tym kontekście oznacza przypisanie mu odpowiedniej cyfry, której dotyczy. Te opisy, zwane etykietami (ang. label), umożliwiają komputerowi zrozumienie, co jest przedstawione na każdym obrazku.\n",
    "Sztuczna sieć neuronowa. Aby komputer mógł przetwarzać i uczyć się z danych treningowych, potrzebujemy środowiska, w którym będzie się to odbywać, czyli sztucznej sieci neuronowej. Sztuczne sieci neuronowe są zdolne do nauki i rozpoznawania wzorców w danych, co jest kluczowe w procesie uczenia maszynowego.\n",
    "Metoda oceny. Konieczne jest posiadanie metody, która pozwala ocenić, czy sztuczna sieć neuronowa uczy się poprawnie i czy osiągnęła pożądany poziom dokładności.\n",
    "Metoda zmiany. Konieczne jest posiadanie metody zmiany ustawień/parametrów sieci w przypadku błędnego jej działania.\n",
    "\n",
    "\n",
    "\n",
    "Załóżmy więc, że pierwszy punkt jest spełniony i posiadamy odpowiednie dane treningowe. Na przykład możemy skorzystać z dostępnej publicznie bazy danych obrazków MNIST zawierającej ręcznie pisane cyfry, składającej się z 70 000 przykładów!\n",
    "\n",
    " \n",
    "Fragment zbioru treningowego MNIST\n",
    "\n",
    "\n",
    "Jak jednak zbudować sztuczną sieć neuronową i co to w ogóle jest?"
   ]
  },
  {
   "cell_type": "markdown",
   "id": "ce8bda93",
   "metadata": {},
   "source": [
    "## IV. Od neuronu biologicznego do sztucznej sieci neuronowej\n"
   ]
  },
  {
   "cell_type": "markdown",
   "id": "4e598c3b",
   "metadata": {},
   "source": [
    "Sposób działania sztucznego neuronu czerpie swoją inspirację z neuronu biologicznego.\n",
    "\n",
    "Biologiczny neuron to komórka, która odbiera, generuje i przekazuje impulsy. Działa to tak: dendryty, czyli wypustki neuronu, odbierają impulsy od innych neuronów lub od receptorów zmysłów. Gdy suma impulsów osiągnie pewien próg, neuron generuje impuls elektryczny, który przemieszcza się aksonem do innych komórek przez synapsy (sposób działania synaps nie jest nam potrzebny w tym odcinku, ale... warto dodać, że gdy impuls elektryczny dociera do końca neuronu na granicę synapsy i \"chce\" przejść do innego neuronu napotyka wyzwanie: przerwa między neuronami, zwana szczeliną synaptyczną, nie przewodzi impulsu elektrycznego; w tym momencie w grę wchodzą substancje chemiczne zwane neurotransmiterami, które neuron wysyła do tej szczeliny; przemieszczają się one przez szczelinę synaptyczną i łączą się z receptorami na neuronie odbierającym i wówczas generowany jest nowy impuls elektryczny).\n",
    "\n",
    "\n",
    "Pluszowy neuron uszyty przez Marysię Trypuz, lat 12\n",
    "Teraz, wyobraź sobie sztuczny neuron: ma coś na kształt dendrytów - są to liczby wejściowe.  Są one następnie, podobnie jak impulsy neuronu biologicznego, sumowane i przekazywane do specjalnej funkcji aktywacji, która decyduje jak silna będzie reakcja neuronu. Na przykład, taka funkcja aktywacji może określić próg, wartości 0.5, i jeśli suma impulsów przekroczy go, to zwracana jest wartość 1, co odpowiada powstaniu impulsu elektrycznego w neuronie biologicznym, albo 0, co oznaczałoby brak impulsu.\n",
    "\n",
    "\n",
    "Sztuczny neuron przyjmuje impulsy s1, ..., s4, waży je, czyli przemnaża je przez wartości wag: w1, ..., w4, a następnie sumuje ważone impulsy: w1 x s1 + w2 x s2 + w3 x s3 + w4 x s4 i przekazuje je do funkcji aktywacji wyliczającej wynik 1 lub 0. \n",
    "\n",
    "\n",
    "Aktywacja sztucznego neuronu nie musi być binarna 0 albo 1. Może być też zdefiniowana np. jako wartość z przedziału [0,1] - czym mocniejszy sygnał wejściowy, tym większa wartość aktywacji.\n",
    "\n",
    "\n",
    "\n",
    "Warto dodać, że podobnie jak neuron biologiczny nie traktuje wszystkich dendrytów tak samo \"poważnie\", tzn. impulsy od jednych dendrytów traktuje jako ważniejsze niż od innych, sztuczny neuron również waży swoje dane wejściowe. To ważenie w praktyce polega na przemnożeniu impulsu przez ułamek, co skutkuje zmniejszeniem wartości takiego sygnału. Na przykład przemnażając sygnał o wartości 1 przez 0.5 otrzymamy 0.5, czyli wartość sygnału zmniejszyła się o połowę.\n",
    "\n",
    "\n",
    "\n",
    "Oczywiście jeden neuron nie jest w stanie wiele zdziałać. Aby rozwiązywać inteligentne zadania, neurony muszą być połączone w sieć.\n",
    "\n",
    "\n",
    "Sztuczna sieć neuronowa złożona z 15 neuronów.\n",
    "\n",
    "\n",
    "Gdy opisujemy sztuczne sieci neuronowe zwykle wyróżniamy warstwy neuronów. Mamy więc warstwę wejściową, która przyjmuje wartości liczbowe wyrażające impulsy, mamy warstwę wyjściową oraz dowolnie wiele warstw pomiędzy warstwą wejściową i wyjściową, które nazywamy warstwami ukrytymi. \n",
    "\n",
    "Ważne jest, aby zrozumieć, że neurony w sztucznych sieciach neuronowych, które się dziś używa, nie są niczym fizycznym; są to po prostu jednostki obliczeniowe, a sama sieć jest modelem matematycznym.\n",
    "\n",
    "\n",
    "\n",
    "Możemy metaforycznie myśleć o każdym neuronie w sieci jako o ekspercie.\n",
    "\n",
    "\n",
    "Sztuczny neuron jako ekspert (by Marysia Trypuz)\n",
    "I tak, w warstwie wejściowej będą neurony/eksperci, które przyjmują bezpośrednio dane wejściowe. Następnie przekazują je do neuronów/ekspertów w pierwszej warstwie ukrytej. Ci analizują te dane i w pewnej przetworzonej formie przekazują je dalej do ekspertów w drugiej warstwie ukrytej. Ci czynią podobnie: analizują i przetwarzają. Rezultat swoich “przemyśleń” ostatnia warstwa ukryta przekazuje do ekspertów z warstwy wyjściowej, którzy muszą podjąć decyzję, która zależy od typu problemu."
   ]
  },
  {
   "cell_type": "markdown",
   "id": "fc0946d4",
   "metadata": {},
   "source": []
  },
  {
   "cell_type": "markdown",
   "id": "e693f52f",
   "metadata": {},
   "source": []
  },
  {
   "cell_type": "markdown",
   "id": "62f3a0ed",
   "metadata": {},
   "source": [
    "## V. Przykład sieci (już nauczonej)\n"
   ]
  },
  {
   "cell_type": "markdown",
   "id": "1cf45f6a",
   "metadata": {},
   "source": [
    "Wróćmy do problemu rozpoznawania ręcznie pisanych cyfr od 0 do 9.\n",
    "\n",
    "\n",
    "Sztuczna sieć neuronowa rozpoznająca ręcznie napisanych cyfr od 0 do 9\n",
    "\n",
    "\n",
    "W takim przypadku, działanie (wcześniej nauczonej) sztucznej sieci neuronowej będzie wyglądało następująco.\n",
    "\n",
    "Warstwa wejściowa neuronów/ekspertów przyjmie dane wejściowe w postaci obrazka (na którym jest cyfra \"6\" - jak na obrazku powyżej).\n",
    "\n",
    "Ponieważ obrazki składają się z pikseli, czyli pojedynczych kwadracików, to nasza sieć musi mieć w warstwie wejściowej tyle neuronów ile jest pikseli. Jeśli mamy obrazki o wielkości 28 na 28 pikseli (czyli mamy szachownicę 28x28), to wszystkich pikseli jest 28 razy 28, czyli 784. Jeśli mamy obrazki czarno-białe, to każdy piksel może być reprezentowany za pomocą liczby od 0 - 255, gdzie 0 oznacza czarny, a 255 biały, a wszystko pomiędzy będzie skalą szarości.\n",
    "\n",
    "Czyli w warstwie wejściowej mamy 784 neuronów/ekspertów i każdy przyjmuje \"impuls\" w postaci wartość koloru (0-255) od dokładnie jednego piksela. Następnie każdy neuron/ekspert z warstwy wejściowej przekazuje te dane do każdego neuronu/eksperta z pierwszej warstwy ukrytej. Każdy ekspert z pierwszej warstwy ukrytej waży po swojemu informacje, które do niego dochodzą, przetwarza je i przekazuje do każdego eksperta w kolejnej warstwie ukrytej. Proces ten kontynuowany jest aż do momentu, gdy neurony/eksperci z ostatniej warstwy ukrytej przekażą swoje przetworzone wartości do warstwy wyjściowej.\n",
    "\n",
    "W warstwie wyjściowej dla tego problemu mamy 10 neuronów/ekspertów, każdy jest ekspertem od jednej z cyfr 0-9. Pierwszy od “0”, drugi od “1”, i ostatni od “9”. Każdy z nich wyrazi swoją opinię, która przez sieć zostanie przedstawiona ostatecznie w postaci prawdopodobieństwa, czyli stopnia pewności. Można więc powiedzieć, że pierwszy ekspert oceni prawdopodobieństwo, że na obrazku jest cyfra \"0\", drugi oceni prawdopodobieństwo obecności cyfry \"1\", a ostatni - cyfry \"9\". Jeśli sieć jest dobrze wytrenowana, to neuron - ekspert odpowiedzialny za cyfrę \"6\" - powinien wyrazić się z najwyższą pewnością."
   ]
  },
  {
   "cell_type": "markdown",
   "id": "adc2c174",
   "metadata": {},
   "source": []
  },
  {
   "cell_type": "markdown",
   "id": "e3e17a25",
   "metadata": {},
   "source": []
  },
  {
   "cell_type": "markdown",
   "id": "8a4d94a2",
   "metadata": {},
   "source": [
    "## VI. Jak uczy się sztuczna sieć neuronowa?\n"
   ]
  },
  {
   "cell_type": "markdown",
   "id": "3567518e",
   "metadata": {},
   "source": [
    "Celem procesu uczenia sztucznej sieci neuronowej jest nauczenie jej prawidłowego odwzorowywania danych na ich etykiety, na przykład, odwzorowania obrazków na odpowiadające im cyfry od 0 do 9.\n",
    "\n",
    "Aby to osiągnąć, każdy neuron/ekspert, zostaje wyposażony w zestaw wag, przy czym każda waga odpowiada jednemu sygnałowi wejściowemu, w naszym przykładzie, jednemu pikselowi obrazka.\n",
    "\n",
    "Na początku procesu uczenia każdy neuron inicjuje wartości wag losowo. Zazwyczaj są to bardzo małe wartości, co można interpretować jako początkowy sceptycyzm neuronu co do jakości sygnałów wejściowych.\n",
    "\n",
    "Uczenie ma dwa kierunki, nazwijmy je: czerwony i zielony.\n",
    "\n",
    "\n",
    "Kierunki uczenia: strzałka czerwona to propagacja \"do przodu\" i strzałka zielona to propagacja wsteczna.\n",
    "\n",
    "\n",
    "Kierunek czerwony (propagacja \"do przodu\") to prosty proces przyjmowania przez neurony kolejnych warstw wartości od wszystkich neuronów z warstwy poprzedniej, ważenie tych sygnałów (czyli przemnożenie tych sygnałów przez wagi), określenie poziomu aktywacji w oparciu o tę ważoną sumę sygnałów i przekazanie impulsu dalej.\n",
    "\n",
    "W tym konkretnym przykładzie, warstwa wyjściowa, składa się z 10 neuronów/ekspertów i ma ciekawą funkcję aktywacji, która nazywa się softmax. Każdy neuron/ekspert warstwy wyjściowej przyjmie impuls od każdego neuronu ostatniej warstwy wyjściowej, wygeneruje ważoną sumę i przekaże tę sumę do funkcji sofmax. Softmax na tej podstawie, przypisze każdemu neuronowi prawdopodobieństwo/stopień pewności. Największa suma będzie miała najwyższe prawdopodobieństwo.\n",
    "\n",
    "Na przykład, wartości sumy dla kolejnych neuronów, odpowiadających za rozpoznawanie cyfr 0, 1, ...9, mogą być następujące:\n",
    "\n",
    "2, 1, 0, 5, 1, 0, 0, 2, 1, 4\n",
    "\n",
    "a softmax przekształci je na prawdopodobieństwa (sposób wyliczenia pomijam):\n",
    "\n",
    "3.2%, 1.1%, 0.4%, 64.8%, 1.1%, 0.4%, 0.4%, 3.2%, 1.1%, 23.8%.\n",
    "\n",
    "Oznacza to, że sieć jest prawie w 65% pewna, że na obrazku jest cyfra 3, w około 24% że to 9, itd.\n",
    "\n",
    "Jeśli założymy, że obrazek na wejściu przedstawia \"6\" (jak to jest w przykładzie powyżej), to sieć dokonała błędnej predykcji: \"3\". Kiedy sieć dokona predykcji, od razu dowiaduje się, czy była ona poprawna czy nie, dzięki specjalnej funkcji straty, która porównuje prognozę sieci (3) z oczekiwaną odpowiedzią (6). Funkcję straty można wyobrazić sobie jako miernik rozbieżności między prognozami modelu a rzeczywistymi etykietami. Jeśli prognozy modelu są bliskie prawdziwym etykietom, strata jest niska. Jeśli są one bardzo rozbieżne, strata jest wysoka. Funkcja straty jest metodą oceny jak sieć radzi sobie podczas uczenia.\n",
    "\n",
    "Mając wartość błędu/straty przechodzimy do strzałki zielonej. Tutaj wartość błędu odbiera tzw. optymalizator, którego zadaniem jest wprowadzenie zmian w wartości wag, które posiadają neurony/eksperci. Innymi słowy, optymalizator znajduje neurony odpowiedzialne za powstanie błędu i odpowiednio zmienia wartości wag, którymi posługiwały się te neurony podczas błędnej predykcji. Optymalizator dzięki specjalnemu algorytmowi “propagacji wstecznej” dokładnie wie, które neurony są odpowiedzialne za błędną predykcję i w jaki sposób zmienić ich wagi. Algorytm “propagacji wstecznej” to jedno z największych osiągnięć w rozwoju AI. Dzięki niemu proces uczenia się sztucznych sieci neuronowych może być w pełni zautomatyzowany.\n",
    "\n",
    "\n",
    "\n",
    "Proces uczenia się sztucznych sieci neuronowych jest iteracyjny: sieć przyjmuje kolejny obrazek, dokonuje predykcji (kierunek czerwony), następnie koryguje wagi (kierunek zielony) i tak dalej. Dzięki temu procesowi iteracyjnemu, sieć poprawia swoje predykcje w każdej iteracji, zbliżając się do celu prawidłowego rozpoznawania cyfr na obrazkach.\n",
    "\n",
    "Dodajmy, że wagi, którymi dysponują neurony, nazywa się również parametrami sieci. Suma wszystkich wag/parametrów wszystkich neuronów sieci jest często miarą jej złożoności.\n",
    "\n",
    "\n",
    "\n",
    "Korygowanie, czy dostrajanie parametrów sieci neuronowej można porównać do działania gitarzysty lub gitarzystki, którzy dążą do osiągnięcia idealnego brzmienia swojego instrumentu... oczywiście zakładając, że wiedzą, jakiego brzmienia szukają.\n",
    "\n",
    "\n",
    "Dostrajanie parametrów sztucznej sieci neuronowej można porównać do gitarzysty lub gitarzystki, którzy dążą do osiągnięcia idealnego brzmienia swojego instrumentu. (DALLE 2023)\n",
    "Na przykład, w efekcie Overdrive, który nadaje gitarze charakterystyczny, przesterowany ton, gitarzyst(k)a ustawia potencjometr Gain na 70%, co pozwala na silny, ale nie dominujący przester, a potencjometr Tone na około 60%, co daje bogatsze harmoniczne brzmienie bez bycia zbyt ostrym w wysokich tonach. W efekcie Delay, który zapewnia efekt echa, dodając głębi i przestrzenności dźwiękowi, ustawia potencjometr Time na 300 ms, co daje naturalne echo bez zbyt dużego przesunięcia w czasie, i potencjometr Feedback na 30%, co pozwala na kilka powtórzeń echa bez nadmiernego zagęszczenia.... Każdy, nawet nieznaczny obrót, każdego potencjometru jest ważnym krokiem w kreowaniu unikalnego brzemienia. Gitarzyst(k)a może spędzić całe dnie kręcąc różnymi potencjometrami, aż znajdzie brzmienie, którego szukał(a).\n",
    "\n",
    "Powyższa analogia z gitarzystą i efektami gitarowymi nasunęła mi się kiedyś, gdy czytałem o pierwszej samouczące się sztucznej sieci neuronowej, SNARC, która była złożona z 40 fizycznych neuronów takiej oto postaci:\n",
    "\n",
    "\n",
    "Sztuczny neuron sieci SNARC\n",
    "Ten wystający po prawej stronie bolec, to potencjometr pokręcając którym zmniejszało się, albo zwiększało wagę neuronu. Do historii AI i sieci SNARC wrócimy jeszcze w kolejnych odcinkach. Niecierpliwi mogą posłuchać opowieści samego twórcy SNARC, Marvina Lee Minsky'ego:"
   ]
  },
  {
   "cell_type": "markdown",
   "id": "64664b15",
   "metadata": {},
   "source": [
    "## OUTRO"
   ]
  },
  {
   "cell_type": "markdown",
   "id": "2a29e363",
   "metadata": {},
   "source": []
  },
  {
   "cell_type": "markdown",
   "id": "fcb7b0de",
   "metadata": {},
   "source": [
    "Powiedzieliśmy, że\n",
    "\n",
    "Proces uczenia maszynowego, do pewnego stopnia, naśladuje zdolność ludzkiego mózgu do identyfikacji i nauki wzorców. I tak jak nasze uczenie się opiera się na określonej strukturze naszego mózgu, tak i uczenie maszynowe będzie opierało się na określonej strukturze sztucznych sieci neuronowych.\n",
    "\n",
    "Komputery obecnie potrafią wykonywać wiele inteligentnych zadań, takich jak: rozpoznawanie obiektów na zdjęciach, generowanie mowy, tłumaczenie tekstów, tworzenie kreatywnych treści, analiza sentymentu, podejmowanie decyzji w grach, diagnostyka medyczna oraz automatyzacja procesów biznesowych.\n",
    "\n",
    "Aby nauczyć komputer wykonywania zadania, potrzebne są odpowiednie dane treningowe, sztuczna sieć neuronowa oraz metody oceny skuteczności uczenia oraz korekty parametrów sieci.\n",
    "\n",
    "Sztuczne sieci neuronowe, inspirowane działaniem neuronów biologicznych, składają się z warstw neuronów, które przetwarzają i ważą dane wejściowe, a następnie przekazują je przez funkcje aktywacji do kolejnych warstw, aby finalnie podjąć decyzję w warstwie wyjściowej.\n",
    "\n",
    "Uczenie sztucznej sieci neuronowej polega na iteracyjnym procesie, w którym sieć dokonuje predykcji poprzez ważenie sygnałów wejściowych przy użyciu wstępnie losowo inicjowanych wag, a następnie koryguje te wagi za pomocą optymalizatora i algorytmu propagacji wstecznej, aby zminimalizować błąd pomiędzy prognozami a rzeczywistymi etykietami."
   ]
  }
 ],
 "metadata": {
  "kernelspec": {
   "display_name": "Python 3 (ipykernel)",
   "language": "python",
   "name": "python3"
  },
  "language_info": {
   "codemirror_mode": {
    "name": "ipython",
    "version": 3
   },
   "file_extension": ".py",
   "mimetype": "text/x-python",
   "name": "python",
   "nbconvert_exporter": "python",
   "pygments_lexer": "ipython3",
   "version": "3.11.3"
  }
 },
 "nbformat": 4,
 "nbformat_minor": 5
}
