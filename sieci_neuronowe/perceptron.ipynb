{
  "cells": [
    {
      "cell_type": "markdown",
      "metadata": {
        "id": "MBPgMUHGEPiU"
      },
      "source": [
        "# Od neuronu do perceptronu"
      ]
    },
    {
      "cell_type": "markdown",
      "metadata": {
        "id": "9s7R67K1EPiV"
      },
      "source": [
        "# Neuron biologiczny\n",
        "\n",
        "\n",
        "Sposób działania sztucznego neuronu czerpie swoją inspirację z neuronu biologicznego. Biologiczny neuron to komórka, która odbiera, generuje i przekazuje impulsy.\n",
        "\n",
        "<img src=\"https://upload.wikimedia.org/wikipedia/commons/thumb/0/08/Neuron%2C_LangNeutral.svg/1024px-Neuron%2C_LangNeutral.svg.png\" width=\"600\" height=\"auto\">\n",
        "\n",
        "(źródło: https://pl.wikipedia.org/wiki/Neuron)\n",
        "\n",
        "Schemat budowy neuronu:\n",
        "\n",
        "- **a – dendryty** (ang. dendrite),\n",
        "- **b – ciało komórki (inaczej perikarion, soma lub neurocyt)** (ang. soma, cell body),\n",
        "- **c – jądro komórkowe** (ang. nucleus),\n",
        "- **d – akson** (ang. axon),\n",
        "- **h – zakończenia aksonu z synapsami** (ang. synapses)\n",
        "\n",
        "\n",
        "\n",
        "Działa to tak: dendryty, czyli wypustki neuronu, odbierają impulsy od innych neuronów lub od receptorów zmysłów. Gdy suma impulsów osiągnie pewien próg (w ciele komórki), neuron generuje impuls elektryczny, który przemieszcza się aksonem do innych komórek przez synapsy.\n",
        "\n",
        "Warto dodać, że gdy impuls elektryczny dociera do końca neuronu na granicę synapsy i \"chce\" przejść do innego neuronu napotyka wyzwanie: przerwę między neuronami, zwaną szczeliną synaptyczną, która nie przewodzi impulsu elektrycznego; w tym momencie w grę wchodzą substancje chemiczne zwane neurotransmiterami, które neuron wysyła do tej szczeliny; przemieszczają się one przez szczelinę synaptyczną i łączą się z receptorami na neuronie odbierającym i wówczas generowany jest nowy impuls elektryczny."
      ]
    },
    {
      "cell_type": "markdown",
      "metadata": {
        "id": "SMOdfnzXEPiW"
      },
      "source": [
        "# Sztuczny neuron\n",
        "\n",
        "## Iloczyn skalarny\n",
        "\n",
        "Teraz, wyobraź sobie sztuczny neuron: ma coś na kształt dendrytów - są to liczby wejściowe.  Są one następnie, podobnie jak impulsy neuronu biologicznego, sumowane i przekazywane do specjalnej funkcji aktywacji, która decyduje jak silna będzie reakcja neuronu. Na przykład, taka funkcja aktywacji może określić próg, wartości 0.5, i jeśli suma impulsów przekroczy go, to zwracana jest wartość 1, co odpowiada powstaniu impulsu elektrycznego w neuronie biologicznym, albo 0, co oznaczałoby brak impulsu.\n",
        "\n",
        "Warto dodać, że podobnie jak neuron biologiczny nie traktuje wszystkich dendrytów tak samo \"poważnie\", tzn. impulsy od jednych dendrytów traktuje jako ważniejsze niż od innych, sztuczny neuron również waży swoje dane wejściowe. To ważenie w praktyce polega na przemnożeniu impulsu przez ułamek, co skutkuje zmniejszeniem wartości takiego sygnału. Na przykład przemnażając sygnał o wartości 1 przez 0.5 otrzymamy 0.5, czyli wartość sygnału zmniejszyła się o połowę.\n",
        "\n",
        "<img src=\"https://upload.wikimedia.org/wikipedia/commons/thumb/a/ac/Neuron3.svg/1024px-Neuron3.svg.png\" width=\"600\" height=\"auto\">\n",
        "\n",
        "(źródło: https://en.wikipedia.org/wiki/Artificial_neuron)\n",
        "\n",
        "Sygnały są oznaczone jako $x_i$, gdzie i jest referencyjną liczbą całkowitą. Zbiór wszystkich sygnałów dla danego przykładu jest oznaczony wektorem $\\boldsymbol{x}$:\n",
        "\n",
        "- $\\boldsymbol{x} = [x_0, x_1, ..., x_i, ..., x_n]$\n",
        "\n",
        "I podobnie, wagi skojarzone dla każdego obiektu będą oznaczone jako $w_i$, gdzie $i$ odpowiada indeksowi sygnału $x$ związanemu z tą wagą. Wagi są reprezentowane przez wektor \\boldsymbol{w}:\n",
        "\n",
        "- $\\boldsymbol{w} = [w_0, w_1, ..., w_i, ..., w_n]$\n",
        "\n",
        "Mając cechy wystarczy pomnożyć każdą cechę ($x_i$) przez odpowiadającą jej waga ($w_i$), a następnie zsumować. W taki sposób otrzymamy sumę ważonych sygnałów. Z matematycznego punktu widzenia to **iloczyn skalarny (ang. dot product)** oznaczony jak następuje: $\\boldsymbol{x} \\cdot \\boldsymbol{w}$. Czyli:\n",
        "\n",
        "$ \\boldsymbol{x} \\cdot \\boldsymbol{w} = (x_0 * w_0) + (x_1 * w_1) + (x_2 * w_2) + ... + (x_i * w_i) + ... + (x_n * w_n)$\n",
        "\n",
        "Inny znany zapis:\n",
        "\n",
        "$\\sum_{j=0}^{n} x_j * w_j$\n",
        "\n",
        "\n"
      ]
    },
    {
      "cell_type": "markdown",
      "metadata": {
        "id": "HoIN53n6EPiX"
      },
      "source": [
        "## Przesunięcie (ang. bias)\n",
        "\n",
        "Można potraktować przesunięcie (ang. bias) jako dodatkowy, stały sygnał $x_{n+1} = 1$, który powiększy rozmiar wektora sygnałów. Oczywiście przemnażając go przez dodatkową wagę $w_{n+1}$ otrzymamy $w_{n+1}$. W praktyce jednak traktuje się go osobno.\n",
        "\n",
        "Najłatwiej jest go zrozumieć jako stałą `b` w równaniu liniowym postaci:\n",
        "\n",
        "$y = ax + b$\n",
        "\n",
        "Porównaj na stronie https://www.desmos.com/calculator jak wyglądają wykresy równań:\n",
        "- $y = 3x$\n",
        "- $y = 3x + 2$\n",
        "\n",
        "W obu równaniach `a = 3`. Ten parametr odpowiada za kąt nachylenia wykresu do osi poziomej (x-ów).\n",
        "\n",
        "Jak widzisz, w drugim równaniu bias/przesunięcie `b = 2`. Pozwala on na przesunięcie wykresuw górę i w dół. Bez niego (tzn. gdy `b = 0`) wszystkie wykresy musiałyby przecineć punkt `(0,0)`. Poniżej okaże się jasne dlaczego byłoby to istotne ograniczenie.\n",
        "\n",
        "Zauważ również, że dowolny wykres postaci $y = ax + b$ dzieli płaszczyznę na dwie połowy.\n",
        "\n",
        "Sztuczny neuron będzie zawsze posiadał `bias` jako dodatkowy parametr dodany do iloczynu sklalarnego wektorów.\n"
      ]
    },
    {
      "cell_type": "markdown",
      "metadata": {
        "id": "i3cPoZcFEPiX"
      },
      "source": [
        "## Próg (aktywacji)\n",
        "\n",
        "Elementem, którego nam jeszcze brakuje, jest próg \"aktywacji\" neuronu (ang. threshold). Gdy suma przekroczy pewien próg, perceptron zwraca 1, w przeciwnym razie - 0.\n",
        "\n",
        "Ten próg można przedstawić za pomocą prostej funkcji schodkowej (jej wykres przypomina stopień schodów):\n",
        "\n",
        "\\begin{align}\n",
        "f(\\sum_{j=0}^{n} x_j * w_j + b) = \\left\\{ \\begin{array}{cc}\n",
        "                1 & \\hspace{5mm} \\sum_{j=0}^{n} x_j * w_j + b\\geq threshold \\\\\n",
        "                0 & \\hspace{5mm} \\sum_{j=0}^{n} x_j * w_j + b<threshold \\\\\n",
        "                \\end{array} \\right.\n",
        "\\end{align}"
      ]
    },
    {
      "cell_type": "markdown",
      "metadata": {
        "id": "CcJCb82BEPiX"
      },
      "source": [
        "# Pythonowy neuron - intuicje"
      ]
    },
    {
      "cell_type": "markdown",
      "source": [
        "Zaczniemy od importu dodatkowych bibliotek, które będą nam poźniej potrzebne."
      ],
      "metadata": {
        "id": "uN0LSh5DHjdr"
      }
    },
    {
      "cell_type": "code",
      "execution_count": 2,
      "metadata": {
        "id": "ioHm46VbEPiY"
      },
      "outputs": [],
      "source": [
        "import numpy as np\n",
        "import pandas as pd\n",
        "import matplotlib.pyplot as plt\n",
        "from random import random\n",
        "# !pip install requests\n",
        "import requests\n",
        "import seaborn as sns\n",
        "import pandas as pd"
      ]
    },
    {
      "cell_type": "markdown",
      "metadata": {
        "id": "J7bK9Nz_EPiZ"
      },
      "source": [
        "## Od sygnałów do aktywacji\n",
        "\n",
        "Załóżmy, że nasz sztuczny neuron ma dwa dendryty i aktualnie odbiera dwa sygnały:"
      ]
    },
    {
      "cell_type": "code",
      "execution_count": 3,
      "metadata": {
        "id": "33ihCJ3fEPiZ"
      },
      "outputs": [],
      "source": [
        "# 2 inputs (vector)\n",
        "x = [2, 3]\n",
        "\n",
        "# 2 weights (vector)\n",
        "w = [0.1, 0.2]\n",
        "\n",
        "# bias (scalar)\n",
        "b = 0.1"
      ]
    },
    {
      "cell_type": "code",
      "execution_count": 4,
      "metadata": {
        "id": "v2wwUpFtEPiZ",
        "outputId": "6da2731d-66b6-49a2-b530-1e9920a6773c",
        "colab": {
          "base_uri": "https://localhost:8080/"
        }
      },
      "outputs": [
        {
          "output_type": "stream",
          "name": "stdout",
          "text": [
            "Ważona suma impulsów = 0.9\n"
          ]
        }
      ],
      "source": [
        "# dot_product = x . w = 2 * 0.1 + 3 * 0.2 = 0.2 + 0.6 = 0.8\n",
        "# weighted_sum = 0.8 + 0.1 = 0.9\n",
        "\n",
        "def weighted_sum(x, w, b):\n",
        "    dot_product = 0\n",
        "    for inp, weight in zip(x, w):\n",
        "        dot_product += inp * weight\n",
        "\n",
        "    return dot_product + b\n",
        "\n",
        "print(f'Ważona suma impulsów = {weighted_sum(x, w, b)}')"
      ]
    },
    {
      "cell_type": "code",
      "execution_count": 5,
      "metadata": {
        "id": "o274vgG9EPia",
        "outputId": "d8bda410-f3a3-48c1-f0c0-1c1b4b7be9cd",
        "colab": {
          "base_uri": "https://localhost:8080/"
        }
      },
      "outputs": [
        {
          "output_type": "stream",
          "name": "stdout",
          "text": [
            "perceptron_output = 1\n"
          ]
        }
      ],
      "source": [
        "def neuron_output(weighted_sum, threshold = 0.5):\n",
        "    if weighted_sum >= threshold:\n",
        "        return 1\n",
        "    else:\n",
        "        return 0\n",
        "\n",
        "perceptron_output = neuron_output(weighted_sum(x, w, b))\n",
        "\n",
        "print(f'perceptron_output = {perceptron_output}')"
      ]
    },
    {
      "cell_type": "markdown",
      "metadata": {
        "id": "yoISyMoMEPia"
      },
      "source": [
        "## Aktualizacja wag"
      ]
    },
    {
      "cell_type": "markdown",
      "metadata": {
        "id": "dDIl-lR2EPia"
      },
      "source": [
        "Każda waga jest dostosowywana w zależności od tego, jak bardzo przyczyniła się do powstałego błędu. Większa waga (która pozwala punktowi danych bardziej wpływać na wynik) powinna być bardziej obwiniana za błędność wyjścia perceptronu dla danego wejścia.\n",
        "\n",
        "| `expected_output` | `perceptron_output` | `update`     |\n",
        "|:-----------------:|:-------------------:|:------------:|\n",
        "| `1`               | `0`                 | `1 - 0 =  1` |\n",
        "| `0`               | `1`                 | `0 - 1 = -1` |\n",
        "\n",
        "\n",
        "Każdą wagę `w_j` wektora (listy) `w` będziemy musieli zmienić (tj. zwiększyć lub zmniejszyć) o wartość `update * x_j`, czyli wartość proporcjonalną do wielkoci sygnału.\n",
        "\n",
        "Podobnie zmienimy `b` o wartość `update`."
      ]
    },
    {
      "cell_type": "code",
      "execution_count": 6,
      "metadata": {
        "id": "93xiK6YHEPia",
        "outputId": "8e0bcf93-12b4-4fbc-d864-bb4c53c7b659",
        "colab": {
          "base_uri": "https://localhost:8080/"
        }
      },
      "outputs": [
        {
          "output_type": "stream",
          "name": "stdout",
          "text": [
            "new_w = [-1.9, -2.8]\n",
            "new_b = -0.9\n"
          ]
        }
      ],
      "source": [
        "expected_output = 0\n",
        "\n",
        "update = expected_output - perceptron_output\n",
        "\n",
        "new_w = []\n",
        "new_b = 0\n",
        "for inp, weight in zip(x, w):\n",
        "    weight += update * inp\n",
        "    new_w.append(weight)\n",
        "\n",
        "new_b += b + update\n",
        "\n",
        "print(f'new_w = {new_w}\\nnew_b = {new_b}')"
      ]
    },
    {
      "cell_type": "code",
      "execution_count": 7,
      "metadata": {
        "id": "bY7L6qpDEPia",
        "outputId": "0fbc6ec2-7004-4b24-93ba-76fb3674196a",
        "colab": {
          "base_uri": "https://localhost:8080/"
        }
      },
      "outputs": [
        {
          "output_type": "stream",
          "name": "stdout",
          "text": [
            "perceptron_output = 0\n"
          ]
        }
      ],
      "source": [
        "print(f'perceptron_output = {neuron_output(weighted_sum(x, new_w, new_b))}')"
      ]
    },
    {
      "cell_type": "markdown",
      "metadata": {
        "id": "hWxRK2dtEPib"
      },
      "source": [
        "# Pythonowy perceptron z NumPy"
      ]
    },
    {
      "cell_type": "markdown",
      "metadata": {
        "id": "8GEGHQxEEPib"
      },
      "source": [
        "## NumPy (Numerical Python)\n",
        "\n",
        "NumPy (Numerical Python) to popularna biblioteka Pythona, wykorzystywana głównie do obliczeń numerycznych. Jest kluczowym elementem ekosystemu naukowego Pythona, służąc jako fundament do bardziej zaawansowanych bibliotek, takich jak `SciPy`, `pandas` czy `scikit-learn`. Oto krótkie wprowadzenie do najważniejszych aspektów NumPy:\n",
        "\n",
        "### Kluczowe cechy NumPy:\n",
        "1. **Tablice N-wymiarowe**:\n",
        "   - Główną strukturą danych w NumPy jest tablica N-wymiarowa (`np.array`), która umożliwia pracę z wielowymiarowymi zestawami danych. Jest to wydajna, homogeniczna struktura, która umożliwia szybkie operacje matematyczne.\n",
        "\n",
        "2. **Funkcje matematyczne i statystyczne, algebra Liniowa**:\n",
        "   - NumPy oferuje szereg wbudowanych funkcji, takich jak sumowanie, uśrednianie, sortowanie, czy funkcje trygonometryczne i logarytmiczne.\n",
        "   - Biblioteka zawiera narzędzia do pracy z macierzami, w tym operacje macierzowe, rozkłady, znajdowanie wartości własnych czy rozwiązywanie układów równań liniowych.\n",
        "\n",
        "3. **Wydajność**:\n",
        "   - Operacje na tablicach NumPy są zoptymalizowane pod kątem wydajności, dzięki czemu przewyższają typowe struktury Pythona, takie jak listy, w obliczeniach numerycznych.\n",
        "\n",
        "4. **Interoperacyjność**:\n",
        "   - NumPy świetnie współpracuje z innymi bibliotekami Pythona. Wiele narzędzi do analizy danych korzysta z tablic NumPy jako podstawowej struktury danych.\n",
        "\n",
        "\n"
      ]
    },
    {
      "cell_type": "markdown",
      "metadata": {
        "id": "g5t9PTthEPib"
      },
      "source": [
        "### Skalary, wektory, macierze, tensory\n",
        "\n",
        "Tablica `np.array` w bibliotece NumPy koresponduje z różnymi strukturami matematycznymi, w zależności od wymiarowości i kontekstu użycia.\n",
        "\n",
        "**Główne atrybuty tablic**\n",
        "\n",
        "- liczba osi (ranga) - atrybut `ndim`\n",
        "- kształt - atrybut `shape`\n",
        "- typ danych - atrybut `dtype`"
      ]
    },
    {
      "cell_type": "markdown",
      "metadata": {
        "id": "r1G70kb9EPib"
      },
      "source": [
        "Podstawowe struktury matematyczne, które można reprezentować za pomocą `np.array`:\n",
        "\n",
        "1. **Skalary**:\n",
        "   - **0-wymiarowa tablica**: `np.array` może reprezentować skalar, czyli liczbę.\n",
        "   - **Przykład**: `skalar = np.array(12)`"
      ]
    },
    {
      "cell_type": "code",
      "execution_count": 8,
      "metadata": {
        "id": "133Z200jEPib",
        "outputId": "f08bba4e-bfe5-42e4-987a-d1d8e9042b60",
        "colab": {
          "base_uri": "https://localhost:8080/"
        }
      },
      "outputs": [
        {
          "output_type": "stream",
          "name": "stdout",
          "text": [
            "x.ndim = 0\n",
            "x.shape = ()\n"
          ]
        }
      ],
      "source": [
        "x = np.array(12)\n",
        "print(f'x.ndim = {x.ndim}\\nx.shape = {x.shape}')"
      ]
    },
    {
      "cell_type": "markdown",
      "metadata": {
        "id": "5ZVC9IoYEPib"
      },
      "source": [
        "2. **Wektory**:\n",
        "   - **Jednowymiarowa tablica**: `np.array` może reprezentować wektor, czyli uporządkowaną listę liczb, która matematycznie jest pojęciem znanym z algebry liniowej. Wektor może być interpretowany jako punkt w przestrzeni n-wymiarowej lub jako kierunek i długość w tej przestrzeni.\n",
        "   - **Przykład**: `vector = np.array([1, 2, 3])`"
      ]
    },
    {
      "cell_type": "code",
      "execution_count": 9,
      "metadata": {
        "id": "Uv6zOzlDEPib",
        "outputId": "d59d1e22-5c56-45b2-c69d-29b81003f5a4",
        "colab": {
          "base_uri": "https://localhost:8080/"
        }
      },
      "outputs": [
        {
          "output_type": "stream",
          "name": "stdout",
          "text": [
            "x.ndim = 1\n",
            "x.shape = (3,)\n"
          ]
        }
      ],
      "source": [
        "x = np.array([1, 2, 3])\n",
        "print(f'x.ndim = {x.ndim}\\nx.shape = {x.shape}')"
      ]
    },
    {
      "cell_type": "markdown",
      "metadata": {
        "id": "OQCAwuQ4EPib"
      },
      "source": [
        "3. **Macierze**:\n",
        "   - **Dwuwymiarowa tablica**: `np.array` może służyć do reprezentacji macierzy, która jest prostokątną tablicą liczb, symboli lub wyrażeń ułożonych w wiersze i kolumny. Macierze są kluczowe w algebrze liniowej, gdzie są używane do przedstawienia przekształceń liniowych i rozwiązywania systemów równań liniowych.\n",
        "   - **Przykład**: `matrix = np.array([[1, 2, 3], [4, 5, 6]])`\n"
      ]
    },
    {
      "cell_type": "code",
      "execution_count": 10,
      "metadata": {
        "id": "7gt6cZwDEPib",
        "outputId": "3a886905-062f-48e7-d7d1-b53f64eff81a",
        "colab": {
          "base_uri": "https://localhost:8080/"
        }
      },
      "outputs": [
        {
          "output_type": "stream",
          "name": "stdout",
          "text": [
            "x.ndim = 2\n",
            "x.shape = (2, 3)\n"
          ]
        }
      ],
      "source": [
        "x = np.array([[1, 2, 3], [4, 5, 6]])\n",
        "print(f'x.ndim = {x.ndim}\\nx.shape = {x.shape}')"
      ]
    },
    {
      "cell_type": "markdown",
      "metadata": {
        "id": "6h9hSxsSEPic"
      },
      "source": [
        "4. **Tensory wyższych rzędów**:\n",
        "   - **Wielowymiarowa tablica**: W ogólnym przypadku, `np.array` może reprezentować tensory, które są uogólnieniem wektorów i macierzy na wyższe wymiary. Tensory znajdują zastosowanie w wielu dziedzinach nauki, w tym w fizyce i inżynierii, gdzie mogą opisywać złożone relacje między zestawami zmiennych.\n",
        "   - **Przykład**: `tensor = np.array([[[1, 2], [3, 4]], [[5, 6], [7, 8]]])`"
      ]
    },
    {
      "cell_type": "code",
      "execution_count": 11,
      "metadata": {
        "id": "td8zE37uEPic",
        "outputId": "0a3bb5ef-8065-41dd-a6f2-a7880d9c0c3b",
        "colab": {
          "base_uri": "https://localhost:8080/"
        }
      },
      "outputs": [
        {
          "output_type": "stream",
          "name": "stdout",
          "text": [
            "x.ndim = 3\n",
            "x.shape = (2, 2, 2)\n"
          ]
        }
      ],
      "source": [
        "x = np.array([[[1, 2], [3, 4]], [[5, 6], [7, 8]]])\n",
        "print(f'x.ndim = {x.ndim}\\nx.shape = {x.shape}')"
      ]
    },
    {
      "cell_type": "markdown",
      "metadata": {
        "id": "y7RuBOF_EPic"
      },
      "source": [
        "## Perceptron NumPy"
      ]
    },
    {
      "cell_type": "markdown",
      "metadata": {
        "id": "zbMzrQq2EPic"
      },
      "source": [
        "## Perceptron jako jednowarstwowa sieć neuronowa\n",
        "\n",
        "Nasza sieć, perceptron, będzie uczyć się alternatywy czyli `or`."
      ]
    },
    {
      "cell_type": "code",
      "execution_count": 13,
      "metadata": {
        "id": "gV2_DawHEPic",
        "outputId": "a554a573-9b77-4a6f-e795-88f4de984299",
        "colab": {
          "base_uri": "https://localhost:8080/"
        }
      },
      "outputs": [
        {
          "output_type": "stream",
          "name": "stdout",
          "text": [
            "X.shape = (2, 4)\n",
            "Y.shape = (1, 4)\n",
            "n_x = 2\n",
            "m = 4\n"
          ]
        }
      ],
      "source": [
        "# OR\n",
        "# treining set\n",
        "# X - input\n",
        "# y - output\n",
        "\n",
        "X = [[0, 0, 1, 1],\n",
        "     [0, 1, 0, 1]]\n",
        "\n",
        "y = [[0, 1, 1, 1]]\n",
        "\n",
        "X = np.array(X)\n",
        "Y = np.array(y)\n",
        "\n",
        "print(\"X.shape =\", X.shape)\n",
        "print(\"Y.shape =\", Y.shape)\n",
        "\n",
        "n_x = X.shape[0]\n",
        "m = X.shape[1]\n",
        "\n",
        "print(\"n_x =\",n_x) # ile mamy sygnałów /cech\n",
        "print(\"m =\",m)     # ile mamy przykładów treningowych"
      ]
    },
    {
      "cell_type": "code",
      "execution_count": 14,
      "metadata": {
        "id": "PtPre07qEPic",
        "outputId": "8e1dfc24-7a3a-4f8d-babb-d0a9a52e7e02",
        "colab": {
          "base_uri": "https://localhost:8080/",
          "height": 438
        }
      },
      "outputs": [
        {
          "output_type": "display_data",
          "data": {
            "text/plain": [
              "<Figure size 640x480 with 1 Axes>"
            ],
            "image/png": "[encoded data removed]"
          },
          "metadata": {}
        }
      ],
      "source": [
        "fig = plt.figure()\n",
        "ax = fig.add_subplot(111, projection='3d')\n",
        "\n",
        "# Plot points based on X and Y data\n",
        "for i in range(X.shape[1]):  # Loop through each column\n",
        "    color = 'yellow' if Y[0, i] == 1 else 'purple'\n",
        "    # Plot the point using determined Y value (either 1 or 0)\n",
        "    ax.scatter(X[0, i], X[1, i], Y[0, i], color=color, s=100)\n",
        "    # Annotate each point with its coordinate\n",
        "    ax.text(X[0, i], X[1, i], Y[0, i], f'({X[0, i]}, {X[1, i]}, {Y[0, i]})', color='black')\n",
        "\n",
        "# Set labels and plot title\n",
        "ax.set_xlabel('X[0]')\n",
        "ax.set_ylabel('X[1]')\n",
        "ax.set_zlabel('Y')\n",
        "ax.set_title('OR in 3D')\n",
        "\n",
        "# Setting the tick labels for clarity\n",
        "ax.set_xticks([0, 1])\n",
        "ax.set_yticks([0, 1])\n",
        "ax.set_zticks([0, 1])\n",
        "\n",
        "plt.show()"
      ]
    },
    {
      "cell_type": "markdown",
      "metadata": {
        "id": "WOSwMEB1EPic"
      },
      "source": [
        "Jak spojrzymy z góry to zobaczymy:"
      ]
    },
    {
      "cell_type": "code",
      "execution_count": 15,
      "metadata": {
        "id": "msgwYqTdEPid",
        "outputId": "0bf504be-5e62-459c-8428-44231d209903",
        "colab": {
          "base_uri": "https://localhost:8080/",
          "height": 430
        }
      },
      "outputs": [
        {
          "output_type": "display_data",
          "data": {
            "text/plain": [
              "<Figure size 640x480 with 1 Axes>"
            ],
            "image/png": "[encoded data removed]"
          },
          "metadata": {}
        }
      ],
      "source": [
        "# Visualize the data:\n",
        "plt.scatter(X[0, :], X[1, :], marker='o', c = Y.T, s=100);"
      ]
    },
    {
      "cell_type": "markdown",
      "metadata": {
        "id": "ei9vBwOUEPid"
      },
      "source": [
        "### Inicjalizacja parametrów"
      ]
    },
    {
      "cell_type": "code",
      "execution_count": 16,
      "metadata": {
        "id": "3VXz98KAEPid"
      },
      "outputs": [],
      "source": [
        "def initialize_parameters(n_x):\n",
        "    \"\"\"\n",
        "    Implements the initialization of parameters\n",
        "\n",
        "    Arguments:\n",
        "    n_x -- number of signals/features\n",
        "\n",
        "    Returns:\n",
        "    weights - array of weights of shape (n_x, 1)\n",
        "    bias -- bias (scalar)\n",
        "    \"\"\"\n",
        "\n",
        "    weights = np.random.rand(n_x,1)* 0.001  # Small random float 0 < w < .001\n",
        "    bias = 0\n",
        "\n",
        "    assert(weights.shape == (n_x, 1))\n",
        "\n",
        "    return weights, bias"
      ]
    },
    {
      "cell_type": "code",
      "execution_count": 17,
      "metadata": {
        "id": "mMYpgI83EPid",
        "outputId": "eb52b529-a262-49f0-cf9a-ef7c50901468",
        "colab": {
          "base_uri": "https://localhost:8080/"
        }
      },
      "outputs": [
        {
          "output_type": "stream",
          "name": "stdout",
          "text": [
            "weights: [[0.00031227]\n",
            " [0.00089113]], \n",
            "bias: 0\n"
          ]
        }
      ],
      "source": [
        "weights, bias = initialize_parameters(n_x)\n",
        "print(f'weights: {weights}, \\nbias: {bias}')"
      ]
    },
    {
      "cell_type": "code",
      "execution_count": 18,
      "metadata": {
        "id": "T0cACxSAEPid",
        "outputId": "f987c259-bfeb-4362-cbd1-292d761ecff8",
        "colab": {
          "base_uri": "https://localhost:8080/"
        }
      },
      "outputs": [
        {
          "output_type": "stream",
          "name": "stdout",
          "text": [
            "X.shape = (2, 4)\n",
            "weights.shape = (2, 1)\n"
          ]
        }
      ],
      "source": [
        "print(\"X.shape =\", X.shape)\n",
        "print(\"weights.shape =\", weights.shape)\n"
      ]
    },
    {
      "cell_type": "markdown",
      "metadata": {
        "id": "fciOZyBwEPid"
      },
      "source": [
        "### Propagacja do przodu (*ang. forward propagation*)"
      ]
    },
    {
      "cell_type": "markdown",
      "metadata": {
        "id": "vr8w7JnaEPie"
      },
      "source": [
        "Propagacja do przodu:\n",
        "- Masz `X`\n",
        "- Obliczasz ważoną sumę dla zbioru danych `X`, wag `weights` oraz `bias`  \n",
        "    - `Z = weights.T * X + bias`"
      ]
    },
    {
      "cell_type": "code",
      "execution_count": 19,
      "metadata": {
        "id": "XA3zG7-1EPie"
      },
      "outputs": [],
      "source": [
        "def weighted_sum(weights, bias, X):\n",
        "    \"\"\"\n",
        "    Calculates the weighted sum.\n",
        "\n",
        "    Arguments:\n",
        "    weights -- weights matrix: numpy array of shape (n_x, 1)\n",
        "    bias -- bias (scalar)\n",
        "    X -- input data\n",
        "\n",
        "    Returns:\n",
        "    Z -- weighted sum of shape (weights.shape[1], X.shape[1])\n",
        "    \"\"\"\n",
        "\n",
        "    Z = np.dot(weights.T, X) + bias\n",
        "\n",
        "    assert(Z.shape == (weights.T.shape[0], X.shape[1]))\n",
        "\n",
        "    return Z"
      ]
    },
    {
      "cell_type": "code",
      "execution_count": 20,
      "metadata": {
        "id": "jrHIHo9uEPil",
        "outputId": "02af0163-a688-4620-9f30-3e8ea82a48e1",
        "colab": {
          "base_uri": "https://localhost:8080/"
        }
      },
      "outputs": [
        {
          "output_type": "stream",
          "name": "stdout",
          "text": [
            "weighted sum Z = [[0.         0.00089113 0.00031227 0.0012034 ]]\n"
          ]
        }
      ],
      "source": [
        "Z = weighted_sum(weights, bias, X)\n",
        "print(f'weighted sum Z = {Z}')"
      ]
    },
    {
      "cell_type": "code",
      "execution_count": 21,
      "metadata": {
        "id": "6ir5UcDGEPil",
        "outputId": "c517a851-9000-4f83-8e42-38ebce04b3fd",
        "colab": {
          "base_uri": "https://localhost:8080/"
        }
      },
      "outputs": [
        {
          "output_type": "stream",
          "name": "stdout",
          "text": [
            "Z.shape = (1, 4)\n"
          ]
        }
      ],
      "source": [
        "print(\"Z.shape =\", Z.shape)"
      ]
    },
    {
      "cell_type": "code",
      "execution_count": 22,
      "metadata": {
        "id": "KI1N6VljEPim"
      },
      "outputs": [],
      "source": [
        "def step_function(Z, threshold = 0.5):\n",
        "    \"\"\"\n",
        "    Implements step function that returns the perceptron's prediction\n",
        "\n",
        "    Arguments:\n",
        "    Z -- weighted sum\n",
        "    threshold -- threshold; it is set 0.5 by default\n",
        "\n",
        "    Returns:\n",
        "    prediction -- network prediction of the same shape as Z\n",
        "\n",
        "    \"\"\"\n",
        "\n",
        "    prediction = np.where(Z > threshold, 1, 0)\n",
        "\n",
        "    assert(prediction.shape == Z.shape)\n",
        "\n",
        "\n",
        "    return prediction"
      ]
    },
    {
      "cell_type": "code",
      "execution_count": 23,
      "metadata": {
        "id": "VlI8Xg30EPim",
        "outputId": "dc895775-4477-4e24-8382-bc4e8bc8dc0e",
        "colab": {
          "base_uri": "https://localhost:8080/"
        }
      },
      "outputs": [
        {
          "output_type": "stream",
          "name": "stdout",
          "text": [
            "step_function = [[0 0 0 0]]\n"
          ]
        }
      ],
      "source": [
        "print('step_function =', step_function(Z))"
      ]
    },
    {
      "cell_type": "code",
      "execution_count": 24,
      "metadata": {
        "id": "Z-nEjNxTEPim"
      },
      "outputs": [],
      "source": [
        "def update_function(Z, Y):\n",
        "    \"\"\"\n",
        "    Implements update\n",
        "\n",
        "    Arguments:\n",
        "    Z -- weighted sum\n",
        "    Y -- labels\n",
        "\n",
        "    Returns:\n",
        "    update -- updates to weights and bias of the same shape as Z\n",
        "\n",
        "    \"\"\"\n",
        "    update = Y-step_function(Z)\n",
        "\n",
        "    assert(update.shape == Y.shape)\n",
        "\n",
        "    return update"
      ]
    },
    {
      "cell_type": "code",
      "execution_count": 25,
      "metadata": {
        "id": "tN91apmjEPim",
        "outputId": "0c0e10c9-6d6d-4d8c-f9e9-d559e64b937e",
        "colab": {
          "base_uri": "https://localhost:8080/"
        }
      },
      "outputs": [
        {
          "output_type": "stream",
          "name": "stdout",
          "text": [
            "update = [[0 1 1 1]]\n",
            "update.shape = (1, 4)\n"
          ]
        }
      ],
      "source": [
        "update = update_function(Z,Y)\n",
        "print(\"update =\", update)\n",
        "print(\"update.shape =\",update.shape)"
      ]
    },
    {
      "cell_type": "code",
      "execution_count": 26,
      "metadata": {
        "id": "Pq7ploMhEPim"
      },
      "outputs": [],
      "source": [
        "def update(weights, bias, X, Y, number_iterations):\n",
        "\n",
        "    \"\"\"\n",
        "    Implements update od weights and bias\n",
        "\n",
        "    Arguments:\n",
        "    weights -- weights matrix: numpy array of shape (n_x, 1)\n",
        "    bias -- bias (scalar)\n",
        "    X -- input data\n",
        "    Y -- labels\n",
        "    number_iterations -- number of iterations/epoches\n",
        "\n",
        "    Returns:\n",
        "    updated values of weights and bias\n",
        "\n",
        "    \"\"\"\n",
        "\n",
        "    m = X.shape[1]\n",
        "\n",
        "    for i in range(number_iterations):\n",
        "        Z = weighted_sum(weights, bias, X)\n",
        "        update = update_function(Z,Y)\n",
        "\n",
        "        correct_answers = np.sum(step_function(Z) == Y)\n",
        "#         print(\"epoche\",i+1,\"| update =\", update, \"| accuracy =\",\n",
        "#               (correct_answers / m) * 100, '%')\n",
        "        print(\"epoche\",i+1,\"| accuracy =\",\n",
        "              (correct_answers / m) * 100, '%')\n",
        "\n",
        "        weights += np.dot(X, update.T) # weights = weights + ...\n",
        "        bias += np.sum(update)\n",
        "\n",
        "    return weights, bias"
      ]
    },
    {
      "cell_type": "code",
      "execution_count": 27,
      "metadata": {
        "id": "5MA2IWGuEPim",
        "outputId": "ad1504c9-4fc8-4600-f159-2b4f36e60cb1",
        "colab": {
          "base_uri": "https://localhost:8080/"
        }
      },
      "outputs": [
        {
          "output_type": "stream",
          "name": "stdout",
          "text": [
            "epoche 1 | accuracy = 25.0 %\n",
            "epoche 2 | accuracy = 75.0 %\n",
            "epoche 3 | accuracy = 75.0 %\n",
            "epoche 4 | accuracy = 75.0 %\n",
            "epoche 5 | accuracy = 100.0 %\n"
          ]
        }
      ],
      "source": [
        "new_weights, new_bias = update(weights, bias, X, Y, number_iterations=5)"
      ]
    },
    {
      "cell_type": "code",
      "execution_count": 28,
      "metadata": {
        "id": "XwxiKuFFEPin"
      },
      "outputs": [],
      "source": [
        "def perceptron_model(X, Y, number_iterations = 10):\n",
        "    \"\"\"\n",
        "    Implement\n",
        "\n",
        "    Arguments:\n",
        "    X -- input data\n",
        "    Y -- labels\n",
        "    number_iterations -- number of iterations/epoches\n",
        "\n",
        "    Returns:\n",
        "    updated values of weights and bias\n",
        "\n",
        "    \"\"\"\n",
        "\n",
        "    n_x = X.shape[0]\n",
        "    m = X.shape[1]\n",
        "\n",
        "    weights, bias = initialize_parameters(n_x)\n",
        "\n",
        "    final_weights, final_bias = update(weights, bias, X, Y, number_iterations)\n",
        "\n",
        "    Z = weighted_sum(final_weights, final_bias, X)\n",
        "\n",
        "    Y_prediction = step_function(Z)\n",
        "\n",
        "    print(\"train accuracy: {} %\".format((np.sum(Y_prediction == Y)/m)*100))\n",
        "\n",
        "    d = {\"Y_prediction\" : Y_prediction,\n",
        "         \"w\" : final_weights,\n",
        "         \"b\" : final_bias}\n",
        "\n",
        "    return d"
      ]
    },
    {
      "cell_type": "code",
      "execution_count": 29,
      "metadata": {
        "id": "12YOMB08EPin",
        "outputId": "b8630cf2-24dc-4786-adbe-18145fc141ab",
        "colab": {
          "base_uri": "https://localhost:8080/"
        }
      },
      "outputs": [
        {
          "output_type": "stream",
          "name": "stdout",
          "text": [
            "epoche 1 | accuracy = 25.0 %\n",
            "epoche 2 | accuracy = 75.0 %\n",
            "epoche 3 | accuracy = 75.0 %\n",
            "epoche 4 | accuracy = 75.0 %\n",
            "epoche 5 | accuracy = 100.0 %\n",
            "epoche 6 | accuracy = 100.0 %\n",
            "epoche 7 | accuracy = 100.0 %\n",
            "epoche 8 | accuracy = 100.0 %\n",
            "epoche 9 | accuracy = 100.0 %\n",
            "epoche 10 | accuracy = 100.0 %\n",
            "train accuracy: 100.0 %\n"
          ]
        }
      ],
      "source": [
        "d = perceptron_model(X, Y, number_iterations = 10)"
      ]
    },
    {
      "cell_type": "code",
      "execution_count": 30,
      "metadata": {
        "id": "2LMt1oMmEPin"
      },
      "outputs": [],
      "source": [
        "def plot_decision_boundary(model, X, y):\n",
        "    # Set min and max values and give it some padding\n",
        "    x_min, x_max = X[0, :].min() - 1, X[0, :].max() + 1\n",
        "    y_min, y_max = X[1, :].min() - 1, X[1, :].max() + 1\n",
        "    h = 0.02\n",
        "\n",
        "    # Generate a grid of points with distance h between them\n",
        "    xx, yy = np.meshgrid(np.arange(x_min, x_max, h), np.arange(y_min, y_max, h))\n",
        "\n",
        "    # Predict the function value for the whole grid\n",
        "    Z = model(np.c_[xx.ravel(), yy.ravel()])\n",
        "    Z = Z.reshape(xx.shape)\n",
        "\n",
        "    # Plot the contour and training examples\n",
        "    plt.contourf(xx, yy, Z, cmap=plt.cm.Spectral)\n",
        "    plt.ylabel('x2')\n",
        "    plt.xlabel('x1')\n",
        "    plt.scatter(X[0, :], X[1, :], marker='o', c = y.T, s=120)"
      ]
    },
    {
      "cell_type": "code",
      "execution_count": 31,
      "metadata": {
        "id": "BXQUUdhREPin",
        "outputId": "1fa8ba6f-1a7f-4fb5-fb32-d14d65487d7b",
        "colab": {
          "base_uri": "https://localhost:8080/",
          "height": 449
        }
      },
      "outputs": [
        {
          "output_type": "display_data",
          "data": {
            "text/plain": [
              "<Figure size 640x480 with 1 Axes>"
            ],
            "image/png": "[encoded data removed]"
          },
          "metadata": {}
        }
      ],
      "source": [
        "# Plot the decision boundary\n",
        "plot_decision_boundary(lambda x: step_function(weighted_sum(d[\"w\"], d[\"b\"], x.T)), X, Y)"
      ]
    },
    {
      "cell_type": "code",
      "execution_count": 32,
      "metadata": {
        "id": "3nBlTWuGEPin",
        "outputId": "e871ce52-d51d-4f42-96ec-3dbed3fd8c1d",
        "colab": {
          "base_uri": "https://localhost:8080/"
        }
      },
      "outputs": [
        {
          "output_type": "stream",
          "name": "stdout",
          "text": [
            "epoche 1 | accuracy = 75.0 %\n",
            "epoche 2 | accuracy = 25.0 %\n",
            "epoche 3 | accuracy = 75.0 %\n",
            "epoche 4 | accuracy = 100.0 %\n",
            "epoche 5 | accuracy = 100.0 %\n",
            "epoche 6 | accuracy = 100.0 %\n",
            "epoche 7 | accuracy = 100.0 %\n",
            "epoche 8 | accuracy = 100.0 %\n",
            "epoche 9 | accuracy = 100.0 %\n",
            "epoche 10 | accuracy = 100.0 %\n",
            "train accuracy: 100.0 %\n"
          ]
        }
      ],
      "source": [
        "# AND\n",
        "X = [[0, 0, 1, 1],\n",
        "     [0, 1, 0, 1]]\n",
        "\n",
        "y = [[0, 0, 0, 1]]\n",
        "\n",
        "X = np.array(X)\n",
        "Y = np.array(y)\n",
        "\n",
        "d = perceptron_model(X, Y, number_iterations = 10)"
      ]
    },
    {
      "cell_type": "code",
      "execution_count": 33,
      "metadata": {
        "id": "m6E1c4ykEPin",
        "outputId": "22601860-21e1-490c-fbaa-ed3df3b36f7b",
        "colab": {
          "base_uri": "https://localhost:8080/",
          "height": 449
        }
      },
      "outputs": [
        {
          "output_type": "display_data",
          "data": {
            "text/plain": [
              "<Figure size 640x480 with 1 Axes>"
            ],
            "image/png": "[encoded data removed]"
          },
          "metadata": {}
        }
      ],
      "source": [
        "plot_decision_boundary(lambda x: step_function(weighted_sum(d[\"w\"], d[\"b\"], x.T)), X, Y)"
      ]
    },
    {
      "cell_type": "markdown",
      "metadata": {
        "id": "QIBSg6ofEPin"
      },
      "source": [
        "### Alternatywa rozłączna (XOR)\n",
        "\n",
        "\n",
        "<!-- <img src=\"perceptron_img/or-and-xor.png\" style=\"height:500px;\">\n",
        "(źródło: http://www.cs.stir.ac.uk/courses/ITNP4B/lectures/kms/2-Perceptrons.pdf)\n",
        " -->\n",
        "Podstawowy perceptron ma \"wrodzoną\" wadę. Jeśli danych nie można rozdzielić liniowo lub związku między danymi nie można opisać za pomocą zależności liniowej, model nie znajdzie minimum i nie będzie miał żadnej użytecznej mocy predykcyjnej. Nie będzie w stanie dokładnie przewidzywać.\n"
      ]
    },
    {
      "cell_type": "code",
      "execution_count": 34,
      "metadata": {
        "id": "_VzH2WMZEPio",
        "outputId": "ec76cad8-0cf0-4e71-b970-c4d2751be558",
        "colab": {
          "base_uri": "https://localhost:8080/"
        }
      },
      "outputs": [
        {
          "output_type": "stream",
          "name": "stdout",
          "text": [
            "epoche 1 | accuracy = 50.0 %\n",
            "epoche 2 | accuracy = 50.0 %\n",
            "epoche 3 | accuracy = 50.0 %\n",
            "epoche 4 | accuracy = 50.0 %\n",
            "epoche 5 | accuracy = 50.0 %\n",
            "epoche 6 | accuracy = 50.0 %\n",
            "epoche 7 | accuracy = 50.0 %\n",
            "epoche 8 | accuracy = 50.0 %\n",
            "epoche 9 | accuracy = 50.0 %\n",
            "epoche 10 | accuracy = 50.0 %\n",
            "train accuracy: 50.0 %\n"
          ]
        }
      ],
      "source": [
        "# XOR\n",
        "X = [[0, 0, 1, 1],\n",
        "     [0, 1, 0, 1]]\n",
        "\n",
        "y = [[0, 1, 1, 0]]\n",
        "\n",
        "X = np.array(X)\n",
        "Y = np.array(y)\n",
        "\n",
        "d = perceptron_model(X, Y, number_iterations = 10)"
      ]
    },
    {
      "cell_type": "markdown",
      "metadata": {
        "id": "S4Fovyw8EPio"
      },
      "source": [
        "\n",
        "**Minsky i Papert** (zob. Perceptrons, 1969) wykazali, że gdyby próbek danych nie można było rozdzielić liniowo na dyskretne grupy, perceptron nie byłby w stanie nauczyć się klasyfikować danych wejściowych.\n",
        "\n",
        "Liniowo rozdzielane punkty danych (zob. OR i AND) nie stanowią problemu dla perceptronu. Dane jak dla XOR spowodują, że perceptron pojedynczego neuronu będzie wiecznie kręcił w kółko, nie ucząc się przewidywać czegoś lepszego niż przypadkowe przypuszczenie. Nie jest możliwe narysowanie pojedynczej linii między dwiema klasami XOR. Perceptron nie może opisać równania nieliniowego ani związku nieliniowego."
      ]
    },
    {
      "cell_type": "code",
      "execution_count": null,
      "metadata": {
        "scrolled": false,
        "id": "zKFoM1L3EPio",
        "outputId": "ba965e17-cbf3-4ec2-ef0a-3e4989d25631"
      },
      "outputs": [
        {
          "data": {
            "image/png": "[encoded data removed]",
            "text/plain": [
              "<Figure size 640x480 with 1 Axes>"
            ]
          },
          "metadata": {},
          "output_type": "display_data"
        }
      ],
      "source": [
        "plot_decision_boundary(lambda x: step_function(weighted_sum(d[\"w\"], d[\"b\"], x.T)), X, Y)"
      ]
    },
    {
      "cell_type": "markdown",
      "metadata": {
        "id": "VnoL2B1KEPio"
      },
      "source": [
        "# Iris\n",
        "\n",
        "https://en.wikipedia.org/wiki/Iris_flower_data_set\n",
        "\n",
        "Zbiór danych `iris.data`, znany jako Zbiór Danych Kwiatów Irysa, zawiera informacje o trzech gatunkach kwiatów irysów (Iris Setosa, Iris Versicolor i Iris Virginica). Każdy wiersz w zbiorze reprezentuje pojedynczą próbkę kwiatu. Dla każdej próbki dostępne są cztery cechy opisujące wymiary różnych części kwiatu oraz informacja o gatunku kwiatu.\n",
        "\n",
        "### Opis Kolumn w `iris.data`:\n",
        "\n",
        "1. **Długość Działki Kielicha**:\n",
        "   - Długość działki kielicha (jedna z dwóch części okwiatu kwiatu), mierzona w centymetrach.\n",
        "\n",
        "2. **Szerokość Działki Kielicha**:\n",
        "   - Szerokość działki kielicha, mierzona w centymetrach.\n",
        "\n",
        "3. **Długość Płatka**:\n",
        "   - Długość płatka (część kwiatu, która często ma kolor i wydziela zapach), mierzona w centymetrach.\n",
        "\n",
        "4. **Szerokość Płatka**:\n",
        "   - Szerokość płatka, mierzona w centymetrach.\n",
        "\n",
        "5. **Gatunek**:\n",
        "   - Gatunek kwiatu irysa, wartość kategoryczna obejmująca trzy kategorie:\n",
        "     - Iris Setosa\n",
        "     - Iris Versicolor\n",
        "     - Iris Virginica\n",
        "\n",
        "### Zastosowanie Danych:\n",
        "Ten zbiór danych jest często wykorzystywany w nauce o danych, uczeniu maszynowym i eksploracji danych do testowania algorytmów klasyfikacji, ponieważ umożliwia kategoryzację kwiatów na gatunki na podstawie wymiarów ich części botanicznych. Stanowi doskonały przykład danych wielowymiarowych z jasno określonymi kategoriami, które można łatwo wizualizować, a także jest przydatny do demonstrowania skuteczności algorytmów klasyfikacji."
      ]
    },
    {
      "cell_type": "code",
      "execution_count": 35,
      "metadata": {
        "id": "QrGhY_YTEPio",
        "outputId": "f071d2d5-0fcc-4cd6-b096-ec0f454e4d19",
        "colab": {
          "base_uri": "https://localhost:8080/"
        }
      },
      "outputs": [
        {
          "output_type": "stream",
          "name": "stdout",
          "text": [
            "File downloaded successfully!\n"
          ]
        }
      ],
      "source": [
        "# URL of the Iris dataset\n",
        "url = 'https://archive.ics.uci.edu/ml/machine-learning-databases/iris/iris.data'\n",
        "\n",
        "# Send a GET request to the URL\n",
        "response = requests.get(url)\n",
        "\n",
        "# Check if the request was successful\n",
        "if response.status_code == 200:\n",
        "    # Write the content of the response to a local file\n",
        "    with open('iris.data', 'w') as f:\n",
        "        f.write(response.text)\n",
        "    print(\"File downloaded successfully!\")\n",
        "else:\n",
        "    print(\"Failed to retrieve the file. Status code:\", response.status_code)"
      ]
    },
    {
      "cell_type": "code",
      "execution_count": 42,
      "metadata": {
        "id": "MS2jMPGdEPio",
        "outputId": "9fecc38b-dc4a-4835-afa6-77eecfba93b1",
        "colab": {
          "base_uri": "https://localhost:8080/",
          "height": 206
        }
      },
      "outputs": [
        {
          "output_type": "execute_result",
          "data": {
            "text/plain": [
              "     0    1    2    3            4\n",
              "0  5.1  3.5  1.4  0.2  Iris-setosa\n",
              "1  4.9  3.0  1.4  0.2  Iris-setosa\n",
              "2  4.7  3.2  1.3  0.2  Iris-setosa\n",
              "3  4.6  3.1  1.5  0.2  Iris-setosa\n",
              "4  5.0  3.6  1.4  0.2  Iris-setosa"
            ],
            "text/html": [
              "\n",
              "  <div id=\"df-87011120-86be-4f3e-9207-683f9233ef94\" class=\"colab-df-container\">\n",
              "    <div>\n",
              "<style scoped>\n",
              "    .dataframe tbody tr th:only-of-type {\n",
              "        vertical-align: middle;\n",
              "    }\n",
              "\n",
              "    .dataframe tbody tr th {\n",
              "        vertical-align: top;\n",
              "    }\n",
              "\n",
              "    .dataframe thead th {\n",
              "        text-align: right;\n",
              "    }\n",
              "</style>\n",
              "<table border=\"1\" class=\"dataframe\">\n",
              "  <thead>\n",
              "    <tr style=\"text-align: right;\">\n",
              "      <th></th>\n",
              "      <th>0</th>\n",
              "      <th>1</th>\n",
              "      <th>2</th>\n",
              "      <th>3</th>\n",
              "      <th>4</th>\n",
              "    </tr>\n",
              "  </thead>\n",
              "  <tbody>\n",
              "    <tr>\n",
              "      <th>0</th>\n",
              "      <td>5.1</td>\n",
              "      <td>3.5</td>\n",
              "      <td>1.4</td>\n",
              "      <td>0.2</td>\n",
              "      <td>Iris-setosa</td>\n",
              "    </tr>\n",
              "    <tr>\n",
              "      <th>1</th>\n",
              "      <td>4.9</td>\n",
              "      <td>3.0</td>\n",
              "      <td>1.4</td>\n",
              "      <td>0.2</td>\n",
              "      <td>Iris-setosa</td>\n",
              "    </tr>\n",
              "    <tr>\n",
              "      <th>2</th>\n",
              "      <td>4.7</td>\n",
              "      <td>3.2</td>\n",
              "      <td>1.3</td>\n",
              "      <td>0.2</td>\n",
              "      <td>Iris-setosa</td>\n",
              "    </tr>\n",
              "    <tr>\n",
              "      <th>3</th>\n",
              "      <td>4.6</td>\n",
              "      <td>3.1</td>\n",
              "      <td>1.5</td>\n",
              "      <td>0.2</td>\n",
              "      <td>Iris-setosa</td>\n",
              "    </tr>\n",
              "    <tr>\n",
              "      <th>4</th>\n",
              "      <td>5.0</td>\n",
              "      <td>3.6</td>\n",
              "      <td>1.4</td>\n",
              "      <td>0.2</td>\n",
              "      <td>Iris-setosa</td>\n",
              "    </tr>\n",
              "  </tbody>\n",
              "</table>\n",
              "</div>\n",
              "    <div class=\"colab-df-buttons\">\n",
              "\n",
              "  <div class=\"colab-df-container\">\n",
              "    <button class=\"colab-df-convert\" onclick=\"convertToInteractive('df-87011120-86be-4f3e-9207-683f9233ef94')\"\n",
              "            title=\"Convert this dataframe to an interactive table.\"\n",
              "            style=\"display:none;\">\n",
              "\n",
              "  <svg xmlns=\"http://www.w3.org/2000/svg\" height=\"24px\" viewBox=\"0 -960 960 960\">\n",
              "    <path d=\"M120-120v-720h720v720H120Zm60-500h600v-160H180v160Zm220 220h160v-160H400v160Zm0 220h160v-160H400v160ZM180-400h160v-160H180v160Zm440 0h160v-160H620v160ZM180-180h160v-160H180v160Zm440 0h160v-160H620v160Z\"/>\n",
              "  </svg>\n",
              "    </button>\n",
              "\n",
              "  <style>\n",
              "    .colab-df-container {\n",
              "      display:flex;\n",
              "      gap: 12px;\n",
              "    }\n",
              "\n",
              "    .colab-df-convert {\n",
              "      background-color: #E8F0FE;\n",
              "      border: none;\n",
              "      border-radius: 50%;\n",
              "      cursor: pointer;\n",
              "      display: none;\n",
              "      fill: #1967D2;\n",
              "      height: 32px;\n",
              "      padding: 0 0 0 0;\n",
              "      width: 32px;\n",
              "    }\n",
              "\n",
              "    .colab-df-convert:hover {\n",
              "      background-color: #E2EBFA;\n",
              "      box-shadow: 0px 1px 2px rgba(60, 64, 67, 0.3), 0px 1px 3px 1px rgba(60, 64, 67, 0.15);\n",
              "      fill: #174EA6;\n",
              "    }\n",
              "\n",
              "    .colab-df-buttons div {\n",
              "      margin-bottom: 4px;\n",
              "    }\n",
              "\n",
              "    [theme=dark] .colab-df-convert {\n",
              "      background-color: #3B4455;\n",
              "      fill: #D2E3FC;\n",
              "    }\n",
              "\n",
              "    [theme=dark] .colab-df-convert:hover {\n",
              "      background-color: #434B5C;\n",
              "      box-shadow: 0px 1px 3px 1px rgba(0, 0, 0, 0.15);\n",
              "      filter: drop-shadow(0px 1px 2px rgba(0, 0, 0, 0.3));\n",
              "      fill: #FFFFFF;\n",
              "    }\n",
              "  </style>\n",
              "\n",
              "    <script>\n",
              "      const buttonEl =\n",
              "        document.querySelector('#df-87011120-86be-4f3e-9207-683f9233ef94 button.colab-df-convert');\n",
              "      buttonEl.style.display =\n",
              "        google.colab.kernel.accessAllowed ? 'block' : 'none';\n",
              "\n",
              "      async function convertToInteractive(key) {\n",
              "        const element = document.querySelector('#df-87011120-86be-4f3e-9207-683f9233ef94');\n",
              "        const dataTable =\n",
              "          await google.colab.kernel.invokeFunction('convertToInteractive',\n",
              "                                                    [key], {});\n",
              "        if (!dataTable) return;\n",
              "\n",
              "        const docLinkHtml = 'Like what you see? Visit the ' +\n",
              "          '<a target=\"_blank\" href=https://colab.research.google.com/notebooks/data_table.ipynb>data table notebook</a>'\n",
              "          + ' to learn more about interactive tables.';\n",
              "        element.innerHTML = '';\n",
              "        dataTable['output_type'] = 'display_data';\n",
              "        await google.colab.output.renderOutput(dataTable, element);\n",
              "        const docLink = document.createElement('div');\n",
              "        docLink.innerHTML = docLinkHtml;\n",
              "        element.appendChild(docLink);\n",
              "      }\n",
              "    </script>\n",
              "  </div>\n",
              "\n",
              "\n",
              "<div id=\"df-af5862c9-f522-42db-b2c6-9fada819c029\">\n",
              "  <button class=\"colab-df-quickchart\" onclick=\"quickchart('df-af5862c9-f522-42db-b2c6-9fada819c029')\"\n",
              "            title=\"Suggest charts\"\n",
              "            style=\"display:none;\">\n",
              "\n",
              "<svg xmlns=\"http://www.w3.org/2000/svg\" height=\"24px\"viewBox=\"0 0 24 24\"\n",
              "     width=\"24px\">\n",
              "    <g>\n",
              "        <path d=\"M19 3H5c-1.1 0-2 .9-2 2v14c0 1.1.9 2 2 2h14c1.1 0 2-.9 2-2V5c0-1.1-.9-2-2-2zM9 17H7v-7h2v7zm4 0h-2V7h2v10zm4 0h-2v-4h2v4z\"/>\n",
              "    </g>\n",
              "</svg>\n",
              "  </button>\n",
              "\n",
              "<style>\n",
              "  .colab-df-quickchart {\n",
              "      --bg-color: #E8F0FE;\n",
              "      --fill-color: #1967D2;\n",
              "      --hover-bg-color: #E2EBFA;\n",
              "      --hover-fill-color: #174EA6;\n",
              "      --disabled-fill-color: #AAA;\n",
              "      --disabled-bg-color: #DDD;\n",
              "  }\n",
              "\n",
              "  [theme=dark] .colab-df-quickchart {\n",
              "      --bg-color: #3B4455;\n",
              "      --fill-color: #D2E3FC;\n",
              "      --hover-bg-color: #434B5C;\n",
              "      --hover-fill-color: #FFFFFF;\n",
              "      --disabled-bg-color: #3B4455;\n",
              "      --disabled-fill-color: #666;\n",
              "  }\n",
              "\n",
              "  .colab-df-quickchart {\n",
              "    background-color: var(--bg-color);\n",
              "    border: none;\n",
              "    border-radius: 50%;\n",
              "    cursor: pointer;\n",
              "    display: none;\n",
              "    fill: var(--fill-color);\n",
              "    height: 32px;\n",
              "    padding: 0;\n",
              "    width: 32px;\n",
              "  }\n",
              "\n",
              "  .colab-df-quickchart:hover {\n",
              "    background-color: var(--hover-bg-color);\n",
              "    box-shadow: 0 1px 2px rgba(60, 64, 67, 0.3), 0 1px 3px 1px rgba(60, 64, 67, 0.15);\n",
              "    fill: var(--button-hover-fill-color);\n",
              "  }\n",
              "\n",
              "  .colab-df-quickchart-complete:disabled,\n",
              "  .colab-df-quickchart-complete:disabled:hover {\n",
              "    background-color: var(--disabled-bg-color);\n",
              "    fill: var(--disabled-fill-color);\n",
              "    box-shadow: none;\n",
              "  }\n",
              "\n",
              "  .colab-df-spinner {\n",
              "    border: 2px solid var(--fill-color);\n",
              "    border-color: transparent;\n",
              "    border-bottom-color: var(--fill-color);\n",
              "    animation:\n",
              "      spin 1s steps(1) infinite;\n",
              "  }\n",
              "\n",
              "  @keyframes spin {\n",
              "    0% {\n",
              "      border-color: transparent;\n",
              "      border-bottom-color: var(--fill-color);\n",
              "      border-left-color: var(--fill-color);\n",
              "    }\n",
              "    20% {\n",
              "      border-color: transparent;\n",
              "      border-left-color: var(--fill-color);\n",
              "      border-top-color: var(--fill-color);\n",
              "    }\n",
              "    30% {\n",
              "      border-color: transparent;\n",
              "      border-left-color: var(--fill-color);\n",
              "      border-top-color: var(--fill-color);\n",
              "      border-right-color: var(--fill-color);\n",
              "    }\n",
              "    40% {\n",
              "      border-color: transparent;\n",
              "      border-right-color: var(--fill-color);\n",
              "      border-top-color: var(--fill-color);\n",
              "    }\n",
              "    60% {\n",
              "      border-color: transparent;\n",
              "      border-right-color: var(--fill-color);\n",
              "    }\n",
              "    80% {\n",
              "      border-color: transparent;\n",
              "      border-right-color: var(--fill-color);\n",
              "      border-bottom-color: var(--fill-color);\n",
              "    }\n",
              "    90% {\n",
              "      border-color: transparent;\n",
              "      border-bottom-color: var(--fill-color);\n",
              "    }\n",
              "  }\n",
              "</style>\n",
              "\n",
              "  <script>\n",
              "    async function quickchart(key) {\n",
              "      const quickchartButtonEl =\n",
              "        document.querySelector('#' + key + ' button');\n",
              "      quickchartButtonEl.disabled = true;  // To prevent multiple clicks.\n",
              "      quickchartButtonEl.classList.add('colab-df-spinner');\n",
              "      try {\n",
              "        const charts = await google.colab.kernel.invokeFunction(\n",
              "            'suggestCharts', [key], {});\n",
              "      } catch (error) {\n",
              "        console.error('Error during call to suggestCharts:', error);\n",
              "      }\n",
              "      quickchartButtonEl.classList.remove('colab-df-spinner');\n",
              "      quickchartButtonEl.classList.add('colab-df-quickchart-complete');\n",
              "    }\n",
              "    (() => {\n",
              "      let quickchartButtonEl =\n",
              "        document.querySelector('#df-af5862c9-f522-42db-b2c6-9fada819c029 button');\n",
              "      quickchartButtonEl.style.display =\n",
              "        google.colab.kernel.accessAllowed ? 'block' : 'none';\n",
              "    })();\n",
              "  </script>\n",
              "</div>\n",
              "    </div>\n",
              "  </div>\n"
            ],
            "application/vnd.google.colaboratory.intrinsic+json": {
              "type": "dataframe",
              "variable_name": "df",
              "summary": "{\n  \"name\": \"df\",\n  \"rows\": 150,\n  \"fields\": [\n    {\n      \"column\": 0,\n      \"properties\": {\n        \"dtype\": \"number\",\n        \"std\": 0.828066127977863,\n        \"min\": 4.3,\n        \"max\": 7.9,\n        \"num_unique_values\": 35,\n        \"samples\": [\n          6.2,\n          4.5,\n          5.6\n        ],\n        \"semantic_type\": \"\",\n        \"description\": \"\"\n      }\n    },\n    {\n      \"column\": 1,\n      \"properties\": {\n        \"dtype\": \"number\",\n        \"std\": 0.4335943113621737,\n        \"min\": 2.0,\n        \"max\": 4.4,\n        \"num_unique_values\": 23,\n        \"samples\": [\n          2.3,\n          4.0,\n          3.5\n        ],\n        \"semantic_type\": \"\",\n        \"description\": \"\"\n      }\n    },\n    {\n      \"column\": 2,\n      \"properties\": {\n        \"dtype\": \"number\",\n        \"std\": 1.7644204199522626,\n        \"min\": 1.0,\n        \"max\": 6.9,\n        \"num_unique_values\": 43,\n        \"samples\": [\n          6.7,\n          3.8,\n          3.7\n        ],\n        \"semantic_type\": \"\",\n        \"description\": \"\"\n      }\n    },\n    {\n      \"column\": 3,\n      \"properties\": {\n        \"dtype\": \"number\",\n        \"std\": 0.7631607417008411,\n        \"min\": 0.1,\n        \"max\": 2.5,\n        \"num_unique_values\": 22,\n        \"samples\": [\n          0.2,\n          1.2,\n          1.3\n        ],\n        \"semantic_type\": \"\",\n        \"description\": \"\"\n      }\n    },\n    {\n      \"column\": 4,\n      \"properties\": {\n        \"dtype\": \"category\",\n        \"num_unique_values\": 3,\n        \"samples\": [\n          \"Iris-setosa\",\n          \"Iris-versicolor\",\n          \"Iris-virginica\"\n        ],\n        \"semantic_type\": \"\",\n        \"description\": \"\"\n      }\n    }\n  ]\n}"
            }
          },
          "metadata": {},
          "execution_count": 42
        }
      ],
      "source": [
        "df = pd.read_csv('iris.data', header=None, encoding='utf-8')\n",
        "df.head()"
      ]
    },
    {
      "cell_type": "markdown",
      "source": [
        "0 - \"Długość Działki Kielicha\",\n",
        "\n",
        "1 - \"Szerokość Działki Kielicha\",\n",
        "\n",
        "2 - \"Długość Płatka\",\n",
        "\n",
        "3 - \"Szerokość Płatka\",\n",
        "\n",
        "4 - \"Gatunek\""
      ],
      "metadata": {
        "id": "D3vV4d8xJd6g"
      }
    },
    {
      "cell_type": "code",
      "execution_count": 48,
      "metadata": {
        "id": "WXHhon_LEPio",
        "outputId": "42f2e58b-ac6d-45e9-9db9-0827708aef35",
        "colab": {
          "base_uri": "https://localhost:8080/"
        }
      },
      "outputs": [
        {
          "output_type": "stream",
          "name": "stdout",
          "text": [
            "X.shape =  (2, 100)\n",
            "y.shape =  (1, 100)\n"
          ]
        }
      ],
      "source": [
        "# select setosa and versicolor\n",
        "y = df.iloc[0:100, 4].values\n",
        "y = np.where(y == 'Iris-setosa', 0, 1)\n",
        "y = y.reshape((1,100))\n",
        "\n",
        "# extract sepal length and petal length\n",
        "X = df.iloc[0:100, [0, 2]].values\n",
        "X = X.T\n",
        "\n",
        "print(\"X.shape = \", X.shape)\n",
        "print(\"y.shape = \", y.shape)"
      ]
    },
    {
      "cell_type": "code",
      "execution_count": 49,
      "metadata": {
        "id": "ys86N8_ZEPip",
        "outputId": "ce1994f9-9342-42d0-fb54-089476e186cb",
        "colab": {
          "base_uri": "https://localhost:8080/",
          "height": 449
        }
      },
      "outputs": [
        {
          "output_type": "display_data",
          "data": {
            "text/plain": [
              "<Figure size 640x480 with 1 Axes>"
            ],
            "image/png": "[encoded data removed]"
          },
          "metadata": {}
        }
      ],
      "source": [
        "# plot data\n",
        "plt.scatter(X[0,:50], X[1, :50],\n",
        "            color='red', marker='o', label='Setosa')\n",
        "plt.scatter(X[0, 50:100], X[1, 50:100],\n",
        "            color='blue', marker='s', label='Versicolor')\n",
        "\n",
        "plt.xlabel('Sepal length [cm]')\n",
        "plt.ylabel('Petal length [cm]')\n",
        "plt.legend(loc='upper left')\n",
        "\n",
        "plt.show()"
      ]
    },
    {
      "cell_type": "code",
      "execution_count": 50,
      "metadata": {
        "id": "xKqkzNiaEPip",
        "outputId": "b06d33d0-09d2-4fb1-bc93-0c90bdab1f16",
        "colab": {
          "base_uri": "https://localhost:8080/"
        }
      },
      "outputs": [
        {
          "output_type": "stream",
          "name": "stdout",
          "text": [
            "epoche 1 | accuracy = 50.0 %\n",
            "epoche 2 | accuracy = 50.0 %\n",
            "epoche 3 | accuracy = 50.0 %\n",
            "epoche 4 | accuracy = 50.0 %\n",
            "epoche 5 | accuracy = 50.0 %\n",
            "epoche 6 | accuracy = 53.0 %\n",
            "epoche 7 | accuracy = 50.0 %\n",
            "epoche 8 | accuracy = 100.0 %\n",
            "epoche 9 | accuracy = 100.0 %\n",
            "epoche 10 | accuracy = 100.0 %\n",
            "epoche 11 | accuracy = 100.0 %\n",
            "epoche 12 | accuracy = 100.0 %\n",
            "epoche 13 | accuracy = 100.0 %\n",
            "epoche 14 | accuracy = 100.0 %\n",
            "epoche 15 | accuracy = 100.0 %\n",
            "epoche 16 | accuracy = 100.0 %\n",
            "epoche 17 | accuracy = 100.0 %\n",
            "epoche 18 | accuracy = 100.0 %\n",
            "epoche 19 | accuracy = 100.0 %\n",
            "epoche 20 | accuracy = 100.0 %\n",
            "train accuracy: 100.0 %\n"
          ]
        }
      ],
      "source": [
        "d = perceptron_model(X, y, number_iterations = 20)"
      ]
    },
    {
      "cell_type": "code",
      "execution_count": 51,
      "metadata": {
        "id": "46iTSkv5EPip",
        "outputId": "d7b309fb-8e64-40ca-d435-918ef7f5a29c",
        "colab": {
          "base_uri": "https://localhost:8080/",
          "height": 450
        }
      },
      "outputs": [
        {
          "output_type": "display_data",
          "data": {
            "text/plain": [
              "<Figure size 640x480 with 1 Axes>"
            ],
            "image/png": "[encoded data removed]"
          },
          "metadata": {}
        }
      ],
      "source": [
        "plot_decision_boundary(lambda x: step_function(weighted_sum(d[\"w\"], d[\"b\"], x.T)), X, y)"
      ]
    },
    {
      "cell_type": "code",
      "execution_count": 47,
      "metadata": {
        "id": "1uN4i-JzEPip"
      },
      "outputs": [],
      "source": [
        "# # Define the column names for the Iris dataset\n",
        "# column_names = ['sepal_length', 'sepal_width', 'petal_length', 'petal_width', 'species']\n",
        "\n",
        "# # Read the iris.data file into a pandas DataFrame\n",
        "# iris_df = pd.read_csv('iris.data', header=None, names=column_names)\n",
        "\n",
        "# # Filter only for Setosa and Versicolor\n",
        "# filtered_iris_df = iris_df[iris_df['species'].isin(['Iris-setosa', 'Iris-versicolor'])]\n",
        "\n",
        "# # Plot using seaborn pair plot\n",
        "# sns.pairplot(filtered_iris_df, hue='species', markers=['o', 's'])"
      ]
    },
    {
      "cell_type": "code",
      "execution_count": null,
      "metadata": {
        "id": "qnNcXRfPEPip"
      },
      "outputs": [],
      "source": []
    }
  ],
  "metadata": {
    "kernelspec": {
      "display_name": "Python 3 (ipykernel)",
      "language": "python",
      "name": "python3"
    },
    "language_info": {
      "codemirror_mode": {
        "name": "ipython",
        "version": 3
      },
      "file_extension": ".py",
      "mimetype": "text/x-python",
      "name": "python",
      "nbconvert_exporter": "python",
      "pygments_lexer": "ipython3",
      "version": "3.11.3"
    },
    "colab": {
      "provenance": []
    }
  },
  "nbformat": 4,
  "nbformat_minor": 0
}