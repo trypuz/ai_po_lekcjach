{
  "cells": [
    {
      "cell_type": "markdown",
      "metadata": {
        "id": "view-in-github",
        "colab_type": "text"
      },
      "source": [
        "<a href=\"https://colab.research.google.com/github/trypuz/ai_po_lekcjach/blob/main/programowanie_w_jezyku_python_1/01_python_podstawy.ipynb\" target=\"_parent\"><img src=\"https://colab.research.google.com/assets/colab-badge.svg\" alt=\"Open In Colab\"/></a>"
      ]
    },
    {
      "cell_type": "markdown",
      "metadata": {
        "id": "c6d2702f"
      },
      "source": [
        "# Podstawy programowania w języku Python"
      ]
    },
    {
      "cell_type": "markdown",
      "metadata": {
        "id": "56763b86"
      },
      "source": [
        "## AI i Python"
      ]
    },
    {
      "cell_type": "markdown",
      "metadata": {
        "id": "sticky-sleeping"
      },
      "source": [
        "### AI i Python\n",
        "\n",
        "<span t=\"l1\">Od dziesięciu lat mamy do czyniena z nową rewolucją technologiczną - rewolucją w dziedzinie sztucznej inteligencji (AI).</span> [Andrew Ng](https://en.wikipedia.org/wiki/Andrew_Ng) porównuje obecny wpływ sztucznej inteligencji na nasze życie ze zmianami społecznymi jakie dokonały się w świecie w XX w. dzięki elektryczności. Niektórych czytelników może to porównanie zdziwić, wszak nie często, o ile w ogóle, spotykamy w codziennym życiu roboty i inne inteligentne artefakty rodem z filmów science-fiction. Choć od momentu powstania ChataGPT obecność AI w naszym codziennym życiu stała się bardziej oczywista.\n",
        "\n",
        "Zdefiniujmy czym jest sztuczna inteligencja: <span t=\"l1\">Sztuczna inteligencja, to głównie *programy komputerowe*, czyli sposoby rozwiązywania problemów zapisane w języku zrozumiałym dla komputera.</span> <span t=\"l1\">Oczywiście  nie wszystkie programy komputerowe można nazywać inteligentnymi, lecz tylko te, które mają na celu</span>\n",
        "\n",
        "> <span t=\"q\">automatyzację procesów myślowych standardowo wykonywanych przez ludzi </span>\n",
        "    \n"
      ]
    },
    {
      "cell_type": "markdown",
      "metadata": {
        "id": "PlaokXqfniCr"
      },
      "source": [
        "<span t=\"l1\">Mamy więc tu programy, które</span> <span t=\"l2\">rozpoznają osoby</span>, <span t=\"l2\">tworzą tekst i grafikę</span>, <span t=\"l2\">prowadzą samodzielnie pojazdy</span>, <span t=\"l2\">proponują muzykę odpowiedną dla naszego gustu</span>, a nawet <span t=\"l2\">tworzą profile psychologiczne</span>.\n",
        "\n"
      ]
    },
    {
      "cell_type": "markdown",
      "metadata": {
        "id": "eK5grelhniCr"
      },
      "source": [
        "<span t=\"l1\">Język programowania Python jest niekwestionowanym numerem 1 na liście języków programowania używanych do tworzenia inteligentnych programów komputerowych</span>.\n",
        "\n",
        "Mam głębikie przekonanie, że dziś KAŻDY, przy odrobinie wysiłku i dobrych chęci, może być aktywnym uczestnikiem rewolucji, o której wspomnieliśmy na początku. <span t=\"l1\">Ale pamiętaj, aby tworzyć sztuczną inteligencję musisz programować. Nie ma innej drogi komunikacji człowieka z maszyną</span> (o tym napiszemy więcej w następnym rozdziale)."
      ]
    },
    {
      "cell_type": "markdown",
      "metadata": {
        "id": "b2f85da5"
      },
      "source": [
        "## Programowanie i Python"
      ]
    },
    {
      "cell_type": "markdown",
      "metadata": {
        "id": "G4fhmEARniCr"
      },
      "source": [
        "Jeśli teraz zastanawiasz się czy podołasz nauce programowania, to mamy dla Ciebie kilka wskazówek i rad, które być może uznasz za pomocne."
      ]
    },
    {
      "cell_type": "markdown",
      "metadata": {
        "id": "60iD-y6CniCs"
      },
      "source": [
        "### Dynamika proces uczenia się\n",
        "\n",
        "<span t=\"l1\">Dynamika proces uczenia się wygląda tak...</span> <span t=\"l2\">Na początku czas poświęcony na naukę nie przekłada się na szybki przyrost wiedzy i umiejętności.</span> W tym czasie (niezależnie czego nauka dotyczy, w naszym przypadku chodzi o programowanie) wielu stwierdza „To nie dla mnie!”. To najtrudniejszy okres nauki. Mało co wychodzi, boli głowa, przychodzą czarne myśli. W tym czasie pamiętaj: tak musi być, a ty musisz to rozumieć, przyjąć do wiadomości i kontynuować naukę. <span t=\"l2\">W pewnym momencie nastąpi wyraźna zmiana. Zauważysz to, bez trudu. Zaczniesz mieć przyjemność z wykonywanych zadań programistycznych</span>, przyrost wiedzy w czasie będzie znacznie szybszy i gdy spojrzysz na materiał, który wydawał ci się wcześniej „czarną magią”, pomyślisz „Jak mogłam/mogłem tego wcześniej nie rozumieć!”. <span t=\"l2\">Od tego momentu, jeśli utrzymasz odpowiedni poziom motywacji i zaangażowania, będzie już tylko lepiej!</span>\n",
        "\n",
        "Pamiętaj to co wcześniej napisaliśmy: <span t=\"l1\">Python to numer 1 na liście języków programowania używanych w obszarze sztucznej inteligencji. To narzędzie, którego opanowanie pozwoli Ci uczestniczyć czynnie w rewolucji AI!</span>\n",
        "\n",
        "\n"
      ]
    },
    {
      "cell_type": "markdown",
      "metadata": {
        "id": "uZhFcTPzniCs"
      },
      "source": [
        "### Potraktuj Pythona podobnie jak traktujesz język angielski\n",
        "\n",
        "Celem tego materiału nie jest nauczenie Cię Pythona na tyle, abyś mogła/mógł zajęć się programowaniem zawodowo. <span t=\"l1\">Materiał tu zawarty to jedynie pierwszy krok, który ma Cię przygotować do dalszych, samodzielnych eksploracji.</span> Mam nadzieję, że następnie będziesz kontynuować naukę Python korzystając z innych źródeł. <span t=\"l1\">Potraktuj Pythona podobnie jak traktujesz język angielski (dziś chyba nikt rozsądny nie zapyta „Po co mi angielski?”) - warto go znać, nie wiadomo kiedy się przyda.</span> <span t=\"l1\">Twórca Pythona, holenderski programista Guido van Rossum, tworzył go od samego początku jako język  programowania czytelny co do składni i generalnie prosty. I takim rzeczywiście jest, o czym się niebawem przekonasz.</span>"
      ]
    },
    {
      "cell_type": "markdown",
      "metadata": {
        "id": "186c7ff5"
      },
      "source": [
        "### Programowanie to komunikacja człowieka z komputerem\n",
        "\n",
        "<span t=\"l1\">Programowanie to jeden ze sposobów komunikacji człowieka z komputerem, którego celem jest rozwiązanie jakiegoś problemu.</span> Programista lub programistka, to człowiek, który potrafi taką komunikację skutecznie prowadzić. <span t=\"l1\">W 1936 roku Alan Turing stworzył matematyczny model (nazwany Maszyną Turinga), który pozwala nam ocenić jakie problemy komputer może rozwiązać i jak dany problem jest złożony z punktu widzenia komputera.</span> Od razu uspokajamy, zaczynając programować nie musisz nic wiedzieć o Maszynie Turinga.\n",
        "\n",
        "> Programowanie to sposób komunikacji człowieka z komputerem, którego celem jest rozwiązanie jakiegoś problemu."
      ]
    },
    {
      "cell_type": "markdown",
      "metadata": {
        "id": "6-NNAbSqniCs"
      },
      "source": [
        "<span t=\"l1\">Programist(k)a komunikuje się z komputerem w podobny sposób jak ludzie komunikują się między sobą - używa języka.</span> „Komunikacja” i „język” to terminy z natury przyjazne. <span t=\"l2\">Komunikujemy się wymieniając komunikaty, a każdy komunikat składa się ze znaków.</span> <span t=\"l2\">Znaki w komunikacie ułożone są w pewnym porządku, który definiują reguły składniowe (czyli gramatyka) oraz niosą pewną treść (inaczej znaczenie lub sens), którą komunikujący chce odbiorcy komunikatu przekazać.</span> <span t=\"l2\">Obie strony komunikacji muszą mówić tym samym językiem, aby była ona skuteczna.</span>"
      ]
    },
    {
      "cell_type": "markdown",
      "metadata": {
        "id": "PfoOuV7BniCs"
      },
      "source": [
        "<span t=\"l1\">Gdy komunikat jest niepoprawny gramatycznie, często nie możemy go zrozumieć.</span> <span t=\"l1\">Nie potrafimy również zrozumieć komunikatów poprawnych gramatycznie, ale zawierających wyrażenia, których znaczenia nie rozumiemy (wówczas mówimy „To jest bez sensu!”).</span> <span t=\"l1\">Tak więc sprawne używanie języka w komunikacji, wymaga formułowania komunikatów w sposób poprawny gramatycznie dobierając słowa właściwie, aby całość komunikatu była sensowna. </span>"
      ]
    },
    {
      "cell_type": "markdown",
      "metadata": {
        "id": "7bBuPRQ_niCt"
      },
      "source": [
        "<span t=\"l1\">Język programowania „Python” to jeden z bardzo wielu sposobów komunikacji z maszyną.</span> <span t=\"l1\">Ponieważ jest to język, więc będzie miał swój system znaków, swoją składnię (gramatykę) oraz reguły definiujące znaczenie wyrażeń.</span>\n",
        "<span t=\"l1\">Jako programista lub programistka, komunikując się z komputerem (np. za pomocą Pythona), będziesz wysyłał(a) komputerowi komunikaty instruujące go jakie kroki kolejno powinien on wykonać, tak jakbyś wydawał(a) kolejno rozkazy:</span> <span t=\"l2\">zrób to</span>, <span t=\"l2\">a potem tamto</span>, <span t=\"l2\">a następnie to</span>, <span t=\"l2\">itd.</span>"
      ]
    },
    {
      "cell_type": "markdown",
      "metadata": {
        "id": "vPGkFYkjniCt"
      },
      "source": [
        "<span t=\"l1\">Taki sposób komunikacji z komputerem nazywa się *programowaniem imperatywnym* (imperatyw = nakaz lub rozkaz).</span> <span t=\"l2\">Zatem programowanie imperatywne to po prostu wprowadzanie instrukcji, które mówią komputerowi, co ma robić krok po kroku, zgodnie z intencją programisty.</span> <span t=\"l2\">Zbiór takich instrukcji nazywa się **programem komputerowym**.</span>"
      ]
    },
    {
      "cell_type": "markdown",
      "metadata": {
        "id": "I7srOGi_niCt"
      },
      "source": [
        "<span t=\"l1\">I choć instrukcje zawarte w programie komputerowym potrafią być bardzo złożone, a profesjonalne oprogramowanie może składać się nawet z milionów linii kodu, to zawsze kod ten można rozłożyć na prostsze instrukcje postaci:</span>\n",
        "    \n",
        "- <span t=\"l2\">Jeżeli …, zrób …, w przeciwnym przypadku zrób …</span>\n",
        "- <span t=\"l2\">Wykonaj instrukcję … 10 razy.</span>\n",
        "\n",
        "> Program komputerowy to zbiór instrukcji mówiących komputerowi co ma robić krok po kroku.\n",
        "\n",
        "<span t=\"l1\">Naukę programowania zaczniemy właśnie od nauczenia się tych prostych instrukcji i sukcesywnie będziemy uczyć się składania ich w programy komputerowe. </span>"
      ]
    },
    {
      "cell_type": "markdown",
      "metadata": {
        "id": "acb856af"
      },
      "source": [
        "## Jak pracować z tym notatnikiem?"
      ]
    },
    {
      "cell_type": "markdown",
      "metadata": {
        "id": "3d8c7ae6"
      },
      "source": [
        "### Google Colaboratory\n",
        "\n",
        "Zazwyczaj autorzy książek o programowaniu jeden z pierwszych rozdziałów poświęcają instalacji i konfiguracji niezbędnego środowiska, w którym można programować, tj. prowadzić skuteczną komunikację z komputerem. Zakładam, że wśród czytelników tej książki mogą być osoby podchodzące do instalowania czegokolwiek sceptycznie i raczej niechętnie. I tu mam dobrą wiadomość. Nie musisz niczego instalować!\n",
        "\n",
        "<span t=\"l1\">Firma Google stworzyła Colaboratory, w skrócie Colab, czyli miejsce, gdzie możesz komunikować się z maszyną za pomocą Pythona, a jedyne czego potrzebujesz, to przeglądarka internetowa</span>, w której wpisujesz adres:\n",
        "\n",
        "<span t=\"l2\">https://colab.research.google.com/</span>"
      ]
    },
    {
      "cell_type": "markdown",
      "metadata": {
        "id": "eYBSjHBGVpHe"
      },
      "source": [
        "## Pierwsza linia kodu"
      ]
    },
    {
      "cell_type": "markdown",
      "metadata": {
        "id": "Zj71sDfkpNmo"
      },
      "source": [
        "Zacznijmy od prostej instrukcji `print()`. Za jej pomocą możemy kazać komputerowi wyświetlić coś na ekranie. To „coś” umieszczamy jako argument tej instrukcji między nawiasami."
      ]
    },
    {
      "cell_type": "code",
      "execution_count": null,
      "metadata": {
        "id": "7kFBMu59Lo08"
      },
      "outputs": [],
      "source": [
        "print('coś')"
      ]
    },
    {
      "cell_type": "markdown",
      "metadata": {
        "id": "2zNTpwvLpNmr"
      },
      "source": [
        "Zauważ, że napis „coś” w powyższym kodzie jest otoczony z obu stron amerykańskim cudzysłowem pojedynczym `'`. To informacja dla komputera, że „coś” jest niczym więcej niż zwykłym napisem (ang. *string*). Właśnie poznaliśmy pierwszy typ danych „napis”."
      ]
    },
    {
      "cell_type": "markdown",
      "metadata": {
        "id": "g4XSu8p2pNmr"
      },
      "source": [
        "### Zapamiętaj!\n",
        "\n",
        "<span t=\"l1\">`print()` - wyświetla informację na ekranie.</span>\n",
        "\n",
        "Instrukcje Pythona takie jak `print()` będziemy nazywać **funkcjami**. Więcej o funkcjach powiemy nieco później."
      ]
    },
    {
      "cell_type": "markdown",
      "metadata": {
        "id": "KiurPhRnV97U"
      },
      "source": [
        "## Napisy, zmienne i komentarze"
      ]
    },
    {
      "cell_type": "markdown",
      "metadata": {
        "id": "F9qls9j3niCv"
      },
      "source": [
        "### Zmienna\n",
        "\n",
        "Teraz zastanówmy się, co by się stało, gdybyśmy przekazali komputerowi następującą instrukcję:"
      ]
    },
    {
      "cell_type": "code",
      "execution_count": null,
      "metadata": {
        "id": "ckK0vQ-DVKmb",
        "scrolled": true
      },
      "outputs": [],
      "source": [
        "print(coś)"
      ]
    },
    {
      "cell_type": "markdown",
      "metadata": {
        "id": "0iDkn6FUpNmt"
      },
      "source": [
        "Python odpowie nam komunikatem typu `NameError`, o treści „zmienna (ang. *variable*)  o nazwie coś nie została zdefiniowana”.\n",
        "\n",
        "<span t=\"l1\">Co to jest **zmienna**? Na to pytanie jest tylko jedna odpowiedź: *zmienna to nie jest stała*. To paradoksalnie tautologiczne ujęcie rzeczy mówi wszystko o tym czym jest zmienna. Stałą jest na przykład poznany wcześniej napis 'coś'. Jest on taki jaki jest i nie może być inny. Zmienna natomiast zmienną jest, czyli może przyjmować różną postać, tj. różne wartości.</span> Weźmy na przykład zmienną `current_year` i przypiszmy jej wartość `2021`, co zapisujemy w Pythonie:"
      ]
    },
    {
      "cell_type": "code",
      "execution_count": null,
      "metadata": {
        "id": "AUJ506b5VMRR"
      },
      "outputs": [],
      "source": [
        "current_year = 2021\n",
        "print(current_year)"
      ]
    },
    {
      "cell_type": "markdown",
      "metadata": {
        "id": "2ZyNlw_1puWY"
      },
      "source": [
        "Rok później przypiszemy tej zmiennej inną wartość:"
      ]
    },
    {
      "cell_type": "code",
      "execution_count": null,
      "metadata": {
        "id": "V9DEupkPGO7m"
      },
      "outputs": [],
      "source": [
        "current_year = 2022\n",
        "print(current_year)"
      ]
    },
    {
      "cell_type": "markdown",
      "metadata": {
        "id": "zsHQ8ysypzW2"
      },
      "source": [
        "I tak co roku wartość ta będzie się zwiększać o 1. Instrukcja `print(current_year)` wyświetli co roku inną wartość, najpierw 2021, potem 2022, itd.\n",
        "\n",
        "Zauważmy, w jaki sposób przypisujemy wartości do zmiennej. Instrukcja przypisania (ang. *assignment statement*), składa się z nazwy zmiennej (`current_year`), znaku równości (`=`), zwanego operatorem przypisania (ang. *assignment operator*) oraz wartości, która ma zostać przypisana (`2021`). Tak na marginesie, właśnie poznaliśmy drugi typ danych: liczby całkowite (ang. *integer*). Zmienna `current_year` jest właśnie tego typu.\n",
        "\n",
        "Programując będziemy używać języka angielskiego do nazw zmiennych (a później również funkcji, metod i klas). Język polski może pojawić się w komunikatach zwracanych do użytkownika.\n",
        "\n",
        "Wiemy już czym są napisy i jak je wyświetlić. Na przykład instrukcja poniżej wyświetli napis „Witaj świecie!”:"
      ]
    },
    {
      "cell_type": "code",
      "execution_count": null,
      "metadata": {
        "id": "XqU0lPFTWCly"
      },
      "outputs": [],
      "source": [
        "print('Witaj świecie!')"
      ]
    },
    {
      "cell_type": "markdown",
      "metadata": {
        "id": "1XkQLA9nqkgK"
      },
      "source": [
        "Napisy można ze sobą łączyć za pomocą `+`. Poniższa instrukcja wyświetli napis „Ala ma kota.” (zwróć uwagę na spacje przed i po „ma”):\n"
      ]
    },
    {
      "cell_type": "code",
      "execution_count": null,
      "metadata": {
        "id": "2cAQMhipWIBd"
      },
      "outputs": [],
      "source": [
        "print('Ala' + ' ma ' + 'kota.')"
      ]
    },
    {
      "cell_type": "markdown",
      "metadata": {
        "id": "jvQzujO4qpMB"
      },
      "source": [
        "Podobny efekt uzyskamy pisząc:\n"
      ]
    },
    {
      "cell_type": "code",
      "execution_count": null,
      "metadata": {
        "id": "4P1IueWqWVnN"
      },
      "outputs": [],
      "source": [
        "print('Ala', 'ma', 'kota.')"
      ]
    },
    {
      "cell_type": "markdown",
      "metadata": {
        "id": "VwHx-frUqwOJ"
      },
      "source": [
        "Sprawdź samodzielnie jaki będzie wynik wykonania poniższej instrukcji:"
      ]
    },
    {
      "cell_type": "code",
      "execution_count": null,
      "metadata": {
        "id": "AuuMvB3O7kGE"
      },
      "outputs": [],
      "source": [
        "print('Ala', 'ma', 'kota', sep='-', end='.')"
      ]
    },
    {
      "cell_type": "markdown",
      "metadata": {
        "id": "Oyik6_DVq4DX"
      },
      "source": [
        "Poniższe dwie linie kodu pokazują, że znak `+` zachowuje się inaczej gdy jest zastosowany do napisów, a inaczej, gdy stosujemy go do liczb. Zauważ różnice."
      ]
    },
    {
      "cell_type": "code",
      "execution_count": null,
      "metadata": {
        "id": "LWL03BmzHjkZ"
      },
      "outputs": [],
      "source": [
        "print('10' + '5')"
      ]
    },
    {
      "cell_type": "code",
      "execution_count": null,
      "metadata": {
        "id": "3HemD1IUHma6"
      },
      "outputs": [],
      "source": [
        "print(10 + 5)"
      ]
    },
    {
      "cell_type": "markdown",
      "metadata": {
        "id": "05VRytI8q-jG"
      },
      "source": [
        "Pokażemy teraz jak można wstawić coś wewnątrz napisu. Przypomnijmy, że wcześniej zdefiniowaliśmy zmienną:\n"
      ]
    },
    {
      "cell_type": "code",
      "execution_count": null,
      "metadata": {
        "id": "5cMEB0O2VPMb"
      },
      "outputs": [],
      "source": [
        "current_year = 2022"
      ]
    },
    {
      "cell_type": "markdown",
      "metadata": {
        "id": "QgQe4YEirfUy"
      },
      "source": [
        "Dodamy teraz jeszcze jedną:\n"
      ]
    },
    {
      "cell_type": "code",
      "execution_count": null,
      "metadata": {
        "id": "WramsHiDrbVq"
      },
      "outputs": [],
      "source": [
        "my_age = current_year - 1979\n",
        "print(my_age)"
      ]
    },
    {
      "cell_type": "markdown",
      "metadata": {
        "id": "Y9Db017_ra8r"
      },
      "source": [
        "Użyjmy ich teraz do w następujących pięciu wywołaniach funkcji `print()`:\n"
      ]
    },
    {
      "cell_type": "code",
      "execution_count": null,
      "metadata": {
        "id": "eZDjZTSpNl83"
      },
      "outputs": [],
      "source": [
        "print('Mam', my_age, 'lat(a).')\n",
        "print('Mam %d lat(a).' % my_age)\n",
        "print('Mam %s lat(a).' % my_age)\n",
        "print('Mam {} lat(a).'.format(my_age))\n",
        "print(f'Mam {my_age} lat(a).')"
      ]
    },
    {
      "cell_type": "markdown",
      "metadata": {
        "id": "Od_jW4q-C5qv"
      },
      "source": [
        "Przeanalizuj również poniższy kod."
      ]
    },
    {
      "cell_type": "code",
      "execution_count": null,
      "metadata": {
        "id": "mNMPaxtfNhDD"
      },
      "outputs": [],
      "source": [
        "hello = 'Cześć %s!'\n",
        "print(hello % 'Maciek')"
      ]
    },
    {
      "cell_type": "markdown",
      "metadata": {
        "id": "1z6lS1j8y7S0"
      },
      "source": [
        "### Komentarze\n",
        "\n",
        "<span t=\"l1\">Kod Pythona można opatrywać komentarzami. Jest to bardzo porządane, gdyż ułatwia zrozumienie kodu, szczególnie, gdy do niego wracamy po dłuższym czasie niewidzenia.</span> Python umożliwa dwa typy komentarzy:"
      ]
    },
    {
      "cell_type": "code",
      "execution_count": null,
      "metadata": {
        "id": "h1ayQ7IhC5qw"
      },
      "outputs": [],
      "source": [
        "# komentarz w jednej linii\n",
        "print('Nie zobaczysz komentarzy!') # komentarz w jednej linii"
      ]
    },
    {
      "cell_type": "code",
      "execution_count": null,
      "metadata": {
        "id": "sEv8f3GCC5qw"
      },
      "outputs": [],
      "source": [
        "\"\"\"\n",
        "    komentarz\n",
        "    w kilku\n",
        "    liniach\n",
        "\"\"\"\n",
        "print('Nie zobaczysz komentarzy!')"
      ]
    },
    {
      "cell_type": "markdown",
      "metadata": {
        "id": "7S7IJAjRC5qx"
      },
      "source": [
        "### Formatowanie napisów"
      ]
    },
    {
      "cell_type": "markdown",
      "metadata": {
        "id": "NwhJXjdurzyH"
      },
      "source": [
        "<span t=\"l1\">Wewnątrz napisu można umieszczać znaki specjalne (ang. *escape characters*).</span> Znaki specjalne zawsze zaczynają się od backslasha „`\\`”. Oto przykłady działania znaku tabulacji „`\\t`” i nowej linii „`\\n`”:"
      ]
    },
    {
      "cell_type": "code",
      "execution_count": null,
      "metadata": {
        "id": "2dX1iq_KWbid"
      },
      "outputs": [],
      "source": [
        "print('\\tPink Floyd') # tabulacja"
      ]
    },
    {
      "cell_type": "code",
      "execution_count": null,
      "metadata": {
        "id": "qbCWp1-YWd0f"
      },
      "outputs": [],
      "source": [
        "print('Pink\\nFloyd') # nowa linia"
      ]
    },
    {
      "cell_type": "markdown",
      "metadata": {
        "id": "ozGUGrzhsO_2"
      },
      "source": [
        "Do znaków specjalnych wrócimy jeszcze później, gdy będziemy mówić o wyrażeniach regularnych.\n",
        "\n",
        "Teraz poznamy drugą funkcję `len()`. Jej argumentem, czyli tym co umieścimy między nawiasami „`(`” i „`)`”, może być napis, a tym co  ona zwraca jest jego długość. Na przykład:\n"
      ]
    },
    {
      "cell_type": "code",
      "execution_count": null,
      "metadata": {
        "id": "3TpH7XB1Wtjt"
      },
      "outputs": [],
      "source": [
        "len('Ummagumma') # liczba znaków"
      ]
    },
    {
      "cell_type": "code",
      "execution_count": null,
      "metadata": {
        "id": "BffvgstaWuYl"
      },
      "outputs": [],
      "source": [
        "len('Ummagumma      ')"
      ]
    },
    {
      "cell_type": "code",
      "execution_count": null,
      "metadata": {
        "id": "AkVJP6adW3SE"
      },
      "outputs": [],
      "source": [
        "len('       Ummagumma ')"
      ]
    },
    {
      "cell_type": "markdown",
      "metadata": {
        "id": "x-87gRb0sYPR"
      },
      "source": [
        "Widać więc, że spacje są również liczone gdy sprawdzamy długość napisów."
      ]
    },
    {
      "cell_type": "markdown",
      "metadata": {
        "id": "vOi4klYUscLt"
      },
      "source": [
        "Python posiada instrukcje do usuwanie spacji z początku lub końca napisu."
      ]
    },
    {
      "cell_type": "code",
      "execution_count": null,
      "metadata": {
        "id": "nXYTZ2ZhW84d"
      },
      "outputs": [],
      "source": [
        "print(' Ummagumma      '.rstrip()) # usuwanie wszytkich spacji z prawej strony napisu\n",
        "print('      Ummagumma '.lstrip()) # usuwanie wszytkich spacji z lewej strony napisu\n",
        "print('    Ummagumma   '.strip())  # usuwanie wszytkich spacji z obu stron napisu"
      ]
    },
    {
      "cell_type": "code",
      "execution_count": null,
      "metadata": {
        "id": "hn_13eu8W-B4"
      },
      "outputs": [],
      "source": [
        "print(len(' Ummagumma      '.rstrip()))\n",
        "print(len('      Ummagumma '.lstrip()))\n",
        "print(len('    Ummagumma   '.strip()))"
      ]
    },
    {
      "cell_type": "markdown",
      "metadata": {
        "id": "oJDE1STbsj-i"
      },
      "source": [
        "<span t=\"l1\">Takie instrukcje, które „doczepiamy” za pomocą kropki `.` (na przykład do napisów, po to, aby je przekształcić) nazywamy **metodami**. To, do czego „doczepiamy” metodę nazywa się **obiektem**. Każdy napis jest obiektem (choć nie każdy obiekt jest napisem, co znaczy, że poznamy jeszcze inne obiekty, które nie będą napisami). </span>\n",
        "\n",
        "Mówimy, że metoda jest wywoływana na obiekcie (gdy ją do niego „doczepiamy”). W poniższym przykładzie napis `' Ummagumma '` jest obiektem, na którym wywołujemy metodę `strip()`.  \n"
      ]
    },
    {
      "cell_type": "code",
      "execution_count": null,
      "metadata": {
        "id": "EtDidZ9qvG_1"
      },
      "outputs": [],
      "source": [
        "' Ummagumma '.strip()"
      ]
    },
    {
      "cell_type": "markdown",
      "metadata": {
        "id": "9jKuBz7LvFwN"
      },
      "source": [
        "Oto inne pożyteczne metody, jakie można wywołać na napisach:\n"
      ]
    },
    {
      "cell_type": "code",
      "execution_count": null,
      "metadata": {
        "id": "UQ4dHC0PXDfr"
      },
      "outputs": [],
      "source": [
        "print('robert trypuz'.title())\n",
        "print('RoBert TrypUz'.title())\n",
        "print('robert trypuz'.upper())\n",
        "print('RoBert TrypUz'.lower())\n",
        "print('ala ma kota.'.capitalize())"
      ]
    },
    {
      "cell_type": "markdown",
      "metadata": {
        "id": "bXugTwtJv9Bf"
      },
      "source": [
        "Jeśli chcesz znaleźć fragment napisu w napisie użyj metod `find()` lub `index()`. Każdy znak w napisie ma swój numer porządkowy. Zaczynami numerować znaki od 0. Czyli w napisie „kot ”, znak „k” będzie miał indeks 0, „o” indeks 1, „t” indeks 2 i „ ” indeks 3. Metody `find()` i `index()` zwrócą indeks pierwszego wystąpienia szukanego fragmentu. Przeanalizuj samodzielnie poniższy przykład."
      ]
    },
    {
      "cell_type": "code",
      "execution_count": null,
      "metadata": {
        "id": "Oxg461huoP0p"
      },
      "outputs": [],
      "source": [
        "yoda_sentence = 'Dwóch zawsze ich jest. Nie mniej, nie więcej. Mistrz i uczeń.'\n",
        "print(yoda_sentence.find('uczeń'))\n",
        "print(yoda_sentence.index('uczeń'))\n",
        "print(yoda_sentence.find('Yoda'))"
      ]
    },
    {
      "cell_type": "markdown",
      "metadata": {
        "id": "RxbzFoGjw0gU"
      },
      "source": [
        "W przypadku, gdy szukanego fragment nie będzie w napisie, metoda `find()` zwróci -1, zaś metoda `index()` zwróci wyjątek („*substring not found*”).\n"
      ]
    },
    {
      "cell_type": "code",
      "execution_count": null,
      "metadata": {
        "id": "iKqmPyR45VAP"
      },
      "outputs": [],
      "source": [
        "print(yoda_sentence.index('Yoda'))"
      ]
    },
    {
      "cell_type": "markdown",
      "metadata": {
        "id": "k2aIuSIVxJzs"
      },
      "source": [
        "Wróćmy jeszcze do tego, że każdy znak w napisie ma swój numer. Za pomocą indeksów możemy „wykroić” z napisu jeden znak albo więcej znaków. Przeanalizuj wyniki poniższego kodu:\n"
      ]
    },
    {
      "cell_type": "code",
      "execution_count": null,
      "metadata": {
        "id": "ttPv59FuZJUG"
      },
      "outputs": [],
      "source": [
        "# slicing\n",
        "print('Robert Trypuz'[3])\n",
        "print('Robert Trypuz'[3:10])\n",
        "print('Robert Trypuz'[3:10:2])"
      ]
    },
    {
      "cell_type": "code",
      "execution_count": null,
      "metadata": {
        "id": "fyQXfZfKNAGH"
      },
      "outputs": [],
      "source": [
        "t = 'Thor, syn Odyna, odpowiednik południowogermańskiego Donara, jeden z głównych bogów nordyckich'\n",
        "m = t[19]+t[12]+t[0:3]+t[8]+t[5]+t[60]+t[23]+t[6]+t[0]+t[5]+t[6]+t[32]+t[19]+t[23]+t[3]\n",
        "print(m.capitalize(), end='!')"
      ]
    },
    {
      "cell_type": "markdown",
      "metadata": {
        "id": "NbUKwCYYxUIN"
      },
      "source": [
        "Metoda `count()` zwraca liczbę wystąpień fragmentu napisu (znaku, wyrazu lub frazy) w napisie:\n"
      ]
    },
    {
      "cell_type": "code",
      "execution_count": null,
      "metadata": {
        "id": "MvK3LGQVyQW5"
      },
      "outputs": [],
      "source": [
        "print(yoda_sentence.count('uczeń'))\n",
        "print(yoda_sentence.count('nie'))"
      ]
    },
    {
      "cell_type": "markdown",
      "metadata": {
        "id": "Qp8nbfKXxaLH"
      },
      "source": [
        "`replace()` domyślnie zastępuje wszystkie wystąpienia pierwszego argumentu przez drugi."
      ]
    },
    {
      "cell_type": "code",
      "execution_count": null,
      "metadata": {
        "id": "I8LKk9Rj6NzM"
      },
      "outputs": [],
      "source": [
        "print(yoda_sentence.replace('uczeń','padawan'))"
      ]
    },
    {
      "cell_type": "markdown",
      "metadata": {
        "id": "JPy7mzZxxcTY"
      },
      "source": [
        "Napiszmy teraz krótki programik, który wykorzysta zdobytą przez nas do tej pory wiedzę. W programie wykorzystamy nową funkcję `input()` - to już trzecia funkcja jaką poznajesz! Odczytuje ona to co napisze użytkownik i przekształca to na napis.\n",
        "\n",
        "Po wykonaniu poniższych czterech linii kodu, komputer poprosi cię o podanie twojego imienia, a następnie przywita się z tobą i poda z ilu liter składa się twoje imię:"
      ]
    },
    {
      "cell_type": "code",
      "execution_count": null,
      "metadata": {
        "id": "0rQGD-VjJUpt"
      },
      "outputs": [],
      "source": [
        "print('Podaj swoje imię: ')\n",
        "name = input()\n",
        "print(f'Witaj {name.title()}!')\n",
        "print(f'Twoje imię ma {len(name)} znaków.')"
      ]
    },
    {
      "cell_type": "markdown",
      "metadata": {
        "id": "RcxwsffpycQ6"
      },
      "source": [
        "Wróćmy jeszcze na chwilę do zmiennych i podsumujmy co o nich wiemy. Używanie zmiennych ma wiele zalet. Zmienna umożliwia odnoszenie się do wartości za pomocą nazw oraz do raz wprowadzonej zmiennej można odnosić się kilkakrotnie:\n"
      ]
    },
    {
      "cell_type": "code",
      "execution_count": null,
      "metadata": {
        "id": "rQrqd8Y5ylJz"
      },
      "outputs": [],
      "source": [
        "current_year = 2022\n",
        "my_age = current_year - 1979\n",
        "print('Mam', my_age, 'lat(a).')"
      ]
    },
    {
      "cell_type": "markdown",
      "metadata": {
        "id": "P_NhBKQ-yqjL"
      },
      "source": [
        "Używanie zmiennej pozwala na łatwiejsze zrozumienie znaczenia kodu programu (co ma ogromne znaczenie w przypadku dużych projektów nad którymi pracuje kilku programistów).\n",
        "Pamiętaj również, że nazwy zmiennych muszą spełniać określone zasady:\n",
        "* Nie mogą zawierać spacji (ani innych „niewidocznych” znaków\n",
        "* Mogą zawierać tylko litery, cyfry i znaki podkreślenia `_` (`-` nie jest dozwolony!).\n",
        "* Nie mogą zaczynać się od cyfry.\n",
        "* Zaleca się używanie liter z alfabetu angielskiego.\n"
      ]
    },
    {
      "cell_type": "markdown",
      "metadata": {
        "id": "a05SXTB6zKsU"
      },
      "source": [
        "### Zapamiętaj!\n",
        "\n",
        "`capitalize()` - metoda zwraca kopię oryginalnego napisu i konwertuje pierwszy jego znak na wielką literę, a pozostałe litery zamienia na małe.\n",
        "\n",
        "`count()` - metoda zwraca liczbę wystąpień fragmentu napisu w napisie.\n",
        "\n",
        "`find()` - metoda zwraca najniższy indeks fragmentu napisu w danym napisie, o ile zostanie znaleziony. Jeśli nie zostanie znaleziony, zwraca -1.\n",
        "\n",
        "`index()` - metoda zwraca najniższy indeks fragmentu napisu w danym napisie, o ile zostanie znaleziony. Jeśli nie zostanie znaleziony, zwraca błąd.\n",
        "\n",
        "`input()` - funkcja pobiera dane wejściowe od użytkownika i zwraca je.\n",
        "\n",
        "`len()` - funkcja zwraca liczbę znaków w napisie.\n",
        "\n",
        "`lower()` - metoda zamienia wszystkie wielkie litery w napisie na małe.\n",
        "\n",
        "`lstrip()` - metoda zwraca kopię napisu z usuniętymi spacjami z początku napisu.\n",
        "\n",
        "`replace()` - metoda zwraca kopię napisu, w którym wszystkie wystąpienia fragmentu tego napisu są zastępowane innym napisem.\n",
        "\n",
        "`rstrip()` - metoda zwraca kopię napisu z usuniętymi spacjami z końca napisu.\n",
        "\n",
        "`strip()` - metoda zwraca kopię napisu z usuniętymi spacjami z początku i końca napisu.\n",
        "\n",
        "`title()` - metoda zamienia pierwszy znak w napisie na wielką literę, a pozostałe znaki zamienia na małe litery.\n",
        "\n",
        "`upper()` - metoda zamienia wszystkie małe litery w napisie na wielkie."
      ]
    },
    {
      "cell_type": "markdown",
      "metadata": {
        "id": "LEe8oWLMSSYV"
      },
      "source": [
        "## Liczby"
      ]
    },
    {
      "cell_type": "markdown",
      "metadata": {
        "id": "ff_n8Dbg5EkY"
      },
      "source": [
        "### Liczby w Pythonie\n",
        "<span t=\"l1\">Oprócz napisów mamy również w Pythonie liczby. Możemy w Pythonie wykonywać arytmetyczne operacje na liczbach.</span> Uruchamiając poniższe przykłady bez trudu zrozumiesz sens tych operacji:"
      ]
    },
    {
      "cell_type": "code",
      "execution_count": null,
      "metadata": {
        "id": "LnJh865oSXDE"
      },
      "outputs": [],
      "source": [
        "print(\"6 + 3 =\", 6 + 3)\n",
        "print(\"6 - 3 =\", 6 - 3)\n",
        "print(\"6 * 3 =\", 6 * 3)\n",
        "print(\"6 / 3 =\", 6 / 3)\n",
        "print(\"6 % 3 =\", 6 % 3)\n",
        "print(\"6 ** 3 =\", 6 ** 3)\n",
        "print(\"7 // 3 =\", 7 // 3)"
      ]
    },
    {
      "cell_type": "markdown",
      "metadata": {
        "id": "GDSxf-6V5JrH"
      },
      "source": [
        "Wyżej mówiliśmy o przypisaniu wartości do stworzonej zmiennej."
      ]
    },
    {
      "cell_type": "code",
      "execution_count": null,
      "metadata": {
        "id": "5oiIDUiQSfKI"
      },
      "outputs": [],
      "source": [
        "x = 3\n",
        "print(x)"
      ]
    },
    {
      "cell_type": "markdown",
      "metadata": {
        "id": "BYU1-geH5NO5"
      },
      "source": [
        "Kod w komórce powyżej przypisuje wartość 3 zmiennej `x`. Gdybyśmy teraz chcieli zwiększyć wartość `x` o jeden (niezależnie od tego ile ona teraz wynosi) moglibyśmy zrobić tak:"
      ]
    },
    {
      "cell_type": "code",
      "execution_count": null,
      "metadata": {
        "id": "ep_5VeJOSi9P"
      },
      "outputs": [],
      "source": [
        "x = x + 1\n",
        "print(x)"
      ]
    },
    {
      "cell_type": "markdown",
      "metadata": {
        "id": "SmCjwbol5bls"
      },
      "source": [
        "W Pythonie możemy łączyć operacja przypisania wartości do zmiennej z wykonywaniem operacji arytmetycznych. Na przykład poniża instrukcja zrobi dokładnie to samo co `x = x + 1`:\n"
      ]
    },
    {
      "cell_type": "code",
      "execution_count": null,
      "metadata": {
        "id": "mBBTQAa6SrY1"
      },
      "outputs": [],
      "source": [
        "x += 1\n",
        "print(x)"
      ]
    },
    {
      "cell_type": "markdown",
      "metadata": {
        "id": "qtd1n0Mh6L1t"
      },
      "source": [
        "Łączymy `+` z `=` i mamy `+=`, czyli jednoczesne przypisanie z sumą. Podobnie możemy zrobić z innymi operacjami arytmetycznymi. Na przykład:"
      ]
    },
    {
      "cell_type": "code",
      "execution_count": null,
      "metadata": {
        "id": "nua8qDPQSvKs"
      },
      "outputs": [],
      "source": [
        "x = 3\n",
        "x *= 2\n",
        "print(x)"
      ]
    },
    {
      "cell_type": "markdown",
      "metadata": {
        "id": "HX74kyavVj74"
      },
      "source": [
        "## Przepływ sterowania"
      ]
    },
    {
      "cell_type": "markdown",
      "metadata": {
        "id": "lYucXRS21yq5"
      },
      "source": [
        "Powiedzieliśmy na początku, że programowanie, to wydawanie instrukcji komputerowi: zrób to, a potem tamto, itd. Teraz powiemy, że instrukcje mogą być  nieco bardziej złożone i niekiedy warunkowe, tj. ich wykonanie będzie zależeć od spełnienia (tj. prawdziwości) zadanego przez nas warunku."
      ]
    },
    {
      "cell_type": "markdown",
      "metadata": {
        "id": "96sJD9wRTC_R"
      },
      "source": [
        "### Prawda i fałsz"
      ]
    },
    {
      "cell_type": "markdown",
      "metadata": {
        "id": "bCEckb5n14YO"
      },
      "source": [
        "Możemy zapytać komputer używając Pythona, czy dane wyrażenie jest prawdziwe (`True`) czy fałszywe (`False`)."
      ]
    },
    {
      "cell_type": "code",
      "execution_count": null,
      "metadata": {
        "id": "gNubQltiU5tl"
      },
      "outputs": [],
      "source": [
        "2+2 == 4"
      ]
    },
    {
      "cell_type": "code",
      "execution_count": null,
      "metadata": {
        "id": "FeiS2r8p2BiP"
      },
      "outputs": [],
      "source": [
        "2+2 != 4"
      ]
    },
    {
      "cell_type": "code",
      "execution_count": null,
      "metadata": {
        "id": "ce_Isrm9VCak"
      },
      "outputs": [],
      "source": [
        "16 > 18"
      ]
    },
    {
      "cell_type": "code",
      "execution_count": null,
      "metadata": {
        "id": "2TvdIV1MVoR2"
      },
      "outputs": [],
      "source": [
        "19 >= 18"
      ]
    },
    {
      "cell_type": "markdown",
      "metadata": {
        "id": "pjCSSTCd2KR1"
      },
      "source": [
        "Użyte w czterech powyższych komórkach operatory są dość oczywiste, ale powiedzmy dla jasności, że `==`,`!=`, `>`, `>=` znaczą odpowiednio „jest identyczne”, „jest różne”, „jest większe” oraz „jest większe bądź równe”."
      ]
    },
    {
      "cell_type": "markdown",
      "metadata": {
        "id": "EY8OCbMa38Zm"
      },
      "source": [
        "W Pythonie mamy wiele metod, które będą zwracać wartości `True` lub `False`. Na przykład: `isupper()`, `islower()`, `isalpha()`, `isdigit()`, czy `endswith()`. Jeśli uruchomisz każde z poniższych linii kodu w osobnej komórce notatnika w tym porządku w jakim są poniżej, to otrzymasz jako wynik na zmianę `True` i `False`."
      ]
    },
    {
      "cell_type": "code",
      "execution_count": null,
      "metadata": {
        "id": "BjvwcAjAiRGc"
      },
      "outputs": [],
      "source": [
        "'ROBERT TRYPUZ'.isupper()"
      ]
    },
    {
      "cell_type": "code",
      "execution_count": null,
      "metadata": {
        "id": "75ROgvaujXCN"
      },
      "outputs": [],
      "source": [
        "'ALTUM'.islower()"
      ]
    },
    {
      "cell_type": "code",
      "execution_count": null,
      "metadata": {
        "id": "9LPnbwLhjdIJ"
      },
      "outputs": [],
      "source": [
        "'Robert'.isalpha()"
      ]
    },
    {
      "cell_type": "code",
      "execution_count": null,
      "metadata": {
        "id": "6Sh_mEYxjj-L"
      },
      "outputs": [],
      "source": [
        "'Robert Trypuz'.isalpha()"
      ]
    },
    {
      "cell_type": "code",
      "execution_count": null,
      "metadata": {
        "id": "yvDgucyKjnGC"
      },
      "outputs": [],
      "source": [
        "'123'.isdigit()"
      ]
    },
    {
      "cell_type": "code",
      "execution_count": null,
      "metadata": {
        "id": "Ae59Y4gHjuvw"
      },
      "outputs": [],
      "source": [
        "'10 000'.isdigit()"
      ]
    },
    {
      "cell_type": "code",
      "execution_count": null,
      "metadata": {
        "id": "lDba8XhTjzOP"
      },
      "outputs": [],
      "source": [
        "'Robert Trypuz'.endswith('Trypuz')"
      ]
    },
    {
      "cell_type": "markdown",
      "metadata": {
        "id": "GjzR-ddV4OXh"
      },
      "source": [
        "Zauważ, że przedostatnie wyrażenie zwróci wartość `False`. Dzieje się tak dlatego, że w napisie `10 000` jest spacja. Spacja jest też powodem, dla którego instrukcja `'Robert Trypuz'.isalpha()` zwróci wartość `False`.\n"
      ]
    },
    {
      "cell_type": "markdown",
      "metadata": {
        "id": "yA6ZZc2J4eZr"
      },
      "source": [
        "### Zapamiętaj!"
      ]
    },
    {
      "cell_type": "markdown",
      "metadata": {
        "id": "ITd7FMLw4l4s"
      },
      "source": [
        "`endswith()` - metoda zwraca `True`, jeśli napis kończy się określonym sufiksem. Jeśli nie, zwraca `False`.\n",
        "\n",
        "`isalpha()` - metoda zwraca `True`, jeśli wszystkie znaki w napisie są literami z alfabetu („alpha” to skrót od „alphabet”). Jeśli nie, zwraca `False`.\n",
        "\n",
        "`isdigit()` - metoda zwraca `True`, jeśli wszystkie znaki w napisie są cyframi. Jeśli nie, zwraca `False`.\n",
        "\n",
        "`islower()` - metoda zwraca `True`, jeśli wszystkie litery w napisie są małymi literami. Jeśli napis zawiera co najmniej jedną wielką literę, zwraca `False`.\n",
        "\n",
        "`isupper()` - metoda zwraca `True`, jeśli wszystkie litery w napisie są dużymi literami. Jeśli napis zawiera co najmniej jedną małą literę, zwraca `False`."
      ]
    },
    {
      "cell_type": "markdown",
      "metadata": {
        "id": "s__wkfli43kV"
      },
      "source": [
        "### Zbadaj samodzielnie i zapamiętaj!"
      ]
    },
    {
      "cell_type": "markdown",
      "metadata": {
        "id": "Xk0nkLkk46RG"
      },
      "source": [
        "`isnumeric()` - metoda zwraca `True`, jeśli wszystkie znaki w napisie są znakami liczbowymi. Jeśli nie, zwraca `False`.\n",
        "\n",
        "`isspace()` - metoda zwraca `True`, jeśli w napisie znajdują się tylko białe znaki (tj. Nie ma znaków specjalnych jak `\\n` czy `\\t`). Jeśli nie, zwraca `False`.\n",
        "\n",
        "`startswith()` - metoda zwraca `True`, jeśli napis zaczyna się określonym prefiksem. Jeśli nie, zwraca `False`."
      ]
    },
    {
      "cell_type": "markdown",
      "metadata": {
        "id": "36mSiO4kr0Wm"
      },
      "source": [
        "### Instrukcja warunkowa ,,if''"
      ]
    },
    {
      "cell_type": "markdown",
      "metadata": {
        "id": "IxRO_1vs4-Ny"
      },
      "source": [
        "Instrukcja warunkowa to instrukcja, którą komputer wykona pod pewnym warunkiem.\n",
        "\n",
        "```\n",
        "if WARUNEK JEST PRAWDZIWY:\n",
        "   BLOK INSTRUKCJI DO WYKONANIA\n",
        "```\n",
        "\n",
        "Poniższy kod każe komputerowi wyświetlić napis\n",
        "\n",
        "```\n",
        "Jesteś pełnoletni(a) i możesz głosować!\n",
        "Brawo!\n",
        "Masz 19 lat(a).\n",
        "```\n",
        "\n",
        "pod warunkiem, że wartość przypisana zmiennej `my_age` będzie `>= 18`."
      ]
    },
    {
      "cell_type": "code",
      "execution_count": null,
      "metadata": {
        "id": "zwnhTbK_J378"
      },
      "outputs": [],
      "source": [
        "my_age = 19\n",
        "if my_age >= 18:\n",
        "    print('Jesteś pełnoletni(a) i możesz głosować!')\n",
        "    print('Brawo!')\n",
        "print(f'Masz {my_age} lat(a).')"
      ]
    },
    {
      "cell_type": "markdown",
      "metadata": {
        "id": "L6GLtsfbBHV3"
      },
      "source": [
        "Teraz zmieńmy wartość zmiennej `my_age` i zobaczmy różnicę w działaniu kodu:"
      ]
    },
    {
      "cell_type": "code",
      "execution_count": null,
      "metadata": {
        "id": "WRipm9GCNSRi"
      },
      "outputs": [],
      "source": [
        "my_age = 16\n",
        "if my_age >= 18:\n",
        "    print('Jesteś pełnoletni(a) i możesz głosować!')\n",
        "    print('Brawo!')\n",
        "print(f'Masz {my_age} lat(a).')"
      ]
    },
    {
      "cell_type": "markdown",
      "metadata": {
        "id": "pvF_K7-OBStK"
      },
      "source": [
        "Zauważmy, że instrukcje\n",
        "\n",
        "```\n",
        "print('Jesteś pełnoletni(a) i możesz głosować!')\n",
        "print('Brawo!')\n",
        "```\n",
        "w powyższym kodzie zaczynają się „wcięciem” (tabulacją), podczas gdy reszta kodu nie. To nie jest tylko zabieg estetyczny. W ten sposób tworzymy w Pythonie bloki kodu. W tym przypadku chcemy zaznaczyć, że obie instrukcje `print()` zaczynające się tabulacją należą do tego samego bloku kodu, który wykona się o ile spełniony będzie warunek."
      ]
    },
    {
      "cell_type": "markdown",
      "metadata": {
        "id": "Vl6BjIzaC5rF"
      },
      "source": [
        "Poniższy kod wykorzystuje wcześniej poznaną metodę `count()` oraz instrukcję warunkową do wykrywania wulgaryzmów w tekście."
      ]
    },
    {
      "cell_type": "code",
      "execution_count": null,
      "metadata": {
        "id": "lryXGVrMR5dK"
      },
      "outputs": [],
      "source": [
        "entry = 'Nie zgadzam się z tym stanem rzeczy, kurza twarz!'\n",
        "vulgarism = 'kurza twarz'\n",
        "if entry.count(vulgarism) > 0:\n",
        "  print('Komentarz zawiera wyrażenie uznane za obraźliwe.')"
      ]
    },
    {
      "cell_type": "markdown",
      "metadata": {
        "id": "GtmuN5nXC5rF"
      },
      "source": [
        "Instrukcja warunkowa może być nieco bardzie złożona i przybrać postać instrukcji `if-else`:\n",
        "\n",
        "```\n",
        "if WARUNEK JEST PRAWDZIWY:\n",
        "   BLOK INSTRUKCJI DO WYKONANIA\n",
        "else:\n",
        "   BLOK INSTRUKCJI DO WYKONANIA\n",
        "```\n",
        "\n",
        "Blok instrukcji następujący po `else` wykona się o ile warunek następujący po `if` nie będzie spełniony (prawdziwy). Uruchom poniższy kod kilkakrotnie i zrozum jego działanie. Program sprawdza, czy znak wprowadzony przez użytkownika jest samogłoską."
      ]
    },
    {
      "cell_type": "code",
      "execution_count": null,
      "metadata": {
        "id": "bAPGfPCqU0uW"
      },
      "outputs": [],
      "source": [
        "my_age = 14\n",
        "if my_age >= 18:\n",
        "    print('Jesteś pełnoletni(a) i możesz głosować!')\n",
        "else:\n",
        "    print(f'Masz {my_age} lat. Nie możesz głosować!')"
      ]
    },
    {
      "cell_type": "markdown",
      "metadata": {
        "id": "4E3yQhFCCZbZ"
      },
      "source": [
        "`in` w poniższym kodzie to operator przynależności służący do sprawdzenia, czy dany element występuje w sekwencji. W tym kodzie chodzi o sprawdzenie, czy znak jest samogłoską.\n",
        "\n",
        "Możemy użyć `not in`, aby się upewnić, że danego elementu w sekwencji nie ma."
      ]
    },
    {
      "cell_type": "code",
      "execution_count": null,
      "metadata": {
        "id": "RnyISu1wT3rH"
      },
      "outputs": [],
      "source": [
        "print('Podaj znak: ')\n",
        "sign = input()\n",
        "vowels = 'aiueoóyąę'\n",
        "if sign.lower() in vowels:\n",
        "  print(f'Wprowadzony znak \\\"{sign}\\\" jest samogłoską.')\n",
        "else:\n",
        "  print(f'Wprowadzony znak \\\"{sign}\\\" nie jest samogłoską.')"
      ]
    },
    {
      "cell_type": "markdown",
      "metadata": {
        "id": "qi2LUgSrB4C0"
      },
      "source": [
        "Instrukcja warunkowa może być jeszcze bardziej złożona jeśli pomiędzy `if` i `else` dodamy jeszcze `elif`. Otrzymamy wówczas następujący schemat `if-elif-else`:\n",
        "\n",
        "```\n",
        "if WARUNEK JEST PRAWDZIWY:\n",
        "   BLOK INSTRUKCJI DO WYKONANIA\n",
        "elif WARUNEK JEST PRAWDZIWY:\n",
        "   BLOK INSTRUKCJI DO WYKONANIA\n",
        "…\n",
        "elif WARUNEK JEST PRAWDZIWY:\n",
        "   BLOK INSTRUKCJI DO WYKONANIA\n",
        "else:\n",
        "   BLOK INSTRUKCJI DO WYKONANIA\n",
        "```\n",
        "\n",
        "Instrukcja `if-elif-else` pozwala „zniuansować” warunki. W przypadku `if-else` wybór był binarny (albo tak albo inaczej). Fragment `elif` pozwala wprowadzić dodatkowe warunki. Uruchom poniższy program i zrozum jego działanie. To program wyborczy informujący o (nie)możliwości głosowania. Zmień wartość zmiennej `my_age`, aby uruchomić różne warunki.\n",
        "\n"
      ]
    },
    {
      "cell_type": "code",
      "execution_count": null,
      "metadata": {
        "id": "p5LSOgzKWos9"
      },
      "outputs": [],
      "source": [
        "my_age = 15\n",
        "if my_age >= 18:\n",
        "    print('Jesteś pełnoletni(a) i możesz głosować!')\n",
        "elif my_age >= 17:\n",
        "    print(f'Już za rok będziesz głosować!')\n",
        "elif my_age >= 16:\n",
        "    print(f'Już za dwa lata będziesz głosować!')\n",
        "else:\n",
        "   print(f'Masz {my_age} lat... jeszcze poczekasz!')"
      ]
    },
    {
      "cell_type": "markdown",
      "metadata": {
        "id": "421Fp6bHCre5"
      },
      "source": [
        "Program sprawdzający, czy student zaliczył czy też nie ćwiczenia ze wskazaniem powodu ew. niezaliczenia.\n"
      ]
    },
    {
      "cell_type": "code",
      "execution_count": null,
      "metadata": {
        "id": "78b-x_dtWCF0"
      },
      "outputs": [],
      "source": [
        "missed_classes = 3\n",
        "passed_tests = 3 # out of 4\n",
        "class_participation = True\n",
        "\n",
        "if missed_classes > 2:\n",
        "   print('Brak zaliczenia z powodu nieobecności!')\n",
        "elif passed_tests <= 2:\n",
        "   print('Brak zaliczenia; nie zaliczyłeś/aś min 3 testów!')\n",
        "elif not class_participation:\n",
        "   print(\"Brak zaliczenia z powodu braku aktywności!\")\n",
        "else:\n",
        "   print('Zaliczone!', 'Gratulacje!')"
      ]
    },
    {
      "cell_type": "markdown",
      "metadata": {
        "id": "SLYufcq4CxRH"
      },
      "source": [
        "Gdybyśmy chcieli jedynie poinformować studenta, czy zaliczył ćwiczenia czy nie, moglibyśmy napisać taki oto kod:"
      ]
    },
    {
      "cell_type": "code",
      "execution_count": null,
      "metadata": {
        "id": "beKJ2dRTYinT"
      },
      "outputs": [],
      "source": [
        "missed_classes = 3\n",
        "passed_tests = 3 # out of 4\n",
        "class_participation = True\n",
        "\n",
        "if (missed_classes <= 2) and (passed_tests >= 3) and class_participation:\n",
        "  print('Zaliczone!', 'Gratulacje!')\n",
        "else:\n",
        "  print('Brak zaliczenia!')"
      ]
    },
    {
      "cell_type": "markdown",
      "metadata": {
        "id": "zRCI2rClC8eQ"
      },
      "source": [
        "W kodzie dotyczącym zaliczenia ćwiczeń użyliśmy trzech funktorów logicznych: negacji (`not`), koniunkcji (`and`) i alternatywy (`or`). Możemy je scharakteryzować za pomocą prawdy (`True`) i fałszu (`False`) jak poniżej."
      ]
    },
    {
      "cell_type": "markdown",
      "metadata": {
        "id": "ARR9BU1fDhSG"
      },
      "source": [
        "| warunek `p` | warunek `q` |  `and`  |   `or`  |\n",
        "|:---------:|:---------:|:-------:|:-------:|\n",
        "|   `True`  |   `True`  |  `True` |  `True` |\n",
        "|   `True`  |  `False`  | `False` |  `True` |\n",
        "|  `False`  |   `True`  | `False` |  `True` |\n",
        "|  `False`  |  `False`  | `False` | `False` |\n",
        "\n",
        "Pierwszy wiersz tabeli mówi, że jeśli warunki `p` i `q` są oba prawdziwe, to ich koniunkcja i alternatywa też jest prawdziwa. Drugi wiersz stwierdza, że jeśli warunek `p` jest prawdziwy, a `q` fałszywy, to ich koniunkcja jest fałszywa, zaś alternatywa jest prawdziwa. Itd.\n",
        "\n",
        "| warunek p | `not p` |\n",
        "|:---------:|:-------:|\n",
        "|   `True`  | `False` |\n",
        "|  `False`  |  `True` |\n",
        "\n",
        "Negacja warunku prawdziwego jest warunkiem fałszywym, zaś fałszywego prawdziwym."
      ]
    },
    {
      "cell_type": "markdown",
      "metadata": {
        "id": "wvTXle59C5rG"
      },
      "source": [
        "Poniżej znajduje się program wystawiający ocenę w zależności od liczby zdobytych punktów."
      ]
    },
    {
      "cell_type": "code",
      "execution_count": null,
      "metadata": {
        "id": "h0N_uCtcYN0a"
      },
      "outputs": [],
      "source": [
        "print('Podaj liczbę zdobytych puntków: ')\n",
        "points = int(input())\n",
        "if points > 20:\n",
        "    print(\"Piątka! Brawo!\")\n",
        "elif points > 18:\n",
        "    print(\"Dobry +\")\n",
        "elif points > 16:\n",
        "    print(\"Dobry\")\n",
        "elif points > 14:\n",
        "    print(\"Dostateczny +\")\n",
        "elif points > 12:\n",
        "    print(\"Dostateczny\")\n",
        "else:\n",
        "    print(\"Dwója\")"
      ]
    },
    {
      "cell_type": "markdown",
      "metadata": {
        "id": "v2XSr94Lrtv4"
      },
      "source": [
        "### Pętla while"
      ]
    },
    {
      "cell_type": "markdown",
      "metadata": {
        "id": "oZ0qYZ_GTjX1"
      },
      "source": [
        "Pętla jest instrukcją, która nakazuje komputerowi wykonać inne instrukcje kilkakrotnie. Instrukcje wykonują się w zapętleniu, czyli w kółko. Oczywiście komputer musi dokładnie wiedzieć\n",
        "\n",
        "- albo ile razy ma się w takiej pętli kręcić\n",
        "- albo pod jakim warunkiem może pętlę zakończyć.\n",
        "\n",
        "Pętla `while` należy do tego drugiego typu. Oto przykład takiej pętli:"
      ]
    },
    {
      "cell_type": "code",
      "execution_count": null,
      "metadata": {
        "id": "_zBHlqtwrrUR"
      },
      "outputs": [],
      "source": [
        "i = 1\n",
        "while i <= 4:\n",
        "    print(\"Obrót pętli nr\", i)\n",
        "    i = i + 1"
      ]
    },
    {
      "cell_type": "markdown",
      "metadata": {
        "id": "cA0mVzjYTr2f"
      },
      "source": [
        "Przyjrzyjmy się powyższemu przykładowi. Część `while i <= 4:` zawiera słowo kluczowe `while` po którym następuje warunek, który zamyka `:`. Następnie mamy blok instrukcji do wykonania (oczywiście zaznaczony odpowiednim wcięciem). Schematycznie pętla while mogłaby wyglądać tak:\n",
        "\n",
        "```\n",
        "while WARUNEK JEST PRAWDZIWY:\n",
        "    BLOK INSTRUKCJI DO WYKONANIA\n",
        "```\n",
        "\n",
        "Czyż nie jest ona co do struktury podobna do instrukcji warunkowej:\n",
        "\n",
        "```\n",
        "if WARUNEK JEST PRAWDZIWY:\n",
        "   BLOK INSTRUKCJI DO WYKONANIA\n",
        "```\n",
        "\n",
        "Podobieństwo strukturalne pętli `while` do instrukcji warunkowej niech nas nie zwiedzie. Działanie pętli `while` jest  bowiem zupełnie inne od działania instrukcji warunkowej. Jeżeli warunek pętli jest prawdziwy, następuje wykonanie bloku kodu wewnątrz pętli. Po wykonaniu bloku kodu, komputer powraca do ponownego sprawdzenia warunku. Jeżeli warunek pętli jest prawdziwy, następuje ponowne wykonanie bloku kodu, ale jeżeli warunek jest fałszywy, to blok kodu pętli `while` zostaje pominięty, co tym samym kończy działanie pętli.\n",
        "\n",
        "Jeśli teraz chwilę zastanowimy się nad działaniem pętli `while`, to po chwili dojdziemy to ważnego wniosku: warunek pętli musi się jakoś zmieniać! W przeciwnym razie, jeśli tylko będzie prawdziwy, komputer po „wejściu do pętli” nigdy z niej nie wyjdzie.\n",
        "\n",
        "Już wiemy co się może zmieniać… zmienna, a dokładnie rzecz ujmując, jej wartość. Popatrzymy jeszcze raz na nieco wcześniej zaprezentowaną pętlę `while`. Warunek tej pętli zawiera zmienną `i` - będziemy nazywać ją zmienną regulującą. Natomiast jeśli popatrzymy na blok instrukcji wewnątrz tej pętli, to na jego końcu znajdziemy instrukcję `i = i + 1`. Zadaniem tej instrukcji jest zmiana wartości `i` - w tym przypadku jest to inkrementacja o 1, przy każdym obrocie pętli. Aby pętla `while` działała poprawnie i skutecznie, blok instrukcji wewnątrz pętli musi zawierać inkrementację (lub dekrementację) zmiennej regulujące.\n",
        "\n",
        "Poniżej znajduje się kod prostej gry, który pomoże zrozumieć Ci sposób działania pętli `while` (a przy okazji przypomni jak działają wcześniej omawiana przez nas elementy języka Python). Program losowo wybiera liczbę całkowita z przedziału od 1 do 100. Zadaniem użytkownika jest odgadnąć tę liczbę. Program podpowiada, czy poszukiwana liczba jest mniejsza od podanej, czy większa."
      ]
    },
    {
      "cell_type": "code",
      "execution_count": null,
      "metadata": {
        "id": "4Uzoe7XMZU0w"
      },
      "outputs": [],
      "source": [
        "import random\n",
        "number = random.randint(0,100)\n",
        "print('Komputer właśnie wylosował liczbę z przedziału od 0 do 100.')\n",
        "print('Zgadnij jaka to liczba!')\n",
        "\n",
        "guess = int(input('Podaj liczbę od 0 do 100: '))\n",
        "counter = 1\n",
        "while guess != number:\n",
        "\n",
        "  if guess > 100:\n",
        "    print('Podana liczba jest większa niż 100!')\n",
        "  elif guess < 0:\n",
        "    print('Podana liczba jest mniejsza od 0!')\n",
        "  elif guess < number:\n",
        "    print(f'Podana liczba {guess} jest mniejsza od szukanej.')\n",
        "  else:\n",
        "    print(f'Podana liczna {guess} jest większa od szukanej.')\n",
        "\n",
        "  guess = int(input('Podaj liczbę od 0 do 100: '))\n",
        "  counter += 1      # counter = counter + 1\n",
        "print(f'Gratulacje! Podana liczba to {number}!')\n",
        "print(f'Potrzebowałaś/eś {counter} prób!')"
      ]
    },
    {
      "cell_type": "markdown",
      "metadata": {
        "id": "qylzNALuUdix"
      },
      "source": [
        "Metoda `random.randint(a, b)` zwraca losową liczbę całkowitą z przedziału od `a` do `b`, włączając skrajne liczby."
      ]
    },
    {
      "cell_type": "markdown",
      "metadata": {
        "id": "_71cZVaHC5rG"
      },
      "source": [
        "Poniższy kod rysuje uszy kota o dowolnym rozmiarze `size`:"
      ]
    },
    {
      "cell_type": "code",
      "execution_count": null,
      "metadata": {
        "id": "CZ-Qv58rjqHP"
      },
      "outputs": [],
      "source": [
        "size = 10\n",
        "i=1\n",
        "while i <= size:\n",
        "  print((i*'@')+(((2*size)-(2*i))*' ')+(i*'@'))\n",
        "  i+=1"
      ]
    },
    {
      "cell_type": "markdown",
      "metadata": {
        "id": "seBcPS3WVXbL"
      },
      "source": [
        "### Zapamiętaj!\n",
        "\n",
        "`int()` - funkcja konwertuje określoną wartość, na przykład napis `'7'`, na liczbę całkowitą.\n",
        "\n",
        "`import random` - komenda import pozwala na dostęp do dodatkowych instrukcji zapisanych w jakimś module; moduł random zawiera metody pozwalające na tworzenie liczb losowych.\n",
        "\n",
        "`random.randint()` - to przykład użycia metody `randint()` z wcześniej zaimportowanego modułu random; random.`randint()` zwraca losową liczbę całkowitą z zadanego przedziału włączając skrajne liczby."
      ]
    },
    {
      "cell_type": "markdown",
      "metadata": {
        "id": "cxvG7g-bWDOW"
      },
      "source": [
        "### break i continue\n",
        "\n",
        "Instrukcje `break` i `continue` wprowadzają zmianę w działaniu pętli.\n",
        "\n",
        "Po napotkaniu instrukcji `break` wewnątrz pętli program opuszcza pętlę. Przeanalizuj poniższy przykład."
      ]
    },
    {
      "cell_type": "code",
      "execution_count": null,
      "metadata": {
        "id": "Tvg2-n0j-ZE8"
      },
      "outputs": [],
      "source": [
        "i = 1\n",
        "while i <= 10:\n",
        "   if i > 5:\n",
        "       break\n",
        "   print(i)\n",
        "   i += 1"
      ]
    },
    {
      "cell_type": "markdown",
      "metadata": {
        "id": "cLccFkBrWW1o"
      },
      "source": [
        "Instrukcji `continue` używamy w pętli do pominięcia wykonania części kodu wewnątrz pętli, który następuje po tej komendzie. Pętla nadal jest wykonywana zaczynając od początku. Przeanalizuj poniższy kod."
      ]
    },
    {
      "cell_type": "code",
      "execution_count": null,
      "metadata": {
        "id": "TZUIUzSa-jsH"
      },
      "outputs": [],
      "source": [
        "# continue\n",
        "i = 1\n",
        "while i <= 10:\n",
        "   if i >= 4 and i <= 7:\n",
        "       i += 1\n",
        "       continue\n",
        "   print(i)\n",
        "   i += 1"
      ]
    },
    {
      "cell_type": "markdown",
      "metadata": {
        "id": "fhtewMKlWdNu"
      },
      "source": [
        "Instrukcja break zajmuje szczególne zastosowanie w pętli `while` z warunkiem `True`. Warunek `True` jest zawsze spełniony, a zatem pętla `while` z takim warunkiem będzie wykonywać się bez końca. Jedynym sposobem, aby z takiej pętli wyjść jest użycie instrukcji `break`.\n",
        "\n",
        "Poniższy kod „maszyny motywacyjnej” pozwoli zrozumieć ci rolę instrukcji `break` w pętli `while` z warunkiem `True`. Zwróć uwagę, że pętla nie przestanie się wykonywać do momentu, gdy wprowadzisz `0`."
      ]
    },
    {
      "cell_type": "code",
      "execution_count": null,
      "metadata": {
        "id": "eF_9DWNVq3R1"
      },
      "outputs": [],
      "source": [
        "menu = '''\n",
        "1 - motywacja\n",
        "2 - więcej motywacji\n",
        "3 - jeszcze więcej motywacji\n",
        "0 - koniec\n",
        "'''\n",
        "\n",
        "while True:\n",
        "  print(menu)\n",
        "  letter = input('Wybierz: ')\n",
        "  if letter == '1':\n",
        "      print('\\n\\tJesteś zwycięzcą!')\n",
        "  elif letter == '2':\n",
        "      print('\\n\\tJesteś zwycięzcą! Jesteś zwycięzcą!')\n",
        "  elif letter == '3':\n",
        "        print('\\n\\tJesteś zwycięzcą! Jesteś zwycięzcą! Jesteś zwycięzcą!')\n",
        "  elif letter == '0':\n",
        "      print('\\n\\tDobiegłeś do mety i jesteś diamentem!')\n",
        "      break\n",
        "  else:\n",
        "      print('\\n\\tMusisz wybrać między 0, 1, 2 i 3!')"
      ]
    },
    {
      "cell_type": "markdown",
      "metadata": {
        "id": "wDidLcmEbeqA"
      },
      "source": [
        "### Pętla ,,for''"
      ]
    },
    {
      "cell_type": "markdown",
      "metadata": {
        "id": "wB9W9LY8ZGQu"
      },
      "source": [
        "Dopóki warunek jest prawdziwy, dopóty pętla `while` jest wykonywana - tego dowiedzieliśmy się w poprzedniej sekcji.  Pętla `for`, którą teraz wprowadzimy, jest wykonywana określoną liczbę razy. Załóżmy, że chcemy wykonać jakiś blok kodu dokładnie `5` razy. Oto przykład jak możemy to zrobić:\n"
      ]
    },
    {
      "cell_type": "code",
      "execution_count": null,
      "metadata": {
        "id": "n2oEXXQoYLN2"
      },
      "outputs": [],
      "source": [
        "for i in range(5):\n",
        "  print(f'{i}. Hello, world!')"
      ]
    },
    {
      "cell_type": "markdown",
      "metadata": {
        "id": "jpVxqo2OZZmN"
      },
      "source": [
        "Funkcja `range(5)` w powyższym kodzie odpowiada za wygenerowanie zakresu liczb od `0` do `4`. Zmienna i przyjmie  więc kolejno wartości `0`, `1`, `2`, `3` i `4`. Czyli w przypadku podania tylko jednego argumentu: argument ten stanowi górne ograniczenie zakresu liczb (nie jest jednak wliczany do wygenerowanego zbioru liczb), a dolną granicę stanowi `0`. Zobacz to jeszcze raz:"
      ]
    },
    {
      "cell_type": "code",
      "execution_count": null,
      "metadata": {
        "id": "evh-aGgVZoRE"
      },
      "outputs": [],
      "source": [
        "for i in range(3):\n",
        "  print(i)"
      ]
    },
    {
      "cell_type": "markdown",
      "metadata": {
        "id": "Iud4FTifZ4Ao"
      },
      "source": [
        "A oto sposób działania tej funkcji w przypadku podania dwóch liczb jako argumentów funkcji range:"
      ]
    },
    {
      "cell_type": "code",
      "execution_count": null,
      "metadata": {
        "id": "UhPNVIhMZ5OM"
      },
      "outputs": [],
      "source": [
        "for i in range(5, 10):\n",
        "  print(i)"
      ]
    },
    {
      "cell_type": "markdown",
      "metadata": {
        "id": "e1SO06otZ96h"
      },
      "source": [
        "Pierwsza z nich stanowi dolny zakres (włączając tę liczbę do zbioru), a drugi argument stanowi górną granicę (nie wliczając jej do tego zbioru).\n",
        "\n",
        "Oto kolejny przykład użycia funkcji `range()`; tym razem poza pętlą `for`:"
      ]
    },
    {
      "cell_type": "code",
      "execution_count": null,
      "metadata": {
        "id": "Cf4mBK0P36ty"
      },
      "outputs": [],
      "source": [
        "midlife_crisis = range(35,46)\n",
        "current_year = 2022\n",
        "my_age = current_year - 1979\n",
        "if my_age in midlife_crisis:\n",
        "  print('Uwaga, może Cię dotknąć kryzys wieku średniego!')"
      ]
    },
    {
      "cell_type": "markdown",
      "metadata": {
        "id": "HDKSgrbraMAD"
      },
      "source": [
        "W przypadku podania trzech liczb: dwa pierwsze argumenty zachowują się tak, jak powyżej, natomiast trzeci jest wartością kroku, tzn. określa o ile zmienia się wartość zmiennej w pętli. Przeanalizuj przykłady dwóch pętli poniżej:"
      ]
    },
    {
      "cell_type": "code",
      "execution_count": null,
      "metadata": {
        "id": "DjSmeLTj4EDm"
      },
      "outputs": [],
      "source": [
        "for i in range(0,60,10):\n",
        "  print(i)"
      ]
    },
    {
      "cell_type": "code",
      "execution_count": null,
      "metadata": {
        "id": "xAzRGuj-4HYt"
      },
      "outputs": [],
      "source": [
        "for i in range(10,0,-2):\n",
        "  print(i)"
      ]
    },
    {
      "cell_type": "markdown",
      "metadata": {
        "id": "aGnSiEnEC5rI"
      },
      "source": [
        "Jak narysować górę dolarów?"
      ]
    },
    {
      "cell_type": "code",
      "execution_count": null,
      "metadata": {
        "id": "BGiQGTJmxp8Y"
      },
      "outputs": [],
      "source": [
        "number = 30\n",
        "for i in range(number):\n",
        "  if i == (number // 2):\n",
        "    break\n",
        "  print((((number // 2) - (i + 1)) * ' ') + ((2 * i) + 1) * '$')\n"
      ]
    },
    {
      "cell_type": "markdown",
      "metadata": {
        "id": "zSoPB5InakGy"
      },
      "source": [
        "### Zapamiętaj!\n",
        "\n",
        "`range()` - funkcja zwraca sekwencję liczb (domyślnie zaczynając od 0) i zwiększa się (domyślnie) o 1 i zatrzymuje się przed określoną liczbą."
      ]
    },
    {
      "cell_type": "markdown",
      "metadata": {
        "id": "lWWwIKMa4RPo"
      },
      "source": [
        "## Struktury danych"
      ]
    },
    {
      "cell_type": "markdown",
      "metadata": {
        "id": "bs1_cEula3-G"
      },
      "source": [
        "Programując będziemy bardzo często przetwarzać **dane**. Nie jest łatwo zdefiniować czym dane są i nie podejmiemy się tego zadania w tym miejscu. Wystarczy nam intuicja mówiąca, że *danymi są wszelkie informacje zapisane w jakiś sposób*. Danymi będą więc teksty prasowe, dane numeryczne w arkuszach kalkulacyjnych, dane osobowe zapisane bazach danych instytucji państwowych, raporty roczne spółek giełdowych, wyniki badań okresowych, nasze wpisy w serwisach społecznościowych, zdjęcia w naszym telefonie, rysunki i malowidła wykonane na ścianach lub sklepieniach jaskiń, itd. W ostatnim czasie dużo mówi się o ochronie danych i ich wartości biznesowej (*Data is money!*). W pozostałych książkach z serii *AI dla wszystkich* pokazujemy jak sieci neuronowe i sieci semantyczne mogą pomóc nam w reprezentacji danych i wydobywaniu z nich niezwykle wartościowych informacji/wiedzy. Teraz jednak przejdźmy do podstawowych struktur danych jakie oferuje Python. Omówimy takie struktury danych jak: listy, słowniki, zbiory oraz krotki.\n",
        "\n",
        "Do tej pory przechowywaliśmy pojedyncze wartości (czyli dane, takie jak napis lub liczba) w zmiennej. Struktury danych umożliwiają przechowywanie więcej niż jednej wartości w jednej zmiennej. Poza tym struktury danych pozwalają na grupowanie informacji oraz ich organizację."
      ]
    },
    {
      "cell_type": "markdown",
      "metadata": {
        "id": "_mW1SxGvJCwe"
      },
      "source": [
        "### Listy"
      ]
    },
    {
      "cell_type": "markdown",
      "metadata": {
        "id": "H25sGDzgbLYI"
      },
      "source": [
        "Pierwszą strukturą danych jaką poznamy są listy. Doświadczenie pokazuje, że są one bardzo poręczne i bardzo często używane. Niekiedy nawet można odnieść wrażenie, że programowanie w języku Python, przynajmniej na początku, to w zasadzie ciągła praca z listami.  \n",
        "\n",
        "Sama nazwa mówi już wiele o tym, z czym mamy tu do czynienia. Lista to uporządkowany zbiór elementów (rzeczy, osób, zwierząt, etc.). Na przykład poniżej mamy listą z trzema elementami:"
      ]
    },
    {
      "cell_type": "code",
      "execution_count": null,
      "metadata": {
        "id": "xR5gTXBv4pXO"
      },
      "outputs": [],
      "source": [
        "['element 1', 'element 2', 'element 3']"
      ]
    },
    {
      "cell_type": "markdown",
      "metadata": {
        "id": "fWI9YpTObjpg"
      },
      "source": [
        "Listę definiujemy za pomocą nawiasów kwadratowych: `[`oraz `]`. Elementy listy odzielamy od siebie przecinkami. Możemy tworzyć listy napisów, liczb lub obiektów różnych typów:"
      ]
    },
    {
      "cell_type": "code",
      "execution_count": null,
      "metadata": {
        "id": "V7nWERnA4rVg"
      },
      "outputs": [],
      "source": [
        "['to', 'jest', 'lista', 'napisów']"
      ]
    },
    {
      "cell_type": "code",
      "execution_count": null,
      "metadata": {
        "id": "VnSMrUs74tVJ"
      },
      "outputs": [],
      "source": [
        "[1, 2, 3]"
      ]
    },
    {
      "cell_type": "code",
      "execution_count": null,
      "metadata": {
        "id": "tyTKp1mR4wSB"
      },
      "outputs": [],
      "source": [
        "['napis', 1, True]"
      ]
    },
    {
      "cell_type": "markdown",
      "metadata": {
        "id": "73g824oJcKOL"
      },
      "source": [
        "Listę możemy przypisać do zmiennej. Dzięki temu możemy odwołać się nie tylko do całej listy w sposób poręczny, ale również do poszczególnych jej elementów. Utwórzmy zmienną `rainbow` (tęcza):"
      ]
    },
    {
      "cell_type": "code",
      "execution_count": null,
      "metadata": {
        "id": "jX_BSU34xBAK"
      },
      "outputs": [],
      "source": [
        "rainbow = []"
      ]
    },
    {
      "cell_type": "markdown",
      "metadata": {
        "id": "5kfLmhvWcY8o"
      },
      "source": [
        "W ten sposób przypisaliśmy do zmiennej `rainbow` listę pustą, tzn. taką, która nie ma jeszcze żadnych elementów (metaforycznie można powiedzieć, że przygotowaliśmy czystą kartkę, na której dopiero będziemy tworzyć naszą listę).\n",
        "\n",
        "Jak wiemy, tęcza składa się z `7` kolorów ułożonych w kolejności: czerwony, pomarańczowy, żółty, zielony, niebieski, indygo i fioletowy.\n",
        "\n",
        "Do listy możemy dodawać elementy. Do tego służy metoda `append()`. Przykład użycia:"
      ]
    },
    {
      "cell_type": "code",
      "execution_count": null,
      "metadata": {
        "id": "bvYBjd0bx92W"
      },
      "outputs": [],
      "source": [
        "rainbow.append('czerwony')\n",
        "print(rainbow)"
      ]
    },
    {
      "cell_type": "markdown",
      "metadata": {
        "id": "8zm_kMgncyn3"
      },
      "source": [
        "Dodajmy następnie kolejny kolor tęczy:"
      ]
    },
    {
      "cell_type": "code",
      "execution_count": null,
      "metadata": {
        "id": "zmN4gk5vye30"
      },
      "outputs": [],
      "source": [
        "rainbow.append('pomarańczowy')\n",
        "print(rainbow)"
      ]
    },
    {
      "cell_type": "markdown",
      "metadata": {
        "id": "TtlEbUWNc3qx"
      },
      "source": [
        "Zauważmy, że metoda `append()` dodaje elementy zawsze na końcu listy.\n",
        "\n",
        "Jeśli jeszcze raz wydarz Pythonowi komendę `rainbow.append('pomarańczowy')` i wydrukujesz listę, to zobaczysz, że elementy w liście mogą się powtarzać."
      ]
    },
    {
      "cell_type": "code",
      "execution_count": null,
      "metadata": {
        "id": "B8-XOKELQenC"
      },
      "outputs": [],
      "source": [
        "rainbow.append('pomarańczowy')\n",
        "print(rainbow)"
      ]
    },
    {
      "cell_type": "markdown",
      "metadata": {
        "id": "uRgn8YfDeM1n"
      },
      "source": [
        "Gdybyśmy chcieli sprawdzić ile razy dany element pojawia się na naszej liście, możemy użyć metody `count()`:"
      ]
    },
    {
      "cell_type": "code",
      "execution_count": null,
      "metadata": {
        "id": "LkGSSMsiN0gI"
      },
      "outputs": [],
      "source": [
        "rainbow.count('pomarańczowy')"
      ]
    },
    {
      "cell_type": "markdown",
      "metadata": {
        "id": "xHpMn0tueYQy"
      },
      "source": [
        "Oczywiście kolory w tęczy nie powtarzają się, więc musimy usunąć jedno wystąpienie koloru pomarańczowego. W tym przypadku nie ma znaczenia, który usuniemy. Do usuwania elementów z listy służy metoda `remove()`. Musimy podać wartość, która ma zostać usunięta. Pamiętaj, że `remove()` usuwa tylko pierwsze wystąpienie wartości na liście. Przykład użycia:\n"
      ]
    },
    {
      "cell_type": "code",
      "execution_count": null,
      "metadata": {
        "id": "5Zb8qxq_0Wr3"
      },
      "outputs": [],
      "source": [
        "rainbow.remove('pomarańczowy')\n",
        "print(rainbow)"
      ]
    },
    {
      "cell_type": "markdown",
      "metadata": {
        "id": "6s7e9giJe0Ig"
      },
      "source": [
        "Teraz możemy dalej kontynuować dodawanie kolorów do tęczy.\n"
      ]
    },
    {
      "cell_type": "code",
      "execution_count": null,
      "metadata": {
        "id": "VN9iV1Ra07I5"
      },
      "outputs": [],
      "source": [
        "rainbow.append('zielony')\n",
        "print(rainbow)"
      ]
    },
    {
      "cell_type": "markdown",
      "metadata": {
        "id": "dfI8UPs5fGQm"
      },
      "source": [
        "Pomyliliśmy się. Po pomarańczowym powinien być żółty. Musimy teraz albo 1) zamienić zielony na żółty i dodać jeszcze raz zielony po żółtym albo 2) wstawić kolor żółty pomiędzy pomarańczowy i zielony. Do obu z tych opcji potrzebujemy wiedzy o indeksach, o których jeszcze nie mówiliśmy w kontekście list, ale… już o nich wspominaliśmy przy okazji mówienia o napisach.  Pamiętamy, że za pomocą komendy:"
      ]
    },
    {
      "cell_type": "code",
      "execution_count": null,
      "metadata": {
        "id": "-tApq8J6fOdb"
      },
      "outputs": [],
      "source": [
        "'Robert'[3]"
      ]
    },
    {
      "cell_type": "markdown",
      "metadata": {
        "id": "pjM612mpfQeB"
      },
      "source": [
        "mogliśmy wyodrębnić z napisu literę „e”. 3 to indeks tej litery w napisie `'Robert'`. Podobnie jest z listami. Każdy element listy ma swój indeks. Pamiętajmy, że wszelkie elementy w Pythonie indeksowane są zawsze od zera. Na przykład komenda"
      ]
    },
    {
      "cell_type": "code",
      "execution_count": null,
      "metadata": {
        "id": "wEydw3xF3UH5"
      },
      "outputs": [],
      "source": [
        "rainbow[1]"
      ]
    },
    {
      "cell_type": "markdown",
      "metadata": {
        "id": "DoCUInmVfZJn"
      },
      "source": [
        "zwróci drugi element listy (pomarańczowy). Indeksem koloru zielonego jest aktualnie 2, co można sprawdzić za pomocą komendy:"
      ]
    },
    {
      "cell_type": "code",
      "execution_count": null,
      "metadata": {
        "id": "B6bN48XWfebg"
      },
      "outputs": [],
      "source": [
        "rainbow[2]"
      ]
    },
    {
      "cell_type": "markdown",
      "metadata": {
        "id": "pgGleZ6ffvrv"
      },
      "source": [
        "lub"
      ]
    },
    {
      "cell_type": "code",
      "execution_count": null,
      "metadata": {
        "id": "KusM5XGifwnT"
      },
      "outputs": [],
      "source": [
        "rainbow.index('zielony')"
      ]
    },
    {
      "cell_type": "markdown",
      "metadata": {
        "id": "lHT-mEcFgZ53"
      },
      "source": [
        "Tak na marginesie dodajmy, że możemy również użyć indeksów ujemnych, by uzyskiwać dostęp do elementów listy od końca:"
      ]
    },
    {
      "cell_type": "code",
      "execution_count": null,
      "metadata": {
        "id": "5Z4QoA6IgmJs"
      },
      "outputs": [],
      "source": [
        "rainbow[-1]"
      ]
    },
    {
      "cell_type": "markdown",
      "metadata": {
        "id": "0Nhreyg5gw-j"
      },
      "source": [
        "Powyższa komenda zwróci ostatni element listy, czyli aktualnie kolor zielony.\n",
        "\n",
        "Wróćmy jednak do naszego problemu. Mamy aktualnie listę\n",
        "\n"
      ]
    },
    {
      "cell_type": "code",
      "execution_count": null,
      "metadata": {
        "id": "VpH-ny-HnF89"
      },
      "outputs": [],
      "source": [
        "rainbow"
      ]
    },
    {
      "cell_type": "markdown",
      "metadata": {
        "id": "PDI9Pbfom_R9"
      },
      "source": [
        "i dwie strategie działania:\n",
        "- albo 1) zamienić zielony na żółty i dodać jeszcze raz zielony po żółtym\n",
        "- albo 2) wstawić kolor żółty pomiędzy pomarańczowy i zielony.\n",
        "\n",
        "Zastosowanie pierwszej z nich, czyli zamiana zielonego na żółty, polega na zastąpieniu danego element listy pod danym indeksem (w naszym przypadku koloru zielonego) przez element nowy (w naszym przypadku, kolor żółty). Wyżej wspomnieliśmy, że aby sprawdzić indeks elementu, używamy metody `index()`."
      ]
    },
    {
      "cell_type": "code",
      "execution_count": null,
      "metadata": {
        "id": "y1mMz5KoiRrT"
      },
      "outputs": [],
      "source": [
        "rainbow.index('zielony')"
      ]
    },
    {
      "cell_type": "markdown",
      "metadata": {
        "id": "SfxpTq-AiWdD"
      },
      "source": [
        "Wynikiem będzie 2. Znając indeks możemy wykonać następującą instrukcję:"
      ]
    },
    {
      "cell_type": "code",
      "execution_count": null,
      "metadata": {
        "id": "W4m0MeAn4yXY"
      },
      "outputs": [],
      "source": [
        "rainbow[2] = 'żółty'\n",
        "print(rainbow)"
      ]
    },
    {
      "cell_type": "markdown",
      "metadata": {
        "id": "oHH3N89IiZis"
      },
      "source": [
        "lub tak, wiedząc, że chcemy zastąpić ostatni element:"
      ]
    },
    {
      "cell_type": "code",
      "execution_count": null,
      "metadata": {
        "id": "v7YS_bN8mGvb"
      },
      "outputs": [],
      "source": [
        "rainbow[-1] = 'żółty'\n",
        "print(rainbow)"
      ]
    },
    {
      "cell_type": "markdown",
      "metadata": {
        "id": "dwWhHQzJo-_t"
      },
      "source": [
        "Nasza lista wygląda teraz tak:\n",
        "\n",
        "`['czerwony', 'pomarańczowy', 'żółty']`\n",
        "\n",
        "Wprawdzie kolejność jest prawidłowa, ale straciliśmy kolor `zielony`. Musimy go dodać jeszcze raz:\n"
      ]
    },
    {
      "cell_type": "code",
      "execution_count": null,
      "metadata": {
        "id": "chNe4UG77Z5Y"
      },
      "outputs": [],
      "source": [
        "rainbow.append('zielony')\n",
        "print(rainbow)"
      ]
    },
    {
      "cell_type": "markdown",
      "metadata": {
        "id": "3jRKei5aqtvg"
      },
      "source": [
        "Kontynuujmy dodawanie kolorów:"
      ]
    },
    {
      "cell_type": "code",
      "execution_count": null,
      "metadata": {
        "id": "I5oFidqw7r3m"
      },
      "outputs": [],
      "source": [
        "rainbow.append('indygo')\n",
        "print(rainbow)"
      ]
    },
    {
      "cell_type": "markdown",
      "metadata": {
        "id": "TAnzMZZJrhP7"
      },
      "source": [
        "Znów pomyliliśmy kolejność. Po zielonym powinien być niebieski. Wiemy już jak podmieniać elementy, ale użyta przez nas wcześniej strategia nie wydaje się najlepsza, ponieważ zastępując element jednocześnie go usuwa. Spróbujmy teraz drugiej strategii, czyli wstawienia nowego elementu pomiędzy dwa elementy listy. Użyjemy do tego metody `insert()`. Metoda  ta wymaga podania indeksu, w miejsce którego chcemy wstawić element oraz nazwę elementu, który chcemy do listy dodać. Chcemy wstawić „niebieski” w miejsce, w którym teraz jest kolor indygo. To pozycja o indeksie 4:"
      ]
    },
    {
      "cell_type": "code",
      "execution_count": null,
      "metadata": {
        "id": "yIMfSync8jSL"
      },
      "outputs": [],
      "source": [
        "rainbow.insert(4, 'niebieski')\n",
        "print(rainbow)"
      ]
    },
    {
      "cell_type": "markdown",
      "metadata": {
        "id": "v6XvkhoPrtLd"
      },
      "source": [
        "Jak widać, metoda `insert()` nie usunęła indygo, ale przesunęła go o jedno miejsce. Kolor `indygo` ma teraz indeks 5. Sprawdź to używając metody `index()`.\n",
        "\n",
        "Pozostało nam dodanie ostatniego koloru do naszej tęczy:\n"
      ]
    },
    {
      "cell_type": "code",
      "execution_count": null,
      "metadata": {
        "id": "AmsF4hn6r2ak"
      },
      "outputs": [],
      "source": [
        "rainbow.append('fioletowy')"
      ]
    },
    {
      "cell_type": "markdown",
      "metadata": {
        "id": "ywsJGqzEr8xu"
      },
      "source": [
        "Wyświetlmy zatem elementy naszej listy. Możemy użyć do tego pętli for z listą:"
      ]
    },
    {
      "cell_type": "code",
      "execution_count": null,
      "metadata": {
        "id": "zOU-Z9t8sLsE"
      },
      "outputs": [],
      "source": [
        "for color in rainbow:\n",
        "  print(color)"
      ]
    },
    {
      "cell_type": "markdown",
      "metadata": {
        "id": "XsA-jwIBsTOf"
      },
      "source": [
        "Dokładnie przeanalizuj tę pętlę. Zauważ, że pętla `for` korzysta bezpośrednio z listy przechodząc kolejno po wszystkich jej elementach.\n",
        "\n",
        "Gdybyśmy chcieli zwrócić kolejno wszystkie elementy tęczy  wraz z ich pozycją możemy skorzystać z funkcji `enumerate()`. Funkcja zwraca elementy listy wraz z ich indeksami. Poniższy kod wyświetli elementy naszej tęczy wraz z numerem wskazującym na jego kolejność:"
      ]
    },
    {
      "cell_type": "code",
      "execution_count": null,
      "metadata": {
        "id": "W03Nnpje-nLy"
      },
      "outputs": [],
      "source": [
        "for index, color in enumerate(rainbow):\n",
        "  print(index+1,'-',color)"
      ]
    },
    {
      "cell_type": "markdown",
      "metadata": {
        "id": "tHkeWqUXsvC4"
      },
      "source": [
        "Oto jeszcze kilka metod, o których warto wspomnieć w kontekście list.\n",
        "\n",
        "Do usuwania elementów z listy służy również `del`. Należy podać indeks elementu, który ma zostać usunięty. W przypadku podania indeksu elementu, który nie znajduje się na liście, zostaje zgłoszony błąd.\n"
      ]
    },
    {
      "cell_type": "code",
      "execution_count": null,
      "metadata": {
        "id": "_cLJyxJZ6Alv"
      },
      "outputs": [],
      "source": [
        "del rainbow[-1]\n",
        "print(rainbow)"
      ]
    },
    {
      "cell_type": "markdown",
      "metadata": {
        "id": "KdEV9HhStIj8"
      },
      "source": [
        "Różnica między użyciem `del` i wcześniej omówioną metodą `remove()`, nie licząc innego sposobu zapisywania tych instrukcji, polega na tym, że w `del` podajemy indeks elementu, który ma zostać usunięty (pozycję na liście), a w przypadku `remove()` podajemy samą wartość, która ma zostać usunięta.\n",
        "\n",
        "Za pomocą funkcji `len()` można sprawdzić wielkość listy, czyli określić, ile elementów znajduje się w liście (pamiętamy, że tę samą funkcję używaliśmy wcześniej do sprawdzenia liczby znaków w napisie). Przykład użycia tej funkcji:\n"
      ]
    },
    {
      "cell_type": "code",
      "execution_count": null,
      "metadata": {
        "id": "ySu_laMstRKP"
      },
      "outputs": [],
      "source": [
        "len(rainbow)"
      ]
    },
    {
      "cell_type": "markdown",
      "metadata": {
        "id": "RqKyEf5WtW42"
      },
      "source": [
        "Jeżeli chcemy sprawdzić, czy jakiś element znajduje się na liście, możemy użyć instrukcji `if` z operatorem `in`:\n"
      ]
    },
    {
      "cell_type": "code",
      "execution_count": null,
      "metadata": {
        "id": "e_vqnKIPA0gI"
      },
      "outputs": [],
      "source": [
        "if 'żółty' in rainbow:\n",
        "    print(\"Mamy kolor żółty w tęczy.\")\n",
        "else:\n",
        "    print(\"Nie ma koloru żółtego w tęczy.\")\n",
        "\n",
        "if 'biały' in rainbow:\n",
        "    print(\"Mamy kolor biały w tęczy.\")\n",
        "else:\n",
        "    print(\"Nie ma koloru białego w tęczy.\")\n",
        "\n"
      ]
    },
    {
      "cell_type": "markdown",
      "metadata": {
        "id": "sDs0lDPNthFH"
      },
      "source": [
        "Powyższe instrukcje są wyrażeniami warunkowymi `if` i obowiązują je przedstawione wcześniej zasady. Operator in sprawdza, czy dany element znajduje się na liście.\n",
        "\n",
        "Kolejność elementów listy jest zgodna z kolejnością ich dodawania do listy. Gdybyśmy chcieli tę kolejność zmienić, na przykład ustawić elementy listy alfabetycznie, możemy listę posortować. Do sortowania elementów na liście służy metoda `sort()`. Domyślnie elementy sortowane są od najmniejszego do największego.\n",
        "\n",
        "Ustawmy kolory naszej tęczy w porządku alfabetycznym. Zacznijmy od stworzenia nowej tęczy o nazwie `sorted_raibow`. Skopiujmy do niej kolory z tęczy `rainbow`. Poniższy kod uporządkuje kolory w porządku alfabetycznym:"
      ]
    },
    {
      "cell_type": "code",
      "execution_count": null,
      "metadata": {
        "id": "kMjU2UOPCBJq"
      },
      "outputs": [],
      "source": [
        "sorted_rainbow = rainbow.copy() # sorted_rainbow = rainbow[:]\n",
        "sorted_rainbow.sort()\n",
        "print(sorted_rainbow)"
      ]
    },
    {
      "cell_type": "markdown",
      "metadata": {
        "id": "vI4Xcb_KuEbc"
      },
      "source": [
        "Aby uporządkować listę w porządku odwrotnym do alfabetycznego użyjemy `reverse=True` jak pokazano poniżej:\n"
      ]
    },
    {
      "cell_type": "code",
      "execution_count": null,
      "metadata": {
        "id": "GsGKbBk3MCXH"
      },
      "outputs": [],
      "source": [
        "sorted_rainbow = rainbow.copy()\n",
        "sorted_rainbow.sort(reverse=True)\n",
        "print(sorted_rainbow)"
      ]
    },
    {
      "cell_type": "markdown",
      "metadata": {
        "id": "xymavfJVuOv4"
      },
      "source": [
        "Gdybyśmy chcieli odwrocić kolejność kolorów tęczy skorzystam z metody `reverse()`:\n"
      ]
    },
    {
      "cell_type": "code",
      "execution_count": null,
      "metadata": {
        "id": "sT3lENlTLrlX"
      },
      "outputs": [],
      "source": [
        "reversed_rainbow = rainbow.copy()\n",
        "reversed_rainbow.reverse()\n",
        "print(reversed_rainbow)"
      ]
    },
    {
      "cell_type": "markdown",
      "metadata": {
        "id": "cHGD9G62C5rM"
      },
      "source": [
        "A gdybyśmy życzyli sobie wymieszać kolory tęczy tak, aby ich kolejność była losowa, użyjemy metody `random.shuffle()`:"
      ]
    },
    {
      "cell_type": "code",
      "execution_count": null,
      "metadata": {
        "id": "KYcTXL2xTfpi"
      },
      "outputs": [],
      "source": [
        "import random\n",
        "random.shuffle(rainbow)\n",
        "print(rainbow)"
      ]
    },
    {
      "cell_type": "markdown",
      "metadata": {
        "id": "YLD8n7RpuWG7"
      },
      "source": [
        "Metoda `pop()` usuwa element o podanym indeksie jednocześnie zwracając usuwany element. Na przykład poniższa instrukcja usunie z listy `rainbow` ostatni element i go wyświetli:"
      ]
    },
    {
      "cell_type": "code",
      "execution_count": null,
      "metadata": {
        "id": "T-tNWy-1Noo1"
      },
      "outputs": [],
      "source": [
        "print(rainbow.pop(-1))"
      ]
    },
    {
      "cell_type": "markdown",
      "metadata": {
        "id": "rO45kuawugzz"
      },
      "source": [
        "Jeśli chcemy usunąć wszystkie elementy listy używamy metody `clear()`:"
      ]
    },
    {
      "cell_type": "code",
      "execution_count": null,
      "metadata": {
        "id": "sySjaEeEO5tc"
      },
      "outputs": [],
      "source": [
        "rainbow.clear()\n",
        "print(rainbow)"
      ]
    },
    {
      "cell_type": "markdown",
      "metadata": {
        "id": "lU6uqFRJuoIo"
      },
      "source": [
        "Powyższy kod zwróci listę pustą, czyli `[]`.\n"
      ]
    },
    {
      "cell_type": "markdown",
      "metadata": {
        "id": "ctMh4NmwutvY"
      },
      "source": [
        "Mając dwie listy możemy je połączyć lub innymi słowy,  rozszerzyć jedną listę o elementy drugiej listy. Służy do tego metoda `extend()`:"
      ]
    },
    {
      "cell_type": "code",
      "execution_count": null,
      "metadata": {
        "id": "HIlkGATASDKW"
      },
      "outputs": [],
      "source": [
        "languages = ['Polish', 'English']\n",
        "languages_to_add = ['Spanish', 'Italian']\n",
        "languages.extend(languages_to_add)\n",
        "print(languages)"
      ]
    },
    {
      "cell_type": "markdown",
      "metadata": {
        "id": "AFxcLY_Fu0-F"
      },
      "source": [
        "Podobnie jak w przypadku napisów również dla list możemy używać „krajania” (ang. *slicing*). Na przykład możemy „wykroić” z listy jakąś jej część, jak to pokazano niżej"
      ]
    },
    {
      "cell_type": "code",
      "execution_count": null,
      "metadata": {
        "id": "edxsgDKjBM2r"
      },
      "outputs": [],
      "source": [
        "rainbow = ['czerwony', 'pomarańczowy', 'żółty', 'zielony', 'niebieski', 'indygo', 'fioletowy']\n",
        "rainbow[:3]"
      ]
    },
    {
      "cell_type": "markdown",
      "metadata": {
        "id": "eahH7qwowOqA"
      },
      "source": [
        "Zbliżając się do końca tego rozdziału omówmy jeszcze dwie ważne metody `split()` i `join()`.\n",
        "\n",
        "Metoda `split()` zamienia napis w listę, której elementami są fragmenty tego napisu. Sposób dzielenia napisu określa separator, którym domyślnie jest spacja. Utwórzmy zmienną `paragraph` i przypiszmy jej fragment tekstu zaczerpniętego z Wikipedii (https://pl.wikipedia.org/wiki/Tęcza):"
      ]
    },
    {
      "cell_type": "code",
      "execution_count": null,
      "metadata": {
        "id": "dyY9W-VaBsde"
      },
      "outputs": [],
      "source": [
        "paragraph = '''Pomimo faktu, że w tęczy występuje niemal ciągłe widmo kolorów,\n",
        "wyszczególnia się z reguły następujące barwy:\n",
        "czerwony (na zewnątrz łuku), pomarańczowy, żółty, zielony,\n",
        "niebieski, indygo i fioletowy (wewnątrz łuku).'''\n",
        "\n",
        "paragraph_split = paragraph.split()\n",
        "print(paragraph_split)"
      ]
    },
    {
      "cell_type": "code",
      "execution_count": null,
      "metadata": {
        "id": "e6yyL-26DgNQ"
      },
      "outputs": [],
      "source": [
        "paragraph_split = paragraph.split('\\n')\n",
        "print(paragraph_split)"
      ]
    },
    {
      "cell_type": "markdown",
      "metadata": {
        "id": "P32XUni1w31j"
      },
      "source": [
        "Metoda `join()` łączy elementy listy w napis. Łączenie wykonujemy za pomocą zadanego przez nas separatora."
      ]
    },
    {
      "cell_type": "code",
      "execution_count": null,
      "metadata": {
        "id": "tmG57EuLENLz"
      },
      "outputs": [],
      "source": [
        "' - '.join(rainbow)"
      ]
    },
    {
      "cell_type": "markdown",
      "metadata": {
        "id": "UGLxx_iixWFq"
      },
      "source": [
        "Na koniec poznajmy jeszcze funkcję `zip()`. Pozwala ona na iterowanie po dwóch lub więcej listach jak to pokazano poniżej:\n"
      ]
    },
    {
      "cell_type": "code",
      "execution_count": null,
      "metadata": {
        "id": "jKHwRPkwE-jb"
      },
      "outputs": [],
      "source": [
        "rainbow = ['czerwony', 'pomarańczowy', 'żółty', 'zielony', 'niebieski', 'indygo', 'fioletowy']\n",
        "friends = ['Jan', 'Kasia', 'Zosia', 'Michał', 'Zuzia', 'Marysia', 'Wojtek']\n",
        "\n",
        "for color, friend in zip(rainbow, friends):\n",
        "  print(friend, '-', color)"
      ]
    },
    {
      "cell_type": "markdown",
      "metadata": {
        "id": "59UJ9mcBC5rN"
      },
      "source": [
        "Poniższy kod dzieli tekst na słowa i prezentuje dwie listy słów: przed i po oczyszczeniu:"
      ]
    },
    {
      "cell_type": "code",
      "execution_count": null,
      "metadata": {
        "id": "0SNSxYEQ7SM6"
      },
      "outputs": [],
      "source": [
        "sentence = 'Ala ma kota, a kot ma mysz; i co z tego? A to z tego, że nic.'\n",
        "words = sentence.split()\n",
        "\n",
        "signs_to_remove = '.,;!?()\"\\'*%$#@'\n",
        "clean_words = []\n",
        "\n",
        "for word in words:\n",
        "  clean_word =''\n",
        "  for sign in word:\n",
        "    if sign not in signs_to_remove:\n",
        "      clean_word = clean_word + sign\n",
        "  clean_words.append(clean_word)\n",
        "\n",
        "for w1, w2 in zip(words, clean_words):\n",
        "  print(w1,'\\t', w2)"
      ]
    },
    {
      "cell_type": "markdown",
      "metadata": {
        "id": "Ocj4x1Eixs0-"
      },
      "source": [
        "### Zapamiętaj!\n",
        "\n",
        "`append()` - metoda dodaje element na koniec listy.\n",
        "\n",
        "`clear()` - metoda usuwa wszystkie elementy z listy.\n",
        "\n",
        "`copy()` - metoda zwraca kopię listy.\n",
        "\n",
        "`count()` - metoda zwraca, ile razy określony element pojawił się na liście.\n",
        "del - służy m.in. do usuwania elementów listy; należy  podać indeks elementu, który ma zostać usunięty. W przypadku podania indeksu elementu, który nie znajduje się na liście, zostaje zgłoszony błąd.\n",
        "\n",
        "`enumerate()` - funkcja zwraca elementy listy wraz z  ich indeksami.\n",
        "\n",
        "`extend()` - metoda dodaje do końca listy wszystkie elementy innej listy.\n",
        "\n",
        "`index()` - metoda zwraca indeks określonego elementu na liście.\n",
        "\n",
        "`join()` - metoda pobiera wszystkie elementy listy i łączy je w jeden ciąg elementów oddzielonych zadanym separatorem (na przykład spacją).\n",
        "len() - funkcja zwraca liczbę elementów listy.\n",
        "\n",
        "`pop()` - metoda usuwa element o podanym indeksie z listy i zwraca usunięty element.\n",
        "\n",
        "`random.shuffle()` - metoda ustawia kolejność elementów listy w sposób losowy.\n",
        "\n",
        "`remove()` - metoda usuwa pierwszy pasujący element z listy i zwraca błąd jeśli ustanego elementu nie ma na liście.\n",
        "\n",
        "`reverse()` - metoda odwraca kolejność elementów listy.\n",
        "\n",
        "`sort()` - metoda sortuje elementy danej listy w kolejności rosnącej lub malejącej.\n",
        "\n",
        "`split()` - metoda dzieli napis za pomocą określonego separatora (domyślnie jest to spacja) i zwraca listę napisów.\n",
        "\n",
        "`zip()` - funkcja pobiera elementy z kilku list, agreguje je i zwraca."
      ]
    },
    {
      "cell_type": "markdown",
      "metadata": {
        "id": "fijzdAna5xVt"
      },
      "source": [
        "### Słowniki"
      ]
    },
    {
      "cell_type": "markdown",
      "metadata": {
        "id": "N_-Z39Yf0tWM"
      },
      "source": [
        "Słowniki to struktury danych, w których informacje przechowywane są w postaci par `klucz:wartość`. Słowniki w Pythonie, podobnie zresztą jak analogiczne struktury danych w innych językach programowania, działają na tej zasadzie, że na podstawie klucza wyszukiwana jest wartość.\n",
        "\n",
        "Do tworzenia słowników służą nawiasy klamrowe: `{` oraz `}`. Klucz od wartości oddziela się znakiem `:`, a poszczególny wpisy w słowniku oddzielane są przecinkami. Najlepiej widać to na przykładzie:"
      ]
    },
    {
      "cell_type": "markdown",
      "metadata": {
        "id": "VYW3gLsY0tBV"
      },
      "source": []
    },
    {
      "cell_type": "code",
      "execution_count": null,
      "metadata": {
        "id": "dsyTZJDhVHmh"
      },
      "outputs": [],
      "source": [
        "rainbow_dict = {1:'czerwony',\n",
        "                2:'pomarańczowy',\n",
        "                3:'żółty',\n",
        "                4:'zielony',\n",
        "                5:'niebieski',\n",
        "                6:'indygo',\n",
        "                7:'fioletowy'}"
      ]
    },
    {
      "cell_type": "markdown",
      "metadata": {
        "id": "M0WpSZf109bi"
      },
      "source": [
        "Do elementów słownika odwołujemy się za pomocą kluczy. W powyższym przykładzie kluczami są liczby od 1 do 7 (choć kluczami mogą być również napisy). Poniższy kod zwraca napis `czerwony`."
      ]
    },
    {
      "cell_type": "code",
      "execution_count": null,
      "metadata": {
        "id": "BcvyQIdCWrGJ"
      },
      "outputs": [],
      "source": [
        "rainbow_dict[1]"
      ]
    },
    {
      "cell_type": "markdown",
      "metadata": {
        "id": "KVjJCUHu1Kfb"
      },
      "source": [
        "Warto nadmienić, że klucze nie są indeksami, a porządek par (klucz, wartość), nie ma znaczenia.\n",
        "\n",
        "Metoda `items()` zwróci wszystkie elementy słownika w postaci par (klucz, wartość) w postaci specjalnego widoku:"
      ]
    },
    {
      "cell_type": "code",
      "execution_count": null,
      "metadata": {
        "id": "LrAJwfmv1d0l"
      },
      "outputs": [],
      "source": [
        "rainbow_dict.items()"
      ]
    },
    {
      "cell_type": "markdown",
      "metadata": {
        "id": "7jwlyGpmC5rO"
      },
      "source": [
        "Widot ten jest iterowalny, tzn. możemy po nim iterować:"
      ]
    },
    {
      "cell_type": "code",
      "execution_count": null,
      "metadata": {
        "id": "k3TAyY3nC5rO"
      },
      "outputs": [],
      "source": [
        "for item in rainbow_dict.items():\n",
        "  print(item)"
      ]
    },
    {
      "cell_type": "markdown",
      "metadata": {
        "id": "fflRwvPh1-JF"
      },
      "source": [
        "Metoda `keys()` zwróci wszystkie klucze danego słownika w postaci specjalnego widoku:"
      ]
    },
    {
      "cell_type": "code",
      "execution_count": null,
      "metadata": {
        "id": "ULwNEe03XJCD"
      },
      "outputs": [],
      "source": [
        "rainbow_dict.keys()"
      ]
    },
    {
      "cell_type": "markdown",
      "metadata": {
        "id": "BzZJrlMO2FeN"
      },
      "source": [
        "Metoda `values()` zwróci wszystkie wartości danego słownika w postaci specjalnego widoku:"
      ]
    },
    {
      "cell_type": "code",
      "execution_count": null,
      "metadata": {
        "id": "-Uk7xpkW3Abt"
      },
      "outputs": [],
      "source": [
        "rainbow_dict.values()"
      ]
    },
    {
      "cell_type": "markdown",
      "metadata": {
        "id": "kq4xyXiD2d0W"
      },
      "source": [
        "Podobnie jak w przypadku list, metoda `clear()` usuwa wszystkie elementy słownika, `copy()` tworzy jego kopię, pop() usuwa element słownika o zadanym kluczu i go zwraca. Metoda `update()` — podobnie jak `extend()` w listach - dodaje do słownika elementy innego słownika.\n",
        "\n",
        "Samodzielnie napisz kod wykorzystujący te metody.\n",
        "\n",
        "Metoda `get()` zwraca wartość dla zadanego klucza. Oprócz klucza można podać jako argument komunikat, który ma zwrócić Python w przypadku braku elementu o zadanym kluczu."
      ]
    },
    {
      "cell_type": "code",
      "execution_count": null,
      "metadata": {
        "id": "JtjWzEtE57ZI"
      },
      "outputs": [],
      "source": [
        "rainbow_dict.get(7)"
      ]
    },
    {
      "cell_type": "markdown",
      "metadata": {
        "id": "aHeDX7fx2yA9"
      },
      "source": [
        "Poniższy kod zwróci napis o treści „Nie ma tylu kolorów w tęczy!”."
      ]
    },
    {
      "cell_type": "code",
      "execution_count": null,
      "metadata": {
        "id": "XvJ31diT6DZ0"
      },
      "outputs": [],
      "source": [
        "rainbow_dict.get(8, 'Nie ma tylu kolorów w tęczy!')"
      ]
    },
    {
      "cell_type": "markdown",
      "metadata": {
        "id": "iD8lII49C5rO"
      },
      "source": [
        "Poniżej znajduje się przykład słownika, którego kluczami są napisy:"
      ]
    },
    {
      "cell_type": "code",
      "execution_count": null,
      "metadata": {
        "id": "c-zb_eVl6gX0"
      },
      "outputs": [],
      "source": [
        "pl_en_dict = {'mama':'mother',\n",
        "              'tata':'dad',\n",
        "              'syn':'son',\n",
        "              'córka':'daughter',\n",
        "              'ciocia':'aunt'}\n",
        "\n",
        "pl_en_dict.get('mama')"
      ]
    },
    {
      "cell_type": "markdown",
      "metadata": {
        "id": "OipkvRiZ3Seu"
      },
      "source": [
        "### ZAPAMIĘTAJ!\n",
        "\n",
        "`clear()` - metoda usuwa wszystkie elementy z listy.\n",
        "\n",
        "`copy()` - metoda zwraca kopię listy.\n",
        "\n",
        "`dict()` - funkcja tworzy słownik.\n",
        "\n",
        "`items()` - metoda zwraca obiekt widoku, który wyświetla listę par/krotek (klucz, wartość).\n",
        "\n",
        "`keys()` - metoda zwraca obiekt widoku, który wyświetla listę wszystkich kluczy słownika.\n",
        "\n",
        "`values()` - metoda zwraca obiekt widoku, który wyświetla listę wszystkich wartości słownika.\n",
        "\n",
        "`get()` - metoda zwraca wartość określonego klucza, jeśli klucz znajduje się w słowniku.\n",
        "\n",
        "`pop()` - metoda usuwa element o podanym indeksie z listy i zwraca usunięty element.\n",
        "\n",
        "`update()` - metoda dodaje do końca listy wszystkie elementy innej listy.\n",
        "\n",
        "\n",
        "### ZBADAj samodzielnie i zapamiętaj!\n",
        "\n",
        "`popitem()` - metoda usuwa ostatni element dodany do słownika i go zwraca.\n",
        "\n",
        "`fromkeys()` - metoda tworzy nowy słownik z podanej sekwencji elementów z wartością podaną przez użytkownika."
      ]
    },
    {
      "cell_type": "markdown",
      "metadata": {
        "id": "Tqs1ydK9EFad"
      },
      "source": [
        "### Zbiory"
      ]
    },
    {
      "cell_type": "markdown",
      "metadata": {
        "id": "Zs9qEj344fYE"
      },
      "source": [
        "Zbiory są podobne do list, ale w ich przypadku kolejność elementów nie ma znaczenia. Podobnie jak to miało miejsce z listami, zbiór można utworzyć wymieniając jego elementy. Utwórzmy zbiór muzyków występujących w pierwszym składzie zespołu Hey w roku 1992:"
      ]
    },
    {
      "cell_type": "code",
      "execution_count": null,
      "metadata": {
        "id": "yyJDFPxjEEiI"
      },
      "outputs": [],
      "source": [
        "hey_1992 = {'Katarzyna Nosowska', 'Marcin Żabiłowicz', 'Robert Ligiewicz', 'Marcin Macuk', 'Piotr Banach'}"
      ]
    },
    {
      "cell_type": "markdown",
      "metadata": {
        "id": "Hw7ljJJh4uH4"
      },
      "source": [
        "Skład zespołu ulegał kilku zmianom (zob. https://pl.wikipedia.org/wiki/Hey#Muzycy). Utwórzmy więc zmienną `hey_band`, dzięki której zilustrujemy te zmiany:"
      ]
    },
    {
      "cell_type": "code",
      "execution_count": null,
      "metadata": {
        "id": "-f6MrHb44xNz"
      },
      "outputs": [],
      "source": [
        "hey_band = set()"
      ]
    },
    {
      "cell_type": "markdown",
      "metadata": {
        "id": "xM154ZDk43iT"
      },
      "source": [
        "Metoda `update()` dodaje do zbioru elementy innego zbioru (podobnie jak to maiło miejsce ze słownikami). Dodajmy więc do aktualnie pustego zbioru hey_band skład wyjściowy z roku 1992:"
      ]
    },
    {
      "cell_type": "code",
      "execution_count": null,
      "metadata": {
        "id": "GAzSTV9m48oo"
      },
      "outputs": [],
      "source": [
        "hey_band.update(hey_1992)\n",
        "print(hey_band)"
      ]
    },
    {
      "cell_type": "markdown",
      "metadata": {
        "id": "rcn15cVs5xmI"
      },
      "source": [
        "W roku 1993 z zespołu odszedł basista Marcin Macuk, a dołączył w jego miejsce Jacek Chrzanowski. Użyjemy metody `remove()`, aby usunąć element ze zbioru i metody `add()`, aby do zbioru dodać nowy element:\n"
      ]
    },
    {
      "cell_type": "code",
      "execution_count": null,
      "metadata": {
        "id": "4mZTzlqHHODR"
      },
      "outputs": [],
      "source": [
        "hey_band.remove('Marcin Macuk')\n",
        "hey_band.add('Jacek Chrzanowski')"
      ]
    },
    {
      "cell_type": "markdown",
      "metadata": {
        "id": "J1KyoLBz55Ur"
      },
      "source": [
        "Następnie utworzymy kopię tego składu za pomocą metody `copy()` i przypiszemy ją do zmiennej `hey_1993`:"
      ]
    },
    {
      "cell_type": "code",
      "execution_count": null,
      "metadata": {
        "id": "2uc2lbW_56G6"
      },
      "outputs": [],
      "source": [
        "hey_1993 = hey_band.copy()\n",
        "print(hey_1993)"
      ]
    },
    {
      "cell_type": "markdown",
      "metadata": {
        "id": "9nHjsVjS9i-h"
      },
      "source": [
        "Zapamiętaj, że dodawanie elementu, który już jest w zbiorze, nie zmienia tego zbioru (inaczej niż miało to miejsce w przypadku list, gdy elementy mogły się powtarzać - w zbiorze elementy nigdy się nie powtarzają). I jeszcze jedna uwaga. Możesz usuwać elementy ze zbioru również za pomocą metody `discard()`. Ta metoda nie zwróci błędu jeśli zechcesz usunąć element zbioru, którego tam niema. Metoda `remove()` w takiej sytuacji zwróci błąd.\n",
        "\n",
        "Następnie nastąpiły kolejne dwie ważne zmiany w zespole. Najpoważniejszą było odejście Piotra Banacha w roku 1999 roku:"
      ]
    },
    {
      "cell_type": "code",
      "execution_count": null,
      "metadata": {
        "id": "dRIy0NuqJfQk"
      },
      "outputs": [],
      "source": [
        "hey_band.remove('Piotr Banach')\n",
        "hey_1999 = hey_band.copy()\n",
        "print(hey_1999)"
      ]
    },
    {
      "cell_type": "markdown",
      "metadata": {
        "id": "1tRNObo0naQ5"
      },
      "source": [
        "W roku 2001 do Hey dołączył Paweł Krawczyk:\n"
      ]
    },
    {
      "cell_type": "code",
      "execution_count": null,
      "metadata": {
        "id": "Rz0ZQb0VJ0g_"
      },
      "outputs": [],
      "source": [
        "hey_band.add('Paweł Krawczyk')\n",
        "hey_2001 = hey_band.copy()\n",
        "print(hey_2001)"
      ]
    },
    {
      "cell_type": "markdown",
      "metadata": {
        "id": "FEqO6WrTndyY"
      },
      "source": [
        "A w 2012 do Hey na chwilę również dołączył Marcin Zabrocki:\n"
      ]
    },
    {
      "cell_type": "code",
      "execution_count": null,
      "metadata": {
        "id": "Ju1YgszVLJEw"
      },
      "outputs": [],
      "source": [
        "hey_band.add('Marcin Zabrocki')\n",
        "hey_2012 = hey_band.copy()\n",
        "print(hey_2012)"
      ]
    },
    {
      "cell_type": "markdown",
      "metadata": {
        "id": "wyR7VyMDnhs4"
      },
      "source": [
        "Zespół Hey zawiesił swoją działalność w październiku 2017. Nie było już nim Marcina Zabrockiego, który był członkiem zespołu jedynie przez rok. Rok przed zawieszeniem, do zespołu wrócił Marcin Macuk:\n"
      ]
    },
    {
      "cell_type": "code",
      "execution_count": null,
      "metadata": {
        "id": "ZeKkKsm4NdpG"
      },
      "outputs": [],
      "source": [
        "hey_band.remove('Marcin Zabrocki')\n",
        "hey_band.add('Marcin Macuk')\n",
        "hey_2017 = hey_band.copy()\n",
        "print(hey_2017)"
      ]
    },
    {
      "cell_type": "markdown",
      "metadata": {
        "id": "ZS0-ytMBnmxa"
      },
      "source": [
        "Udało nam się utworzyć kilka zbiorów reprezentujących składy zespołu Hey w ciagu jego trwania. Teraz pokażemy, że na zbiorach możemy wykonywać ciekawe operacje.\n",
        "\n",
        "Na przykład możemy sumować zbiory za pomocą metody `union()`. Poniższy kod utworzy zbiór wszystkich muzyków, którzy kiedykolwiek byli członkami zespołu Hey:"
      ]
    },
    {
      "cell_type": "code",
      "execution_count": null,
      "metadata": {
        "id": "oaoDoElwKd8Y"
      },
      "outputs": [],
      "source": [
        "set.union(hey_1992, hey_1993, hey_1999, hey_2001, hey_2012, hey_2017)"
      ]
    },
    {
      "cell_type": "markdown",
      "metadata": {
        "id": "sUTwKAp8nxjd"
      },
      "source": [
        "Możemy też stworzyć zbiór złożony z członków pierwszego i ostatniego składu:\n"
      ]
    },
    {
      "cell_type": "code",
      "execution_count": null,
      "metadata": {
        "id": "Z4-_9zZEnykp"
      },
      "outputs": [],
      "source": [
        "hey_1992.union(hey_2017)"
      ]
    },
    {
      "cell_type": "markdown",
      "metadata": {
        "id": "2nhQLT9nn5ZU"
      },
      "source": [
        "Gdybyśmy chcieli sprawdzić, którzy muzycy byli we wszystkich składach zespołu, to powinniśmy poszukać części wspólnej wszystkich składów. Do tego służy metoda `intersection()`:\n"
      ]
    },
    {
      "cell_type": "code",
      "execution_count": null,
      "metadata": {
        "id": "vD9nKampKuf9"
      },
      "outputs": [],
      "source": [
        "set.intersection(hey_1992, hey_1993, hey_1999, hey_2001, hey_2012, hey_2017)"
      ]
    },
    {
      "cell_type": "markdown",
      "metadata": {
        "id": "CHXeyHpVn-S4"
      },
      "source": [
        "Może nas również interesować, jacy muzycy byli w pierwszym składzie zespołu Hey, a których nie było w składzie finalnym z 2017 roku. Do tego służy metoda `difference()`:\n"
      ]
    },
    {
      "cell_type": "code",
      "execution_count": null,
      "metadata": {
        "id": "HTvktJYzLe6K"
      },
      "outputs": [],
      "source": [
        "hey_1992.difference(hey_2017)"
      ]
    },
    {
      "cell_type": "markdown",
      "metadata": {
        "id": "vMMxicKIoHN-"
      },
      "source": [
        "Muzycy, którzy zmienili się między pierwszym i ostatnim składem:\n"
      ]
    },
    {
      "cell_type": "code",
      "execution_count": null,
      "metadata": {
        "id": "7tB2DxfXMZ1f"
      },
      "outputs": [],
      "source": [
        "hey_1992.symmetric_difference(hey_2017) # (X u Y) - (X n Y)"
      ]
    },
    {
      "cell_type": "markdown",
      "metadata": {
        "id": "BWuhDMN0oMoR"
      },
      "source": [
        "Gdbyśmy uznali, że ponieważ Hey zawiesił swoją działalność, to w zasadzie nie ma w nim już żądnych muzyków, wówczas możemy wyczyścić zbiór ze wszystkich elementów za pomocą metody `clear()`:\n"
      ]
    },
    {
      "cell_type": "code",
      "execution_count": null,
      "metadata": {
        "id": "aSTFhFfPNkkP"
      },
      "outputs": [],
      "source": [
        "hey_band.clear()"
      ]
    },
    {
      "cell_type": "markdown",
      "metadata": {
        "id": "9Myys9E5oR2-"
      },
      "source": [
        "`isdisjoint()` zwraca wartość `True`, jeśli zbiory są rozłączne, tj. nie mają elementów wspólnych. Czy pierwszy skład był całkowicie różny od ostatniego? Sprawdźmy:\n"
      ]
    },
    {
      "cell_type": "code",
      "execution_count": null,
      "metadata": {
        "id": "sKKlJnXDQ1jt"
      },
      "outputs": [],
      "source": [
        "hey_1992.isdisjoint(hey_2017)"
      ]
    },
    {
      "cell_type": "markdown",
      "metadata": {
        "id": "tKnwY4JIoj2R"
      },
      "source": [
        "`issubset()` zwraca wartość `True`, jeśli zbiór zawiera się w drugim, tj. wszystkie elementy jednego zbioru są również elementami drugiego (choć nie musi być odwrotnie):\n"
      ]
    },
    {
      "cell_type": "code",
      "execution_count": null,
      "metadata": {
        "id": "X4foPCupQUU0"
      },
      "outputs": [],
      "source": [
        "hey_2001.issubset(hey_2017)"
      ]
    },
    {
      "cell_type": "code",
      "execution_count": null,
      "metadata": {
        "id": "2vhjiVaMQgMS"
      },
      "outputs": [],
      "source": [
        "hey_2017.issubset(hey_2001)"
      ]
    },
    {
      "cell_type": "markdown",
      "metadata": {
        "id": "cCrmNk9Bo49p"
      },
      "source": [
        "### Zapamiętaj!\n",
        "\n",
        "`clear()` - metoda usuwa wszystkie elementy ze zbioru.\n",
        "\n",
        "`copy()` - metoda zwraca kopię zbioru.\n",
        "difference() - metoda zwraca zbiór będący różnicą dwóch zbiorów.\n",
        "\n",
        "`discard()` - metoda usuwa określony element ze zbioru (jeśli jest obecny); metoda nie zwróci błędu jeśli zechcesz usunąć element zbioru, którego niema.\n",
        "intersection() - metoda zwraca nowy zbiór  zawierający elementy wspólne dla dwóch lub więcej zbiorów.\n",
        "\n",
        "`isdisjoint()` - metoda zwraca `True`, jeśli dwa zbiory są rozłączne. Jeśli nie, zwraca `False`.\n",
        "\n",
        "`issubset()` - metoda zwraca `True`, jeśli wszystkie elementy zbioru są obecne w innym zbiorze (przekazywanym jako argument). Jeśli nie, zwraca `False`.\n",
        "\n",
        "`remove()` - metoda usuwa określony element ze zbioru; metoda zwróci błąd jeśli zechcesz usunąć element zbioru, którego tam niema.\n",
        "\n",
        "`union()` - metoda zwraca nowy zbiór z elementami ze wszystkimi zbiorów będących jej argumentami.\n",
        "\n",
        "`update()` - metoda dodaje do końca zbioru wszystkie elementy innego zbioru.\n",
        "\n",
        "\n",
        "### ZBADAj samodzielnie i zapamiętaj!\n",
        "`issuperset()` - metoda zwraca wartość `True`, jeśli zbiór jest nadzbiorem drugiego\n",
        "\n",
        "`pop()` - metoda usuwa dowolny element ze zbioru i zwraca ten element.\n",
        "\n",
        "`frozenset()` - funkcja tworzy zbiór niezmienny, tzn. taki, którego elementów nie można zmienić (dodać lub usunąć)."
      ]
    },
    {
      "cell_type": "markdown",
      "metadata": {
        "id": "fr9Ee1sW7m7S"
      },
      "source": [
        "### Krotki\n",
        "\n",
        "Krotki (ang. *tuple*) podobnie jak listy służą do przechowywania informacji o kilku elementach jednocześnie. W krotkach podobnie jak w listach kolejność elementów ma znaczenie. To co różni krótki od list to nawiasy, w których zapisujemy elementy: `(` i `)`. Kolejną różnicą jest fakt, że nie można zmieniać rozmiaru i zawartości raz utworzonej krotki (co wyrażamy angielskim terminem immutable).\n",
        "\n",
        "Za pomocą krotek możemy na przykład przechowywać informacje of kulturystach:"
      ]
    },
    {
      "cell_type": "code",
      "execution_count": null,
      "metadata": {
        "id": "zTft4l7MsJZ6"
      },
      "outputs": [],
      "source": [
        "jan_kaszanka = ('Jan', 'Kaszanka', 180, 113, 54, 150)\n",
        "jan_kaszanka"
      ]
    },
    {
      "cell_type": "markdown",
      "metadata": {
        "id": "wjjYz-eOpefR"
      },
      "source": [
        "W powyższej krotce na kolejnych miejscach mamy informację dotyczące odpowiednio: imienia, nazwiska, wzrostu, wagi, obwodu bicepsa oraz  obwodu klatki piersiowej. Gdyby rozmiary bicepsa lub klatki piersiowej Jana Kaszanki zmieniły  się musielibyśmy zmiennej `jan_kaszanka` przypisać nową krotkę (update nie jest możliwy!):\n"
      ]
    },
    {
      "cell_type": "code",
      "execution_count": null,
      "metadata": {
        "id": "HMJs3Ui6plRT"
      },
      "outputs": [],
      "source": [
        "jan_kaszanka = ('Jan', 'Kaszanka', 180, 113, 55, 150)"
      ]
    },
    {
      "cell_type": "markdown",
      "metadata": {
        "id": "zXeHZULkpois"
      },
      "source": [
        "Dla krotek Pyton oferuje dwie metody: `count()` oraz `index()`.  `count()` która zwraca ile razy dany element występuje w danej krotce:"
      ]
    },
    {
      "cell_type": "code",
      "execution_count": null,
      "metadata": {
        "id": "JstcsChGt45D"
      },
      "outputs": [],
      "source": [
        "jan_kaszanka.count(180)"
      ]
    },
    {
      "cell_type": "markdown",
      "metadata": {
        "id": "WVMLW1aIpu1G"
      },
      "source": [
        "Metodę `index()` zwraca indeks zadanego elementu. Używając metody `index()` możemy podać trzy argumenty: element, którego szukamy, indeks od którego zaczniemy wyszukiwanie oraz indeks na którym zakończymy wyszukiwanie:"
      ]
    },
    {
      "cell_type": "code",
      "execution_count": null,
      "metadata": {
        "id": "5OhhnOLluCy2"
      },
      "outputs": [],
      "source": [
        "jan_kaszanka.index(180, 2, 3)"
      ]
    },
    {
      "cell_type": "markdown",
      "metadata": {
        "id": "y5qLp43BpzFt"
      },
      "source": [
        "W powyższym przykładzie szukamy w krotce wartości `180` zaczynając od indeksu `2` i kończąc na indeksie `3`.\n",
        "\n",
        "Krotki są iterowalne:"
      ]
    },
    {
      "cell_type": "code",
      "execution_count": null,
      "metadata": {
        "id": "qIGNmIDliCD0"
      },
      "outputs": [],
      "source": [
        "for i in jan_kaszanka:\n",
        "  print(i)"
      ]
    },
    {
      "cell_type": "markdown",
      "metadata": {
        "id": "hFMVe4nfH148"
      },
      "source": [
        "### Kolekcje Pythona\n",
        "\n",
        "Listy, słowniki, zbiory oraz krotki są kolekcjami (ang. *collections*). Cześć metod, o których pisaliśmy w tym rozdziale ma szerszy zakres, tj. nie stosuje się tylko do list lub tylko do słowników, ale do wszystkich kolekcji. Poniżej pokażemy przykładowo, że argumentem metody `extend()` dla list może być dowolna kolekcja.\n"
      ]
    },
    {
      "cell_type": "code",
      "execution_count": null,
      "metadata": {
        "id": "C4uFZkpOH5eP"
      },
      "outputs": [],
      "source": [
        "l = [1,2]                 # lista\n",
        "s = {3,4}                 # zbiór\n",
        "t = (5,6)                 # krotka\n",
        "d = {7:\"buh\", 8:\"buha\"}   # słownik\n",
        "\n",
        "l.extend(s)\n",
        "print(l)\n",
        "\n",
        "l.extend(t)\n",
        "print(l)\n",
        "\n",
        "l.extend(d)\n",
        "print(l)"
      ]
    },
    {
      "cell_type": "markdown",
      "metadata": {
        "id": "kDJGJ3-Rijko"
      },
      "source": [
        "Podobnie argumentem metody `sorted()` dla list może być dowolna kolekcja:\n"
      ]
    },
    {
      "cell_type": "code",
      "execution_count": null,
      "metadata": {
        "id": "LJBOVYEAICHe"
      },
      "outputs": [],
      "source": [
        "sorted({2, 1, 4, 3})"
      ]
    },
    {
      "cell_type": "markdown",
      "metadata": {
        "id": "zaBIi6GOioqi"
      },
      "source": [
        "Trzy poniższe linie kodu mają ten sam wynik, zbiór `{1, 2, 3, 4}`:\n"
      ]
    },
    {
      "cell_type": "code",
      "execution_count": null,
      "metadata": {
        "id": "3vWSs59MIG1C"
      },
      "outputs": [],
      "source": [
        "{1,2}.union([3,4])\n",
        "{1,2}.union((3,4))\n",
        "{1,2}.union({3:\"buh\", 4:\"buha\"})"
      ]
    },
    {
      "cell_type": "markdown",
      "metadata": {
        "id": "Iu8Z8bFuiszO"
      },
      "source": [
        "Podobnie możemy użyć kolekcji z metodami stosowanymi do zbiorów: `intersection()`, `difference()`, `symmetric_difference()`, `issubset()` oraz `issuperset()`.\n",
        "Możemy też utworzyć niezmienny zbiór za pomocą funkcji `frozenset()`, z dowolnej kolekcji. Podobnie funkcja `enumerate()`, którą używaliśmy w pętli for może przyjąć jako argument dowolną kolekcję, np. zbiór.\n"
      ]
    },
    {
      "cell_type": "markdown",
      "metadata": {
        "id": "DzoU9qXjIL5R"
      },
      "source": [
        "### Listy, słowniki i zbiory składane\n",
        "\n",
        "Mechanizm składania (ang. *comprehension*) ułatwia tworzenie list, słowników oraz zbiorów i należy do tych aspektów języka Python, które łatwiej jest pokazać niż wytłumaczyć.\n",
        "\n"
      ]
    },
    {
      "cell_type": "markdown",
      "metadata": {
        "id": "QU3RsegGISyl"
      },
      "source": [
        "### Listy składane\n",
        "\n",
        "Listę składaną (ang. *list comprehension*) możemy utworzyć z dowolnej kolekcji. Załóżmy, że mamy listę cen trzech produktów:\n"
      ]
    },
    {
      "cell_type": "code",
      "execution_count": null,
      "metadata": {
        "id": "WlTv_oIPINm5"
      },
      "outputs": [],
      "source": [
        "prices = [100, 150, 200]"
      ]
    },
    {
      "cell_type": "markdown",
      "metadata": {
        "id": "8VKR-KorjNu-"
      },
      "source": [
        "Gdbyśmy chcieli utworzyć nową listę z cenami zwiększonymi o `20%`, o nazwie `prices_increased`, to korzystając z dotychczas poznanych technik moglibyśmy zrobić tak:"
      ]
    },
    {
      "cell_type": "code",
      "execution_count": null,
      "metadata": {
        "id": "3Ejr2Np9jQvf"
      },
      "outputs": [],
      "source": [
        "prices_increased = []\n",
        "for price in prices:\n",
        "  prices_increased.append(price * 1.20)\n",
        "\n",
        "prices_increased"
      ]
    },
    {
      "cell_type": "markdown",
      "metadata": {
        "id": "toF3mkLSjae4"
      },
      "source": [
        "Używając list składanych moglibyśmy to samo zrobić za pomocą jednej linii kodu w następujący sposób:"
      ]
    },
    {
      "cell_type": "code",
      "execution_count": null,
      "metadata": {
        "id": "wFUZYCQfIaVg"
      },
      "outputs": [],
      "source": [
        "[price * 1.20 for price in prices]"
      ]
    },
    {
      "cell_type": "markdown",
      "metadata": {
        "id": "ZWYneBlhIjQ1"
      },
      "source": [
        "### Słowniki składane\n",
        "\n",
        "Słowniki składane (ang. *dictionary comprehension*) tworzymy podobnie jak listy składane. Załóżmy, że mamy dwie listy, listę owoców i ich cen:\n"
      ]
    },
    {
      "cell_type": "code",
      "execution_count": null,
      "metadata": {
        "id": "0IJzX4MzIlWL"
      },
      "outputs": [],
      "source": [
        "fruits = ['mandarynki', 'jabłka', 'kiwi']\n",
        "prices = [15, 10, 20]"
      ]
    },
    {
      "cell_type": "markdown",
      "metadata": {
        "id": "deAb_MSWjvvB"
      },
      "source": [
        "Słownik, którego kluczami są nazwy owoców, a wartościami ich ceny tworzymy następująco:"
      ]
    },
    {
      "cell_type": "code",
      "execution_count": null,
      "metadata": {
        "id": "JmDRj4JEjwwg"
      },
      "outputs": [],
      "source": [
        "fruits_prices_dict = {fruit:price for fruit, price in zip(fruits, prices)}\n",
        "fruits_prices_dict"
      ]
    },
    {
      "cell_type": "markdown",
      "metadata": {
        "id": "6BzI1-gGkDBy"
      },
      "source": [
        "Słowniki składane są poręczne, gdy chcemy zamienić w już istniejącym słowniku klucze na wartości. Wówczas robimy tak:"
      ]
    },
    {
      "cell_type": "code",
      "execution_count": null,
      "metadata": {
        "id": "9wKk6UQYIoyg"
      },
      "outputs": [],
      "source": [
        "{value:key for key, value in fruits_prices_dict.items()}"
      ]
    },
    {
      "cell_type": "markdown",
      "metadata": {
        "id": "DX3ADk8JJiQi"
      },
      "source": [
        "### Zbiory składane\n",
        "\n",
        "Zbiory składane (ang. *set comprehension*) tworzymy w dokładnie taki sam sposób. Zadaniem poniższego kodu jest stworzenie zbioru słów znajdujących się we fragmecie wiersza ,,Szybko'' Danuty Wawiłow."
      ]
    },
    {
      "cell_type": "code",
      "execution_count": null,
      "metadata": {
        "id": "Nx1JyZ_3IoBj"
      },
      "outputs": [],
      "source": [
        "strophe = '''\n",
        "Szybko, zbudź się, szybko, wstawaj!\n",
        "Szybko, szybko, stygnie kawa!\n",
        "Szybko, zęby myj i ręce!\n",
        "Szybko, światło gaś w łazience!\n",
        "Szybko, tata na nas czeka!\n",
        "Szybko, tramwaj nam ucieka!\n",
        "Szybko, szybko, bez hałasu!\n",
        "Szybko, szybko, nie ma czasu!\n",
        "\n",
        "Na nic nigdy nie ma czasu?\n",
        "'''\n",
        "\n",
        "bag_of_words = {word for word in strophe.lower().replace('.', '').replace(',', '').replace('!', '').split()}\n",
        "bag_of_words"
      ]
    },
    {
      "cell_type": "markdown",
      "metadata": {
        "id": "_erLd1UChTDH"
      },
      "source": [
        "## Pliki\n",
        "\n",
        "W poprzednim rozdziale mówiliśmy danych i o strukturach (takich jak listy, słowniki, zbiory oraz krotki) służących do organizowania danych. Powiedzieliśmy, że danymi są wszelkie informacje zapisane w jakiś sposób. Teraz dodamy, że dane są najczęściej zapisywane w plikach. Dokumenty, które tworzymy w takich programach jak Word, czy arkusze kalkulacyjne, to tylko niektóre przykłady typów plików, z którymi spotykamy się niemalże na co dzień.\n",
        "\n",
        "Pliki możemy podzielić roboczo na dwie grupy, te które narzucają danym pewną strukturę, dzięki której nota bene możemy na tych danych dokonywać pewnych operacji (tu mamy na przykład arkusze kalkulacyjne) oraz te, które nie posiadają struktury dla danych które przechowują (tu mamy zwykłe pliki tekstowe).\n",
        "\n",
        "Z punktu widzenia Pythona, na pliku możemy wykonać jedną z trzech operacji:\n",
        "- Otworzyć plik do odczytu (ang. *read*). Tę operację oznaczymy małą literą `r`.\n",
        "- Otworzyć plik w celu dodania do niego nowej linii  (ang. *append*). Tę operację oznaczymy małą literą `a`. Operacja ta tworzy plik, jeśli plik do którego chcemy coś dodać nie istnieje.\n",
        "- Otworzyć plik w celu zapisania w nim nowej treści  (ang. *write*). Tę operację oznaczymy małą literą `w`. Operacja ta tworzy plik, jeśli plik w którym chcemy coś zapisać nie istnieje oraz nadpisuje istniejącą treść o ile plik istnieje."
      ]
    },
    {
      "cell_type": "markdown",
      "metadata": {
        "id": "vGran7BShRUj"
      },
      "source": [
        "### TXT"
      ]
    },
    {
      "cell_type": "markdown",
      "metadata": {
        "id": "_W7BJrb-rIrG"
      },
      "source": [
        "Tworzymy listę zakupów i dodajemy do niej produkty:"
      ]
    },
    {
      "cell_type": "code",
      "execution_count": null,
      "metadata": {
        "id": "ivWj1pyh0bn-"
      },
      "outputs": [],
      "source": [
        "with open('lista_zakupów.txt', mode='w') as file:\n",
        "  file.write('Lista zakupów:\\n')\n",
        "  while True:\n",
        "    product = input('Dodaj produkt: ')\n",
        "    if product:\n",
        "      file.write(f'- {product}\\n')\n",
        "    else:\n",
        "      break\n"
      ]
    },
    {
      "cell_type": "markdown",
      "metadata": {
        "id": "E1OiAlD0rSEw"
      },
      "source": [
        "Odczytujemy listę zakupów:"
      ]
    },
    {
      "cell_type": "code",
      "execution_count": null,
      "metadata": {
        "id": "WlUt3sQb23Y3"
      },
      "outputs": [],
      "source": [
        "with open('lista_zakupów.txt', 'r') as file:\n",
        "  print(file.read())"
      ]
    },
    {
      "cell_type": "code",
      "execution_count": null,
      "metadata": {
        "id": "nD7trnbA5KU7"
      },
      "outputs": [],
      "source": [
        "with open('lista_zakupów.txt', 'r') as file:\n",
        "  for line in file:\n",
        "    print(line)"
      ]
    },
    {
      "cell_type": "markdown",
      "metadata": {
        "id": "zD2QpHJarYmS"
      },
      "source": [
        "Praca na liniach pliku poza blokiem `with`:\n"
      ]
    },
    {
      "cell_type": "code",
      "execution_count": null,
      "metadata": {
        "id": "zOzLO5z65wDA"
      },
      "outputs": [],
      "source": [
        "with open('lista_zakupów.txt', 'r') as file:\n",
        "  lines = file.readlines()\n",
        "\n",
        "for line in lines:\n",
        "  print(line)"
      ]
    },
    {
      "cell_type": "markdown",
      "metadata": {
        "id": "h0iBHYf--IOt"
      },
      "source": [
        "### CSV\n",
        "\n",
        "Plik csv (ang. *comma separated values*) jest plikiem tekstowym, w którym informacje są uporządkowane w formie tabularycznej. Możemy więc traktować plik csv jako tabelę, w której mamy nazwy kolumn w pierwszym wierszu i to one nadają sens danym. Dane są zwykle oddzielone przecinkami, choć możliwe jest ustalenie innego separatora (ang. *delimiter*).\n",
        "\n",
        "Pliki csv można czytać jak normalne pliki tekstowe. Są również biblioteki nieco ułatwiające czytanie takich plików i zapisywanie w nich informacji."
      ]
    },
    {
      "cell_type": "code",
      "execution_count": null,
      "metadata": {
        "id": "AIi2Pd9z-J5v"
      },
      "outputs": [],
      "source": [
        "import csv\n",
        "\n",
        "with open('students.csv', 'w') as file:\n",
        "  csv_writer = csv.writer(file, delimiter=',', quotechar='\"', quoting=csv.QUOTE_MINIMAL)\n",
        "\n",
        "  csv_writer.writerow(['Jan', 'Kiełbasa', '12.12.2000', 'Białystok'])\n",
        "  csv_writer.writerow(['Monika', 'Szacka', '16.04.2000', 'Lublin'])"
      ]
    },
    {
      "cell_type": "markdown",
      "metadata": {
        "id": "3ZZjRkZ9r66A"
      },
      "source": [
        "Największy problem z plikami csv dotyczy danych (np. napisów lub liczb), które w swojej strukturze zawierają separator. Na przykład liczba `11,235`  czy napis `Cześć, co u ciebie?` zapisane do pliku csv bez cudzysłowu będą stanowiły realny problem.\n",
        "\n",
        "Stąd używając `writer`a określamy, czy i jak chcemy używać cudzysłowu. Definicja naszego `writer`a wygląda tak, że `quoting=csv.QUOTE_MINIMAL`, co oznacza, że cudzysłów zostanie użyty w sytuacji, gdy w danych będziemy mieli separator (czyli przecinek w naszym przypadku) lub znak przypisany do parametru `quotechar`. `csv.QUOTE_ALL` zamieści wszystkie dane w cudzysłowie.\n",
        "\n",
        "Odczytując dane musimy również ustalić atrybuty parametrów `delimiter` i `quotechar`.\n"
      ]
    },
    {
      "cell_type": "code",
      "execution_count": null,
      "metadata": {
        "id": "B-hqQiwEvC5k"
      },
      "outputs": [],
      "source": [
        "with open('students.csv', newline='') as file:\n",
        "  csv_reader = csv.reader(file, delimiter=',', quotechar='\"')\n",
        "  for row in csv_reader:\n",
        "    print(f'Imię: {row[0]}\\nNazwisko: {row[1]}\\nData urodzenia: {row[2]}\\nMiejsce urodzenia: {row[3]}\\n')"
      ]
    },
    {
      "cell_type": "markdown",
      "metadata": {
        "id": "ydtdGkzisUrY"
      },
      "source": [
        "### JSON\n",
        "\n",
        "JSON (skrót od JavaScript Object Notation) to bardzo popularny i poręczny format wymiany danych między systemami. Struktura informacji w JSONie jest bardzo podobna do słowników Pythona. Oto przykład danych zapisanych w formacie JSON:\n",
        "\n",
        "```\n",
        "{\n",
        " \"name\":\"Jan\",\n",
        " \"surname\":\"Kiełbasa\",\n",
        " \"data_of_birth\":\"12.12.2000\",\n",
        " \"place_of_birth\":\"Białystok\"\n",
        "}\n",
        "```\n",
        "\n",
        "Python ma wbudowany pakiet `json`, który ułatwia czytania i zapisywanie danych zapisanych w formacie JSON."
      ]
    },
    {
      "cell_type": "markdown",
      "metadata": {
        "id": "uhnpYT2NC5rT"
      },
      "source": [
        "Możemy przekształcić słownik Pythona w strukturę formatu JSON za pomocą metody `json.dump()` i zapisać ją do pliku:"
      ]
    },
    {
      "cell_type": "code",
      "execution_count": null,
      "metadata": {
        "id": "myhv23y0C5rT"
      },
      "outputs": [],
      "source": [
        "dict_example = {\n",
        " \"name\":\"Jan\",\n",
        " \"surname\":\"Kiełbasa\",\n",
        " \"data_of_birth\":\"12.12.2000\",\n",
        " \"place_of_birth\":\"Białystok\"\n",
        "}\n",
        "\n",
        "with open(\"file.json\", \"w\") as file:\n",
        "    json.dump(dict_example, file)"
      ]
    },
    {
      "cell_type": "markdown",
      "metadata": {
        "id": "5EQ8NZeqC5rT"
      },
      "source": [
        "Poniżej pokazujemy przykład użycia metody `json.load()` do wczytania danych w formacie JSON. Zauważcie, że wynikiem jest słownik."
      ]
    },
    {
      "cell_type": "code",
      "execution_count": null,
      "metadata": {
        "id": "pWq9uK6fC5rT"
      },
      "outputs": [],
      "source": [
        "import json\n",
        "\n",
        "with open(\"file.json\", \"r\") as file:\n",
        "    data = json.load(file)\n",
        "\n",
        "print(data)\n",
        "type(data)"
      ]
    },
    {
      "cell_type": "markdown",
      "metadata": {
        "id": "Armyrl51hFBb"
      },
      "source": [
        "## Definiujemy własne funkcje\n",
        "\n",
        "Python zawiera wiele funkcji wbudowanych. Do tej pory poznaliśmy już kilka z nich: `str()`, `print()`, `input()`, czy `range()`.\n",
        "\n",
        "W Pythonie możemy pisać własne funkcje. Dzięki funkcjom możemy „zamknąć” część kodu programu w zwartej strukturze. Zobaczymy dalej, analizując kilka przykładów, że używanie własnych funkcji ma wiele korzyści i tak naprawdę trudno sobie wyobrazić programowanie Pythonie bez częstego korzystanie z własnych funkcji.\n",
        "\n",
        "Każda dobrze zdefiniowana funkcja wygląda tak:\n",
        "\n",
        "```\n",
        "def NAZWA FUNKCJI(LISTA PARAMETRÓW):\n",
        "  \"\"\"\n",
        "    opis działania funkcji\n",
        "  \"\"\"   \n",
        "  BLOK INSTRUKCJI\n",
        "```\n",
        "\n",
        "Definicja funkcji zaczyna się od słowa kluczowego `def` po którym następuje `NAZWA FUNKCJI`, po której znów mamy w nawiasach zwykłych `LISTĘ PARAMETRÓW` funkcji oraz `:`.\n",
        "\n",
        "W kolejnych liniach, poprzedzony odpowiednią tabulacją, pojawia się komentarz zawierający opis działania funkcji, jej parametrów i ew. co funkcja zwraca oraz `BLOK INSTRUKCJI`, który zostaje wykonany po wywołaniu funkcji. Komentarz może być pominięty, jeśli funkcja jest prosta, a jej działanie oczywiste.\n",
        "\n",
        "Rozważmy poniższe dwa przykłady definicji funkcji:"
      ]
    },
    {
      "cell_type": "code",
      "execution_count": null,
      "metadata": {
        "id": "N2mkCYWY8-nE"
      },
      "outputs": [],
      "source": [
        "def print_welcome_message(name, surname):\n",
        "    \"\"\"\n",
        "    print_welcome_message displays the welcome message.\n",
        "\n",
        "    :param name: name string\n",
        "    :param surname: surname string\n",
        "\n",
        "    \"\"\"\n",
        "    print(f'Witaj człowieku o imieniu {name} i nazwisku {surname}!')"
      ]
    },
    {
      "cell_type": "markdown",
      "metadata": {
        "id": "n4XPVsc-uBlr"
      },
      "source": [
        "Funkcja nazywa się `print_welcome_message` i ma dwa **parametry** `name` i `surname`. Blok instrukcji tej funkcji składa się z jednej instrukcji `print()`.\n",
        "\n",
        "Wywołujemy funkcję podając jej nazwę oraz przekazując jej **argumenty**, które powinny pojawić się w miejscu odpowiednich parametrów:"
      ]
    },
    {
      "cell_type": "code",
      "execution_count": null,
      "metadata": {
        "id": "UR2pzXvS9AGI"
      },
      "outputs": [],
      "source": [
        "print_welcome_message(name='Robert', surname='Trypuz')"
      ]
    },
    {
      "cell_type": "markdown",
      "metadata": {
        "id": "jaPz11kMuRAX"
      },
      "source": [
        "Jedną z zalet funkcji jest możliwość wielokornego ich wywoływania z różami argumentami jak to pokazujemy poniżej:\n"
      ]
    },
    {
      "cell_type": "code",
      "execution_count": null,
      "metadata": {
        "id": "8cdXZ0LGuSAL"
      },
      "outputs": [],
      "source": [
        "print_welcome_message('Maria','Zawada')"
      ]
    },
    {
      "cell_type": "markdown",
      "metadata": {
        "id": "2ywo_LMTuXlX"
      },
      "source": [
        "Gdy raz napiszemy dobrze funkcję, możemy ją w zasadzie traktować jako *black box* mający swoje wejście i wyjście. Sposób działania nie zawsze musi nam zaprzątać głowę.\n",
        "\n",
        "Warto jeszcze dodać, że funkcje nie muszą mieć parametrów. Na przykład funkcja poniżej ma jedynie wyświetlić obrazek filiżanki z pachnącą kawą (przepisując ten kod możesz ten obrazek uprościć):"
      ]
    },
    {
      "cell_type": "code",
      "execution_count": null,
      "metadata": {
        "id": "1H-MpyNfrSzM"
      },
      "outputs": [],
      "source": [
        "def espresso_please():\n",
        "    \"\"\"\n",
        "    espresso_please displays the cup picture.\n",
        "\n",
        "    \"\"\"\n",
        "    espresso = r'''\n",
        "            (  )\n",
        "            )  (\n",
        "          (   )\n",
        "         _______\n",
        "        <_______> ___\n",
        "        |       |/ _ \\\n",
        "        |       | | | |\n",
        "        |         |_| |\n",
        "     ___|       |\\___/\n",
        "    /   \\_______/    \\\n",
        "    \\________________/\n",
        "\n",
        "    '''\n",
        "    print(espresso)"
      ]
    },
    {
      "cell_type": "markdown",
      "metadata": {
        "id": "6tjTZWXHujcA"
      },
      "source": [
        "Zauważ `r` przed napisem w powyższym kodzie. Nieco upraszczając można powiedzieć, że nakazuje on Pythonowi potraktować napis dokładnie tak jak my go widzimy."
      ]
    },
    {
      "cell_type": "code",
      "execution_count": null,
      "metadata": {
        "id": "KiSOI9DbsExV"
      },
      "outputs": [],
      "source": [
        "espresso_please()"
      ]
    },
    {
      "cell_type": "code",
      "execution_count": null,
      "metadata": {
        "id": "nRBXmeap9Lue"
      },
      "outputs": [],
      "source": [
        "def more_espresso_please(number):\n",
        "    \"\"\"\n",
        "    more_espresso_please displays the cup picture number times.\n",
        "\n",
        "    :param number: number of times to display the cup picture\n",
        "\n",
        "    \"\"\"\n",
        "    for i in range(number):\n",
        "        espresso_please()"
      ]
    },
    {
      "cell_type": "code",
      "execution_count": null,
      "metadata": {
        "id": "MiO7OjaF9OpQ"
      },
      "outputs": [],
      "source": [
        "more_espresso_please(2)"
      ]
    },
    {
      "cell_type": "markdown",
      "metadata": {
        "id": "tlj2hgKHyL-V"
      },
      "source": [
        "### Funkcje i zmienne\n",
        "\n",
        "Pamiętamy, że zmienne w pętli nie były „widoczne” poza pętlą. Podobnie zmienne w pewnym bloku kodu nie były widoczne poza nim. Tak też będzie z funkcjami. Zmienne i argumenty wewnątrz funkcji mają zasięg lokalny (ang. *local scope*), dlatego nazywane są **zmiennymi lokalnymi**. Zmienne będące na zewnątrz wszystkich funkcji mają zasięg globalny (ang. *global scope*), stąd nazywane są **zmiennymi globalnymi**.\n",
        "\n",
        "Istnieje tylko jeden zasięg globalny i jest on utworzony wraz z rozpoczęciem programu. Zasięg lokalny jest tworzony za każdym razem, gdy dowolna funkcja jest wywoływana. Zmienne z zasięgu globalnego są dostępne w zasięgu lokalnym, ale nie odwrotnie.\n"
      ]
    },
    {
      "cell_type": "markdown",
      "metadata": {
        "id": "YJTQxKRsgfOk"
      },
      "source": [
        "### Argumenty pozycyjne\n",
        "\n",
        "Wywołując funkcję możemy pominąć nazwy parametrów i od razu podać argumenty w nawiasie:"
      ]
    },
    {
      "cell_type": "code",
      "execution_count": null,
      "metadata": {
        "id": "hvi4MLX59C5t"
      },
      "outputs": [],
      "source": [
        "print_welcome_message('Robert', 'Trypuz')"
      ]
    },
    {
      "cell_type": "markdown",
      "metadata": {
        "id": "1q_RKyftvbmB"
      },
      "source": [
        "Są to tzw. **argumenty pozycyjne** i musimy pamiętać, że kolejność ich zapisania ma znaczenie. Porównaj:\n"
      ]
    },
    {
      "cell_type": "code",
      "execution_count": null,
      "metadata": {
        "id": "EoilqkrS9E--"
      },
      "outputs": [],
      "source": [
        "print_welcome_message('Trypuz', 'Robert')"
      ]
    },
    {
      "cell_type": "code",
      "execution_count": null,
      "metadata": {
        "id": "SKQarOwT9Grj"
      },
      "outputs": [],
      "source": [
        "print_welcome_message(surname='Trypuz', name='Robert')"
      ]
    },
    {
      "cell_type": "markdown",
      "metadata": {
        "id": "_BBXI03HgvaH"
      },
      "source": [
        "### Wartości domyślne\n",
        "\n",
        "Python pozwala na przypisanie parametrom funkcji domyślnych wartości. Korzyść z tego jest taka, że wywołując tę funkcję możemy pominąć przekazanie jej niektórych argumentów, oczywiście o ile jesteśmy zadowoleni z ich wartości domyślnej. Poniżej definiujemy funkcję `n_espresso_please`, która wyświetli obrazek filiżanki kawy `number` razy, przy czym domyślnie 1."
      ]
    },
    {
      "cell_type": "code",
      "execution_count": null,
      "metadata": {
        "id": "CIv0YY5rs9WF"
      },
      "outputs": [],
      "source": [
        "def more_espresso_please(number=1):\n",
        "    \"\"\"\n",
        "    n_espresso_please displays the cup picture number times.\n",
        "\n",
        "    :param number: number of times to display the cup picture\n",
        "\n",
        "    \"\"\"\n",
        "    for i in range(number):\n",
        "        espresso_please()"
      ]
    },
    {
      "cell_type": "code",
      "execution_count": null,
      "metadata": {
        "id": "0BpWFxoutEiI"
      },
      "outputs": [],
      "source": [
        "more_espresso_please()"
      ]
    },
    {
      "cell_type": "code",
      "execution_count": null,
      "metadata": {
        "id": "Qubrj_tV9dJ1"
      },
      "outputs": [],
      "source": [
        "more_espresso_please(number=2)"
      ]
    },
    {
      "cell_type": "markdown",
      "metadata": {
        "id": "4B-yAGHmwO3J"
      },
      "source": [
        "Podobnie funkcja poniżej wyświetla nazwę produkt oraz kraj jego pochodzenia. Domyślnym krajem jest `Polska`.\n"
      ]
    },
    {
      "cell_type": "code",
      "execution_count": null,
      "metadata": {
        "id": "gauMsZs3wQx9"
      },
      "outputs": [],
      "source": [
        "def product_info(product_name, country_of_orgin='Polska'):\n",
        "    \"\"\"\n",
        "    product_info displays info about product, its name and country of orgin.\n",
        "\n",
        "    :param product_name: name of product\n",
        "    :param country_of_orgin: country of orgin string; 'Polska' by default\n",
        "\n",
        "    \"\"\"\n",
        "    print(f'Nazwa produktu: {product_name}, kraj pochodzenia: {country_of_orgin}')\n",
        "\n",
        "product_info('kiełbasa')\n",
        "product_info('kawa', 'Nigeria')"
      ]
    },
    {
      "cell_type": "markdown",
      "metadata": {
        "id": "-PJ89THdg1wr"
      },
      "source": [
        "### Wartości opcjonalne\n",
        "\n",
        "Wartości opcjonalne parametrów, czyli „mogą być, ale też może ich nie być”, to sposób na poszerzenie zakresu działania funkcji. Krótko mówiąc, dzięki wartościom opcjonalnym funkcje mogą więcej, ponieważ dostosowują się do różnych sytuacji. Jedna funkcja z wartościami opcjonalnymi może zastąpić kilka funkcji z wartościami wymaganymi. Poniższa funkcja „poszerza” zakres działania wcześniej zdefiniowanej funkcji o tej samej nazwie:"
      ]
    },
    {
      "cell_type": "code",
      "execution_count": null,
      "metadata": {
        "id": "zoaacpHZL1yY"
      },
      "outputs": [],
      "source": [
        "def print_welcome_message(name=None, surname=None):\n",
        "    \"\"\"\n",
        "    print_welcome_message displays the welcome message.\n",
        "    If name and surname are provided, the funciton refers to them.\n",
        "\n",
        "    :param name: name string, optional\n",
        "    :param surname: surname string, optional\n",
        "\n",
        "    \"\"\"\n",
        "    if name is None and surname is None:\n",
        "        print('Witaj!')\n",
        "    else:\n",
        "        print(f'Witaj człowieku o imieniu {name} i nazwisku {surname}!')"
      ]
    },
    {
      "cell_type": "code",
      "execution_count": null,
      "metadata": {
        "id": "sXWfp-sDL6nw"
      },
      "outputs": [],
      "source": [
        "print_welcome_message()"
      ]
    },
    {
      "cell_type": "code",
      "execution_count": null,
      "metadata": {
        "id": "HY-tdxBrwmKv"
      },
      "outputs": [],
      "source": [
        "print_welcome_message(name='Robert', surname='Trypuz')"
      ]
    },
    {
      "cell_type": "markdown",
      "metadata": {
        "id": "p2VZLm6yhJ4I"
      },
      "source": [
        "### Wartość zwrotna\n",
        "\n",
        "Funkcja nie musi nic wyświetlać. Zadaniem niektórych funkcji będzie zwracania wartości. Funkcja poniżej przyjmuje dwa parametry, a następnie zwraca wynik operacji `+`."
      ]
    },
    {
      "cell_type": "code",
      "execution_count": null,
      "metadata": {
        "id": "4QVCL3MD90aR"
      },
      "outputs": [],
      "source": [
        "def add(a, b):\n",
        "    \"\"\"\n",
        "    add function adds two numbers or concatenates two strings.\n",
        "    If name and surname are provided, the funciton refers to them.\n",
        "\n",
        "    :param a: number or string\n",
        "    :param b: number or string\n",
        "    :return: sum of two numbers or concatenation of two strings\n",
        "\n",
        "    \"\"\"\n",
        "    result = a + b\n",
        "    return result"
      ]
    },
    {
      "cell_type": "code",
      "execution_count": null,
      "metadata": {
        "id": "qSlSD41592ql"
      },
      "outputs": [],
      "source": [
        "add(2,3)"
      ]
    },
    {
      "cell_type": "code",
      "execution_count": null,
      "metadata": {
        "id": "xM0eaz3H947H"
      },
      "outputs": [],
      "source": [
        "add(2,3) * add(3,4)"
      ]
    },
    {
      "cell_type": "code",
      "execution_count": null,
      "metadata": {
        "id": "jdO_CyKn996i"
      },
      "outputs": [],
      "source": [
        "add('Robert', 'Trypuz')"
      ]
    },
    {
      "cell_type": "markdown",
      "metadata": {
        "id": "Tn5vK6IWg7tL"
      },
      "source": [
        "### Funkcje i struktury danych\n",
        "\n",
        "Parametrem funkcji mogą być różne struktury danych. Poniższa funkcja zakłada, że parametrem będzie lista osób:\n"
      ]
    },
    {
      "cell_type": "code",
      "execution_count": null,
      "metadata": {
        "id": "mMnbauXRe2ZI"
      },
      "outputs": [],
      "source": [
        "def print_awart_winners(list_of_winners):\n",
        "  print('Oto nasi zwycięzcy:')\n",
        "  for winner in list_of_winners:\n",
        "    print('-', winner)\n",
        "\n",
        "print_awart_winners(['Jan z Warszawy', 'Maria z Grudziądza', 'Janina z Sokółki'])"
      ]
    },
    {
      "cell_type": "markdown",
      "metadata": {
        "id": "e6ZPrMwDxEfy"
      },
      "source": [
        "Funkcje mogą również zwracać różne struktury danych. Poniższa funkcja zwraca słownik utworzony z argumentów funkcji."
      ]
    },
    {
      "cell_type": "code",
      "execution_count": null,
      "metadata": {
        "id": "qhM1nMNey9kR"
      },
      "outputs": [],
      "source": [
        "def create_student_dict(name, surname, date_of_birth, place_of_birth):\n",
        "  student_dict = {'name': name,\n",
        "                  'surname': surname,\n",
        "                  'date_of_birth': date_of_birth,\n",
        "                  'place_of_birth': place_of_birth}\n",
        "  return student_dict"
      ]
    },
    {
      "cell_type": "code",
      "execution_count": null,
      "metadata": {
        "id": "VsW2bQ-u-Nsb"
      },
      "outputs": [],
      "source": [
        "create_student_dict('Robert', 'Trypuz', '12.07.1956', 'Lublin')"
      ]
    },
    {
      "cell_type": "code",
      "execution_count": null,
      "metadata": {
        "id": "du8YoQEGzx5A"
      },
      "outputs": [],
      "source": [
        "students_list = []\n",
        "students_list.append(create_student_dict('Jan', 'Kiełbasa', '12.12.2000', 'Białystok'))\n",
        "students_list.append(create_student_dict('Monika', 'Szacka', '16.04.2000', 'Lublin'))\n",
        "print(students_list)"
      ]
    },
    {
      "cell_type": "markdown",
      "metadata": {
        "id": "TqVqjcW1hgCP"
      },
      "source": [
        "### Przekazywanie dowolnej liczby argumentów\n",
        "\n",
        "Użyj:\n",
        "- `*` - dla krotki\n",
        "- `**` - dla słownika\n"
      ]
    },
    {
      "cell_type": "markdown",
      "metadata": {
        "id": "QXrRWqgCxk40"
      },
      "source": [
        "`*languages` poniżej to krotka z dowolną liczbą argumentów.\n"
      ]
    },
    {
      "cell_type": "code",
      "execution_count": null,
      "metadata": {
        "id": "X47o6TWb26bs"
      },
      "outputs": [],
      "source": [
        "def add_foreign_languages(*languages):\n",
        "  if len(languages) > 1:\n",
        "    print('Kandydat zna języki obce:')\n",
        "    for language in languages:\n",
        "      print(f'- {language}')\n",
        "  elif len(languages) == 1:\n",
        "    print(f'Kandydat zna język {languages[0]}.')\n",
        "  else:\n",
        "    print('Z języków obcych to kandyda ogarnia tylko te w swoich w butach.')\n",
        "\n",
        "add_foreign_languages('angielski')"
      ]
    },
    {
      "cell_type": "code",
      "execution_count": null,
      "metadata": {
        "id": "t7jEOWaeiN2p"
      },
      "outputs": [],
      "source": [
        "add_foreign_languages('angielski', 'hiszpański')"
      ]
    },
    {
      "cell_type": "markdown",
      "metadata": {
        "id": "yk5CYwkFxqY7"
      },
      "source": [
        "`**languages` to słownik z dowolną liczbą elementów.\n"
      ]
    },
    {
      "cell_type": "code",
      "execution_count": null,
      "metadata": {
        "id": "BfJsrTPZ5Oe1"
      },
      "outputs": [],
      "source": [
        "def add_foreign_languages(**languages):\n",
        "  if len(languages) > 1:\n",
        "    print('Kandydat zna języki obce:')\n",
        "    for language, level in languages.items():\n",
        "      print(f'- {language}: {level}')\n",
        "  elif len(languages) == 1:\n",
        "    print(f'Kandydat zna język {list(languages.keys())[0]} {languages[list(languages.keys())[0]]}.')\n",
        "  else:\n",
        "    print('Z języków obcych to kandyda ogarnia tylko te w swoich w butach.')\n",
        "\n",
        "add_foreign_languages(angielski='biegle', włoski='początkująco')"
      ]
    },
    {
      "cell_type": "markdown",
      "metadata": {
        "id": "X3no-OpWzFPH"
      },
      "source": [
        "### Styl i gracja\n",
        "\n",
        "Na koniec podsumujmy zalety używania funkcji oraz powiedzmy kilka słów o estetyce programowania funkcji.\n",
        "\n",
        "Zalet używania funkcji:\n",
        "\n",
        "- Nie powielamy kodu, co pozwala zmniejszyć rozmiar programu, zmniejsza ryzyko popełnienia błędów oraz ułatwia wprowadzanie zmian.\n",
        "- Wyodrębnienie fragmentu kodu pozwala lepiej go zrozumieć oraz wprowadzać odpowiednie poprawki, jeśli pojawi się taka potrzeba lub konieczność.\n",
        "- Kod zamknięty w funkcji jest łatwiejszy do czytania i zrozumienia. Nazwa funkcji nazywa szereg instrukcji w niej zawartych i w opisuje ich sens.\n",
        "\n",
        "Oto kilka wskazówek, które pozwolą ci poprawić styl twojego kodu:\n",
        "- Nazwa funkcji powinna jasno wskazywać co dana funkcja robi.\n",
        "- Nazwa funkcji powinna składać się z małych liter i jeśli składa się z kilku słów należy połączyć się znakiem `_`\n",
        "- W większych projektach i bardziej złożonych funkcjach zaleca się dodawania komentarza zaraz po definicji funkcji opisującego co funkcje robi, jakie przyjmuje parametry i co zwraca.\n",
        "- Podając wartość domyślną dla parametru nie stosuj spacji ani przed ani” po znaku `=`.\n",
        "Jeśli definiujesz kilka funkcji oddziel je dokładnie dwoma wierszami/liniami.\n",
        "\n",
        "\n",
        "Więcej informacji odnośnie stylu pisania kodu znajdziesz w <a href =\"https://peps.python.org/pep-0008/\">PEP 8 – Style Guide for Python Code</a>."
      ]
    },
    {
      "cell_type": "markdown",
      "metadata": {
        "id": "GC22efkV-eKC"
      },
      "source": [
        "## Klasy i obiekty\n",
        "\n",
        "\n",
        "<!-- Klasy i obiekty/egzemplarze…\n",
        " -->\n",
        "**Programowanie obiektowe** to paradygmat programowania, w którym używa się **obiektów**, zdefiniowanych za pomocą stanu, zapisanego w **atrybutach**, oraz zachowania (realizowane za pomocą metod). Często programy napisane w Pythonie są zbiorem takich obiektów.\n",
        "\n",
        "Obiekty są tworzone na podstawie definicji zwanej **klasą**. Klasa zawiera informacje, jakie właściwości powinien posiadać każdy egzemplarz tej klasy. Na podstawie jednej klasy można stworzyć wiele obiektów.\n",
        "\n",
        "Żeby zdefiniować klasę należy posłużyć się słowem kluczowym `class`, po którym musi zostać podana nazwa klasy. Standardowo nazwy klas rozpoczyna się dużą literą. Jak wspomnieliśmy wcześniej, obiekty mają stan i zachowanie. Do definiowania zachowania służą **metody**. Metody to funkcje dostępne w ramach klasy. Definiuje się je za pomocą słowa kluczowego `def`, a jako pierwszy parametr zawsze trzeba podać `self`, co pozwala na używanie referencji do obiektu w ramach danej metody. Bardziej szczegółowy opis użycia parametru `self` zostanie przedstawiony później."
      ]
    },
    {
      "cell_type": "markdown",
      "metadata": {
        "id": "bp7UBSvF_ay9"
      },
      "source": [
        "### Pierwsza klasa i jej obiekty (egzemplarze)"
      ]
    },
    {
      "cell_type": "markdown",
      "metadata": {
        "id": "D6zBLe082gRn"
      },
      "source": [
        "W celu uzyskanie większej kontroli nad procesem tworzenia nowego obiektu, należy użyć konstruktora. **Konstruktory** to specjalne metody, które zostają wykonane zaraz po utworzeniu obiektu. Służą do nadania obiektom początkowego stanu. Żeby utworzyć konstruktor należy użyć specjalnej nazwy metody `__init__`. Poniżej znajduje się klasa `Student` z definicją konstruktora."
      ]
    },
    {
      "cell_type": "code",
      "execution_count": null,
      "metadata": {
        "id": "WBoL1LgH-ktT"
      },
      "outputs": [],
      "source": [
        "class Student():\n",
        "  def __init__(self, name, surname, id):\n",
        "    self.name = name\n",
        "    self.surname = surname\n",
        "    self.id = id"
      ]
    },
    {
      "cell_type": "markdown",
      "metadata": {
        "id": "sUU7SLW62bVD"
      },
      "source": [
        "Oto egzemplarz klasy `Student`:"
      ]
    },
    {
      "cell_type": "code",
      "execution_count": null,
      "metadata": {
        "id": "7DoaNu-7-nYm"
      },
      "outputs": [],
      "source": [
        "student_1 = Student(name='Jan', surname='Kiełbasa', id=123456)"
      ]
    },
    {
      "cell_type": "markdown",
      "metadata": {
        "id": "gtgo5yBi3Yiz"
      },
      "source": [
        "Atrybuty:"
      ]
    },
    {
      "cell_type": "code",
      "execution_count": null,
      "metadata": {
        "id": "YGSffk6n-odz"
      },
      "outputs": [],
      "source": [
        "print(student_1.name)\n",
        "print(student_1.surname)\n",
        "print(student_1.id)"
      ]
    },
    {
      "cell_type": "markdown",
      "metadata": {
        "id": "24P3l9193fXg"
      },
      "source": [
        "Dodajmy do klasy `Student` dwie metody, które posłużą nam do zmiany wartości atrybutów:"
      ]
    },
    {
      "cell_type": "code",
      "execution_count": null,
      "metadata": {
        "id": "1j-DtcjB-2aU"
      },
      "outputs": [],
      "source": [
        "class Student():\n",
        "  def __init__(self, name, surname, id):\n",
        "    self.name = name\n",
        "    self.surname = surname\n",
        "    self.id = id\n",
        "\n",
        "  def change_name(self, new_name):\n",
        "    self.name = new_name\n",
        "\n",
        "  def change_surname(self, new_surname):\n",
        "    self.surname = new_surname"
      ]
    },
    {
      "cell_type": "code",
      "execution_count": null,
      "metadata": {
        "id": "NATcIdS9-76N"
      },
      "outputs": [],
      "source": [
        "student_1 = Student(name='Jan', surname='Kiełbasa', id=123456)\n",
        "student_1.change_name('Robert')\n",
        "print(student_1.name)"
      ]
    },
    {
      "cell_type": "markdown",
      "metadata": {
        "id": "pIkZdNB73vZL"
      },
      "source": [
        "Następnei dodamy dwie kolejne metody `get`:"
      ]
    },
    {
      "cell_type": "code",
      "execution_count": null,
      "metadata": {
        "id": "SKa3Kri3_D4k"
      },
      "outputs": [],
      "source": [
        "class Student():\n",
        "  def __init__(self, name, surname, id):\n",
        "    self.name = name\n",
        "    self.surname = surname\n",
        "    self.id = id\n",
        "\n",
        "  def change_name(self, new_name):\n",
        "    self.name = new_name\n",
        "\n",
        "  def change_surname(self, new_surname):\n",
        "    self.surname = new_surname\n",
        "\n",
        "  def get_name(self):\n",
        "    print(f'Student(ka) ma na imię {self.name}.')\n",
        "\n",
        "  def get_surname(self):\n",
        "    print(f'Student(ka) ma na nazwisko {self.surname}.')"
      ]
    },
    {
      "cell_type": "code",
      "execution_count": null,
      "metadata": {
        "id": "cwCDIBi1AfLQ"
      },
      "outputs": [],
      "source": [
        "student_1 = Student(name='Jan', surname='Kiełbasa', id=123456)\n",
        "student_2 = Student(name='Mariola', surname='Marchewka', id=789012)"
      ]
    },
    {
      "cell_type": "code",
      "execution_count": null,
      "metadata": {
        "id": "pEotlaBK4Q-8"
      },
      "outputs": [],
      "source": [
        "student_1.get_name()\n",
        "student_2.get_name()\n",
        "student_2.get_surname()\n",
        "student_2.change_surname('Pietrucha')\n",
        "student_2.get_surname()"
      ]
    },
    {
      "cell_type": "markdown",
      "metadata": {
        "id": "c9XU51yk92Go"
      },
      "source": [
        "### Metoda statyczna\n",
        "\n",
        "Czasami istnieje potrzeba zdefiniowania jednej metody albo jednej wartości dla wszystkich obiektów danej klasy (a nie dla poszczególnych obiektów). Tego typu elementy nazywa się statycznymi. Możemy więc mówić o metodach statycznym oraz o polach statycznych. Żeby zdefiniować metodę statyczną, należy użyć dekoratora `@staticmethod`. Statyczne atrybuty klasy definiuje się w treści klasy.\n",
        "\n",
        "Poniżej znajduje się fragment nowej wersji definicji klasy Student z wykorzystaniem metody statycznej status oraz z atrybutem statycznym `total`, które służą do zliczania liczby stworzonych obiektów klasy `Student`."
      ]
    },
    {
      "cell_type": "code",
      "execution_count": null,
      "metadata": {
        "id": "nM_yFAMF8LI8"
      },
      "outputs": [],
      "source": [
        "class Student():\n",
        "  total = 0\n",
        "\n",
        "  def __init__(self, name, surname, id):\n",
        "    self.name = name\n",
        "    self.surname = surname\n",
        "    self.id = id\n",
        "    Student.total += 1\n",
        "\n",
        "  def change_name(self, new_name):\n",
        "    self.name = new_name\n",
        "\n",
        "  def change_surname(self, new_surname):\n",
        "    self.surname = new_surname\n",
        "\n",
        "  def get_name(self):\n",
        "    print(f'Student(ka) ma na imię {self.name}.')\n",
        "\n",
        "  def get_surname(self):\n",
        "    print(f'Student(ka) ma na nazwisko {self.surname}.')\n",
        "\n",
        "  @staticmethod\n",
        "  def status():\n",
        "    print(f'Liczba utworzonych obiektów klasy Student: {Student.total}.')"
      ]
    },
    {
      "cell_type": "code",
      "execution_count": null,
      "metadata": {
        "id": "4COjb0E48ca-"
      },
      "outputs": [],
      "source": [
        "student_1 = Student(name='Jan', surname='Kiełbasa', id=123456)\n",
        "student_2 = Student(name='Mariola', surname='Marchewka', id=789012)"
      ]
    },
    {
      "cell_type": "code",
      "execution_count": null,
      "metadata": {
        "id": "luRXefS98haY"
      },
      "outputs": [],
      "source": [
        "Student.status()"
      ]
    },
    {
      "cell_type": "markdown",
      "metadata": {
        "id": "y8-KZikgnB4v"
      },
      "source": [
        "### Dziedziczenie\n",
        "\n",
        "Dziedziczenie pozwala odwołać się do metod innej klas, uważanej za bardziej ogólną. To odwołanie nazywa się dziedziczeniem (ang. *inheritance*). Poniżej zdefiniujemy klasę `StudentExternal`, która będzie dziedziczyć metody klasy `Student`."
      ]
    },
    {
      "cell_type": "code",
      "execution_count": null,
      "metadata": {
        "id": "Fu5DLzOinD8T"
      },
      "outputs": [],
      "source": [
        "class StudentExternal(Student):\n",
        "    pass"
      ]
    },
    {
      "cell_type": "code",
      "execution_count": null,
      "metadata": {
        "id": "kLFhz_-8oZKx"
      },
      "outputs": [],
      "source": [
        "student_external1 = StudentExternal('Nina', 'Kowalska', 4567896)"
      ]
    },
    {
      "cell_type": "code",
      "execution_count": null,
      "metadata": {
        "id": "80bOLZpQpa3L"
      },
      "outputs": [],
      "source": [
        "student_external1.get_name()"
      ]
    },
    {
      "cell_type": "markdown",
      "metadata": {
        "id": "CZqQdRmZC5rX"
      },
      "source": [
        "Dodamy do `StudentExternal` jeden nowy parametr `study_field`."
      ]
    },
    {
      "cell_type": "code",
      "execution_count": null,
      "metadata": {
        "id": "mTK0DcGDpqpR"
      },
      "outputs": [],
      "source": [
        "class StudentExternal(Student):\n",
        "  def __init__(self, name, surname, id, study_field):\n",
        "    super().__init__(name, surname, id)\n",
        "    self.study_field = study_field"
      ]
    },
    {
      "cell_type": "code",
      "execution_count": null,
      "metadata": {
        "id": "2Ns-uyxqqQbS"
      },
      "outputs": [],
      "source": [
        "student_external1 = StudentExternal('Nina', 'Kowalska', 4567896, 'AI')"
      ]
    },
    {
      "cell_type": "code",
      "execution_count": null,
      "metadata": {
        "id": "8EBxTwVpqWhq"
      },
      "outputs": [],
      "source": [
        "student_external1.get_surname()"
      ]
    },
    {
      "cell_type": "code",
      "execution_count": null,
      "metadata": {
        "id": "tSLtv_wmqbYN"
      },
      "outputs": [],
      "source": [
        "student_external1.study_field"
      ]
    },
    {
      "cell_type": "markdown",
      "metadata": {
        "id": "0BQgYvjPC5rX"
      },
      "source": [
        "Przeanalizuj poniższy kod. Klasa trójkątów równobocznych `EquilateralTriangle` dziedziczy po klasie `Triangle`."
      ]
    },
    {
      "cell_type": "code",
      "execution_count": null,
      "metadata": {
        "id": "hL03nZTUC5rX"
      },
      "outputs": [],
      "source": [
        "class Triangle:\n",
        "    def __init__(self, edge1, edge2, edge3):\n",
        "        self.edge1 = edge1\n",
        "        self.edge2 = edge2\n",
        "        self.edge3 = edge3\n",
        "\n",
        "    def perimeter(self):\n",
        "        return self.edge1 + self.edge2 + self.edge3\n",
        "\n",
        "class EquilateralTriangle(Triangle):\n",
        "    def __init__(self, edge):\n",
        "        super().__init__(edge, edge, edge)\n",
        "\n",
        "\n",
        "triangle = Triangle(3, 4, 5)\n",
        "print(f'Obwód trójkąta nierównobocznego: {triangle.perimeter()}.')\n",
        "\n",
        "equilateral_triangle = EquilateralTriangle(3)\n",
        "equilateral_triangle.perimeter()\n",
        "print(f'Obwód trójkąta równobocznego: {equilateral_triangle.perimeter()}.')"
      ]
    },
    {
      "cell_type": "markdown",
      "metadata": {
        "id": "e3_4YQoTqvk-"
      },
      "source": [
        "### Egzemplarze i atrybuty\n",
        "\n",
        "Atrybutem klasy może być obiekt, jak to demostruje poniższy przykład."
      ]
    },
    {
      "cell_type": "code",
      "execution_count": null,
      "metadata": {
        "id": "IsbpUdFfquzY"
      },
      "outputs": [],
      "source": [
        "class StudyField:\n",
        "  def __init__(self, field_name, dean):\n",
        "      self.field_name = field_name\n",
        "      self.dean = dean"
      ]
    },
    {
      "cell_type": "code",
      "execution_count": null,
      "metadata": {
        "id": "alRzPR4qrKWM"
      },
      "outputs": [],
      "source": [
        "cog_science = StudyField('Cognitive Science', 'Marek Lechniak')"
      ]
    },
    {
      "cell_type": "code",
      "execution_count": null,
      "metadata": {
        "id": "jL4RxI7Brcgd"
      },
      "outputs": [],
      "source": [
        "class StudentExternal(Student):\n",
        "  def __init__(self, name, surname, id, field_name, dean):\n",
        "    super().__init__(name, surname, id)\n",
        "    self.study_field = StudyField(field_name, dean)"
      ]
    },
    {
      "cell_type": "code",
      "execution_count": null,
      "metadata": {
        "id": "lZmv6Ziirlvh"
      },
      "outputs": [],
      "source": [
        "student_external1 = StudentExternal('Nina', 'Kowalska', 4567896, 'Cognitive Science', 'Marek Lechniak')"
      ]
    },
    {
      "cell_type": "code",
      "execution_count": null,
      "metadata": {
        "id": "Aafrxrcf17H0"
      },
      "outputs": [],
      "source": [
        "student_external1.study_field.dean"
      ]
    },
    {
      "cell_type": "markdown",
      "metadata": {
        "id": "mRVQjoVQ41mN"
      },
      "source": [
        "### Styl i gracja\n",
        "\n",
        "Nazwy klas powinny być w stylu `PascalCase`, tj. każde słowo w nazwie klasy powinno być zaczynać się dużą literą, a między słowami nie powinno być spacji.\n",
        "\n",
        "Nazwy obiektów (aka egzemplarzy) klas powinny stosować się do tych samych zasad co nazwy funkcji (czyli powinny składać się z małych liter, a słowa powinny być połączone znakiem `_`)."
      ]
    },
    {
      "cell_type": "markdown",
      "metadata": {
        "id": "WyMl0Hzfgs81"
      },
      "source": [
        "## Obiekty iterowalne i generatory"
      ]
    },
    {
      "cell_type": "markdown",
      "metadata": {
        "id": "eWZTCuW75z48"
      },
      "source": [
        "Obiekty iterowalne to obiekty, po których można iterować na przykład za pomocą pętli `for`. W Pythonie obiektami iterowalnymi są: napisy, listy, słowniki, zbiory, krotki oraz pliki. Liczby nie są. Zbadaj poniższy kod."
      ]
    },
    {
      "cell_type": "code",
      "execution_count": null,
      "metadata": {
        "id": "bpBlBKbOgwYR"
      },
      "outputs": [],
      "source": [
        "for letter in 'Ala ma kota':\n",
        "  print(letter)"
      ]
    },
    {
      "cell_type": "code",
      "execution_count": null,
      "metadata": {
        "id": "Xw58q4Y3g6EZ"
      },
      "outputs": [],
      "source": [
        "for number in 234:\n",
        "  print(number)"
      ]
    },
    {
      "cell_type": "markdown",
      "metadata": {
        "id": "BGf9SkqU6AFk"
      },
      "source": [
        "Druga z pętli `for` zwróci błąd `'int' object is not iterable`.\n",
        "\n",
        "### Iterator\n",
        "Aby obiekt był iterowalny musi mieć zaimplementowany specjalny protokół, na który składają się:\n",
        "- metoda `__iter__`, która zwraca iterator i informuje Pythona, że obiekt jest iterowalny\n",
        "- metoda `__next__`, która musi być zdefiniowana na iteratorze; jej zadaniem jest przechwytywanie i zwracanie kolejnych wartości albo zakończenie iterowania za pomogą wyjątku `StopIteration`.\n",
        "\n",
        "Poniższa klasa `MyIterator` wyjaśnia dziłanie iteratora."
      ]
    },
    {
      "cell_type": "code",
      "execution_count": null,
      "metadata": {
        "id": "4NO6C9iSh9nc"
      },
      "outputs": [],
      "source": [
        "class MyIterator():\n",
        "  def __init__(self, data):\n",
        "    print('[Konstruktor __init__ przyjmuje dane i inicjuje indeks.]')\n",
        "    self.data = data\n",
        "    self.index = 0\n",
        "\n",
        "  def __iter__(self):\n",
        "    print('[Metoda __iter__ informuje Pythona, że obiekt jest iterowalny.]')\n",
        "    return self\n",
        "\n",
        "  def __next__(self):\n",
        "    data_len = len(self.data)\n",
        "    if self.index >= data_len:\n",
        "      print(f'[Metoda __next__: StopIteration; nie ma indeksu {self.index}]')\n",
        "      raise StopIteration\n",
        "\n",
        "    value = self.data[self.index]\n",
        "    self.index += 1\n",
        "    print(f'[Metoda __next__: przechwytuje aktualną wartość \"{value}\" z indeksu {self.index-1}/{data_len-1} i przechodzi do indeksu {self.index}.]')\n",
        "    return value\n",
        "\n",
        "my_iterator = MyIterator(['A', 'B', 'C'])\n",
        "\n",
        "for item in my_iterator:\n",
        "    print(f'Zwracany wynik: {item}')"
      ]
    },
    {
      "cell_type": "markdown",
      "metadata": {
        "id": "1pwD32LwC5rY"
      },
      "source": [
        "### Generator\n",
        "\n",
        "Generator jest funkcją, która zwraca iterator. Generator wygląda jak zwyczaja funkcja i musi zawierać przynajmniej jedno wyrażenie `yield`, którego zadaniem jest przechowywanie stanu w jakim się funkcja znajduje po wywołaniu i przy kolejnym wywołaniu kontynuowanie od tego właśnie miejsca.\n",
        "\n",
        "Generatory automatycznie implementują `__iter__`, `__next__` i `StopIteration`, więc nie musimy się tym sami zajmować.\n",
        "\n",
        "Wywołanie generatora nie sprawia, że zaczyna się od razu wykonywać/iterować. Iterowanie odbywa się za pomocą `next()`. Po jednej iteracji generatu pauzuje i czeka na kolejne wywołanie (oczywiście zapamiętując stan w jakim się znajduje).\n"
      ]
    },
    {
      "cell_type": "code",
      "execution_count": null,
      "metadata": {
        "id": "B51dNKdJOEol"
      },
      "outputs": [],
      "source": [
        "def my_generator(my_list):\n",
        "    for i in range(len(my_list)):\n",
        "        yield my_list[i]\n",
        "\n",
        "for item in my_generator(['A', 'B', 'C']):\n",
        "    print(f'Zwracany wynik: {item}')"
      ]
    },
    {
      "cell_type": "code",
      "execution_count": null,
      "metadata": {
        "id": "y5nbPpeuC5rY"
      },
      "outputs": [],
      "source": [
        "my_gen = my_generator(['A', 'B', 'C'])\n",
        "\n",
        "print(next(my_gen))\n",
        "print(next(my_gen))\n",
        "print(next(my_gen))\n",
        "print(next(my_gen))"
      ]
    },
    {
      "cell_type": "markdown",
      "metadata": {
        "id": "u2iv_OqdC5rY"
      },
      "source": [
        "Generatory są bardzo pożyteczne, gdy chcemy uniknąć zaśmiecania pamięci komputera na przykład listami elementów,  szczególnie, gdy te listy są bardzo duże. Poniższy kod pokazuje różnicę między listą `my_list`, która tworzy są w całości i zajmuje miejsce w pamięci i generatorem `my_generator`, który nie generuje od razu calej listy liczb od 0 do 4.\n",
        "\n",
        "<!-- Iteratory można różnie utworzyć za pomocą wyrażeń generowanych (ang. generator expressions)\n",
        "https://peps.python.org/pep-0289/ -->"
      ]
    },
    {
      "cell_type": "code",
      "execution_count": null,
      "metadata": {
        "id": "cB-zTHdZC5rY"
      },
      "outputs": [],
      "source": [
        "my_list = [x for x in range(5)]\n",
        "my_generator = (x for x in range(5))\n",
        "\n",
        "for i in my_generator:\n",
        "    print(i)"
      ]
    },
    {
      "cell_type": "markdown",
      "metadata": {
        "id": "JeSjHARzYN4_"
      },
      "source": [
        "### Itertools\n",
        "\n",
        "Wbudowane iteratory\n",
        "\n",
        "`islice` - iterator przydatny do dzielenia obiektów iterowalnych, których nie da się inaczej podzielić (np. zbiory)"
      ]
    },
    {
      "cell_type": "code",
      "execution_count": null,
      "metadata": {
        "id": "s1pdlPysXaYi"
      },
      "outputs": [],
      "source": [
        "from itertools import islice\n",
        "for e in islice({1,2,3,4,5}, 3):\n",
        "  print(e)"
      ]
    }
  ],
  "metadata": {
    "colab": {
      "name": "python_dla_humanistow.ipynb",
      "provenance": [],
      "toc_visible": true,
      "include_colab_link": true
    },
    "kernelspec": {
      "display_name": "Python 3 (ipykernel)",
      "language": "python",
      "name": "python3"
    },
    "language_info": {
      "codemirror_mode": {
        "name": "ipython",
        "version": 3
      },
      "file_extension": ".py",
      "mimetype": "text/x-python",
      "name": "python",
      "nbconvert_exporter": "python",
      "pygments_lexer": "ipython3",
      "version": "3.11.3"
    }
  },
  "nbformat": 4,
  "nbformat_minor": 0
}